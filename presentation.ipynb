{
 "cells": [
  {
   "cell_type": "code",
   "execution_count": 1,
   "id": "2eb9c78f-974b-433c-bbea-e3a9182cbfd1",
   "metadata": {
    "slideshow": {
     "slide_type": "skip"
    }
   },
   "outputs": [],
   "source": [
    "import pandas as pd\n",
    "import numpy as np\n",
    "import statsmodels.api as sm\n",
    "import matplotlib.pyplot as plt"
   ]
  },
  {
   "cell_type": "code",
   "execution_count": 2,
   "id": "022c990f-e533-4cb7-a096-5cd69a69b872",
   "metadata": {
    "slideshow": {
     "slide_type": "skip"
    }
   },
   "outputs": [],
   "source": [
    "file_k = \"Data/kunden.csv\"\n",
    "file_b = \"Data/besucher.csv\"\n",
    "file_geo = \"Data/geo.txt\""
   ]
  },
  {
   "cell_type": "code",
   "execution_count": 3,
   "id": "aeaac61f-6e25-4a9f-9deb-5648f46f1bbc",
   "metadata": {
    "slideshow": {
     "slide_type": "skip"
    }
   },
   "outputs": [],
   "source": [
    "df_k = pd.read_csv(file_k, sep = \";\", decimal = \".\")\n",
    "df_b = pd.read_csv(file_b, sep = \";\", decimal = \",\")\n",
    "df_geo = pd.read_table(file_geo, delimiter = \"\\t\") #\\t muss verwendet werden damit die Spalten der Liste aus der txt Datei separiert werden können"
   ]
  },
  {
   "cell_type": "code",
   "execution_count": 4,
   "id": "c3cf130f-fd02-44ea-9f85-df809c1c9286",
   "metadata": {
    "slideshow": {
     "slide_type": "skip"
    }
   },
   "outputs": [
    {
     "data": {
      "text/html": [
       "<div>\n",
       "<style scoped>\n",
       "    .dataframe tbody tr th:only-of-type {\n",
       "        vertical-align: middle;\n",
       "    }\n",
       "\n",
       "    .dataframe tbody tr th {\n",
       "        vertical-align: top;\n",
       "    }\n",
       "\n",
       "    .dataframe thead th {\n",
       "        text-align: right;\n",
       "    }\n",
       "</style>\n",
       "<table border=\"1\" class=\"dataframe\">\n",
       "  <thead>\n",
       "    <tr style=\"text-align: right;\">\n",
       "      <th></th>\n",
       "      <th>KundeNr</th>\n",
       "      <th>Niederlassung</th>\n",
       "    </tr>\n",
       "  </thead>\n",
       "  <tbody>\n",
       "    <tr>\n",
       "      <th>0</th>\n",
       "      <td>K0001</td>\n",
       "      <td>Sachsen</td>\n",
       "    </tr>\n",
       "    <tr>\n",
       "      <th>1</th>\n",
       "      <td>K0002</td>\n",
       "      <td>NRW</td>\n",
       "    </tr>\n",
       "    <tr>\n",
       "      <th>2</th>\n",
       "      <td>K0003</td>\n",
       "      <td>Hessen</td>\n",
       "    </tr>\n",
       "    <tr>\n",
       "      <th>3</th>\n",
       "      <td>K0004</td>\n",
       "      <td>Bayern</td>\n",
       "    </tr>\n",
       "    <tr>\n",
       "      <th>4</th>\n",
       "      <td>K0005</td>\n",
       "      <td>Bayern</td>\n",
       "    </tr>\n",
       "    <tr>\n",
       "      <th>...</th>\n",
       "      <td>...</td>\n",
       "      <td>...</td>\n",
       "    </tr>\n",
       "    <tr>\n",
       "      <th>1990</th>\n",
       "      <td>K1991</td>\n",
       "      <td>Hessen</td>\n",
       "    </tr>\n",
       "    <tr>\n",
       "      <th>1991</th>\n",
       "      <td>K1992</td>\n",
       "      <td>Baden-Württemberg</td>\n",
       "    </tr>\n",
       "    <tr>\n",
       "      <th>1992</th>\n",
       "      <td>K1993</td>\n",
       "      <td>Nordrhein-Westfalen</td>\n",
       "    </tr>\n",
       "    <tr>\n",
       "      <th>1993</th>\n",
       "      <td>K1994</td>\n",
       "      <td>Berlin</td>\n",
       "    </tr>\n",
       "    <tr>\n",
       "      <th>1994</th>\n",
       "      <td>K1995</td>\n",
       "      <td>Berlin-Charlottenburg</td>\n",
       "    </tr>\n",
       "  </tbody>\n",
       "</table>\n",
       "<p>1995 rows × 2 columns</p>\n",
       "</div>"
      ],
      "text/plain": [
       "     KundeNr          Niederlassung\n",
       "0      K0001                Sachsen\n",
       "1      K0002                    NRW\n",
       "2      K0003                 Hessen\n",
       "3      K0004                 Bayern\n",
       "4      K0005                 Bayern\n",
       "...      ...                    ...\n",
       "1990   K1991                 Hessen\n",
       "1991   K1992      Baden-Württemberg\n",
       "1992   K1993    Nordrhein-Westfalen\n",
       "1993   K1994                 Berlin\n",
       "1994   K1995  Berlin-Charlottenburg\n",
       "\n",
       "[1995 rows x 2 columns]"
      ]
     },
     "execution_count": 4,
     "metadata": {},
     "output_type": "execute_result"
    }
   ],
   "source": [
    "df_geo"
   ]
  },
  {
   "cell_type": "code",
   "execution_count": 5,
   "id": "ecde18f7-cc36-4c1a-8b4b-c43c43aa9336",
   "metadata": {
    "slideshow": {
     "slide_type": "skip"
    }
   },
   "outputs": [
    {
     "data": {
      "text/html": [
       "<div>\n",
       "<style scoped>\n",
       "    .dataframe tbody tr th:only-of-type {\n",
       "        vertical-align: middle;\n",
       "    }\n",
       "\n",
       "    .dataframe tbody tr th {\n",
       "        vertical-align: top;\n",
       "    }\n",
       "\n",
       "    .dataframe thead th {\n",
       "        text-align: right;\n",
       "    }\n",
       "</style>\n",
       "<table border=\"1\" class=\"dataframe\">\n",
       "  <thead>\n",
       "    <tr style=\"text-align: right;\">\n",
       "      <th></th>\n",
       "      <th>Alter</th>\n",
       "      <th>Einkommen</th>\n",
       "      <th>Geschlecht</th>\n",
       "      <th>Zeit</th>\n",
       "      <th>KundeNr</th>\n",
       "      <th>Preis</th>\n",
       "    </tr>\n",
       "  </thead>\n",
       "  <tbody>\n",
       "    <tr>\n",
       "      <th>0</th>\n",
       "      <td>30</td>\n",
       "      <td>39919.095335</td>\n",
       "      <td>0.0</td>\n",
       "      <td>29.0</td>\n",
       "      <td>K1814</td>\n",
       "      <td>NaN</td>\n",
       "    </tr>\n",
       "    <tr>\n",
       "      <th>1</th>\n",
       "      <td>41</td>\n",
       "      <td>53430.673086</td>\n",
       "      <td>0.0</td>\n",
       "      <td>27.0</td>\n",
       "      <td>K1544</td>\n",
       "      <td>NaN</td>\n",
       "    </tr>\n",
       "    <tr>\n",
       "      <th>2</th>\n",
       "      <td>64</td>\n",
       "      <td>73163.216927</td>\n",
       "      <td>0.0</td>\n",
       "      <td>32.0</td>\n",
       "      <td>K1945</td>\n",
       "      <td>NaN</td>\n",
       "    </tr>\n",
       "    <tr>\n",
       "      <th>3</th>\n",
       "      <td>41</td>\n",
       "      <td>36761.482581</td>\n",
       "      <td>0.0</td>\n",
       "      <td>44.0</td>\n",
       "      <td>K1825</td>\n",
       "      <td>NaN</td>\n",
       "    </tr>\n",
       "    <tr>\n",
       "      <th>4</th>\n",
       "      <td>35</td>\n",
       "      <td>42684.331632</td>\n",
       "      <td>1.0</td>\n",
       "      <td>33.0</td>\n",
       "      <td>K1144</td>\n",
       "      <td>NaN</td>\n",
       "    </tr>\n",
       "    <tr>\n",
       "      <th>...</th>\n",
       "      <td>...</td>\n",
       "      <td>...</td>\n",
       "      <td>...</td>\n",
       "      <td>...</td>\n",
       "      <td>...</td>\n",
       "      <td>...</td>\n",
       "    </tr>\n",
       "    <tr>\n",
       "      <th>1990</th>\n",
       "      <td>70</td>\n",
       "      <td>69581.000000</td>\n",
       "      <td>1.0</td>\n",
       "      <td>51.0</td>\n",
       "      <td>K0467</td>\n",
       "      <td>103751.58</td>\n",
       "    </tr>\n",
       "    <tr>\n",
       "      <th>1991</th>\n",
       "      <td>38</td>\n",
       "      <td>48301.000000</td>\n",
       "      <td>1.0</td>\n",
       "      <td>33.0</td>\n",
       "      <td>K0122</td>\n",
       "      <td>64230.98</td>\n",
       "    </tr>\n",
       "    <tr>\n",
       "      <th>1992</th>\n",
       "      <td>67</td>\n",
       "      <td>63547.000000</td>\n",
       "      <td>1.0</td>\n",
       "      <td>41.0</td>\n",
       "      <td>K1045</td>\n",
       "      <td>103123.57</td>\n",
       "    </tr>\n",
       "    <tr>\n",
       "      <th>1993</th>\n",
       "      <td>37</td>\n",
       "      <td>32686.000000</td>\n",
       "      <td>1.0</td>\n",
       "      <td>36.0</td>\n",
       "      <td>K1096</td>\n",
       "      <td>49215.87</td>\n",
       "    </tr>\n",
       "    <tr>\n",
       "      <th>1994</th>\n",
       "      <td>55</td>\n",
       "      <td>71240.000000</td>\n",
       "      <td>1.0</td>\n",
       "      <td>49.0</td>\n",
       "      <td>K0861</td>\n",
       "      <td>106132.59</td>\n",
       "    </tr>\n",
       "  </tbody>\n",
       "</table>\n",
       "<p>1995 rows × 6 columns</p>\n",
       "</div>"
      ],
      "text/plain": [
       "      Alter     Einkommen  Geschlecht  Zeit KundeNr      Preis\n",
       "0        30  39919.095335         0.0  29.0   K1814        NaN\n",
       "1        41  53430.673086         0.0  27.0   K1544        NaN\n",
       "2        64  73163.216927         0.0  32.0   K1945        NaN\n",
       "3        41  36761.482581         0.0  44.0   K1825        NaN\n",
       "4        35  42684.331632         1.0  33.0   K1144        NaN\n",
       "...     ...           ...         ...   ...     ...        ...\n",
       "1990     70  69581.000000         1.0  51.0   K0467  103751.58\n",
       "1991     38  48301.000000         1.0  33.0   K0122   64230.98\n",
       "1992     67  63547.000000         1.0  41.0   K1045  103123.57\n",
       "1993     37  32686.000000         1.0  36.0   K1096   49215.87\n",
       "1994     55  71240.000000         1.0  49.0   K0861  106132.59\n",
       "\n",
       "[1995 rows x 6 columns]"
      ]
     },
     "execution_count": 5,
     "metadata": {},
     "output_type": "execute_result"
    }
   ],
   "source": [
    "df_b_k = pd.concat([df_b,df_k], ignore_index = True)\n",
    "df_b_k"
   ]
  },
  {
   "cell_type": "code",
   "execution_count": 6,
   "id": "b2453cc7-3c9e-4960-87ee-8555c2491443",
   "metadata": {
    "slideshow": {
     "slide_type": "skip"
    }
   },
   "outputs": [
    {
     "data": {
      "text/html": [
       "<div>\n",
       "<style scoped>\n",
       "    .dataframe tbody tr th:only-of-type {\n",
       "        vertical-align: middle;\n",
       "    }\n",
       "\n",
       "    .dataframe tbody tr th {\n",
       "        vertical-align: top;\n",
       "    }\n",
       "\n",
       "    .dataframe thead th {\n",
       "        text-align: right;\n",
       "    }\n",
       "</style>\n",
       "<table border=\"1\" class=\"dataframe\">\n",
       "  <thead>\n",
       "    <tr style=\"text-align: right;\">\n",
       "      <th></th>\n",
       "      <th>Alter</th>\n",
       "      <th>Einkommen</th>\n",
       "      <th>Geschlecht</th>\n",
       "      <th>Zeit</th>\n",
       "      <th>KundeNr</th>\n",
       "      <th>Preis</th>\n",
       "      <th>Niederlassung</th>\n",
       "    </tr>\n",
       "  </thead>\n",
       "  <tbody>\n",
       "    <tr>\n",
       "      <th>0</th>\n",
       "      <td>30</td>\n",
       "      <td>39919.095335</td>\n",
       "      <td>0.0</td>\n",
       "      <td>29.0</td>\n",
       "      <td>K1814</td>\n",
       "      <td>NaN</td>\n",
       "      <td>Bayern</td>\n",
       "    </tr>\n",
       "    <tr>\n",
       "      <th>1</th>\n",
       "      <td>41</td>\n",
       "      <td>53430.673086</td>\n",
       "      <td>0.0</td>\n",
       "      <td>27.0</td>\n",
       "      <td>K1544</td>\n",
       "      <td>NaN</td>\n",
       "      <td>Baden-Württemberg</td>\n",
       "    </tr>\n",
       "    <tr>\n",
       "      <th>2</th>\n",
       "      <td>64</td>\n",
       "      <td>73163.216927</td>\n",
       "      <td>0.0</td>\n",
       "      <td>32.0</td>\n",
       "      <td>K1945</td>\n",
       "      <td>NaN</td>\n",
       "      <td>Baden-Württemberg</td>\n",
       "    </tr>\n",
       "    <tr>\n",
       "      <th>3</th>\n",
       "      <td>41</td>\n",
       "      <td>36761.482581</td>\n",
       "      <td>0.0</td>\n",
       "      <td>44.0</td>\n",
       "      <td>K1825</td>\n",
       "      <td>NaN</td>\n",
       "      <td>Baden-Württemberg</td>\n",
       "    </tr>\n",
       "    <tr>\n",
       "      <th>4</th>\n",
       "      <td>35</td>\n",
       "      <td>42684.331632</td>\n",
       "      <td>1.0</td>\n",
       "      <td>33.0</td>\n",
       "      <td>K1144</td>\n",
       "      <td>NaN</td>\n",
       "      <td>Nordrhein-Westfalen</td>\n",
       "    </tr>\n",
       "    <tr>\n",
       "      <th>...</th>\n",
       "      <td>...</td>\n",
       "      <td>...</td>\n",
       "      <td>...</td>\n",
       "      <td>...</td>\n",
       "      <td>...</td>\n",
       "      <td>...</td>\n",
       "      <td>...</td>\n",
       "    </tr>\n",
       "    <tr>\n",
       "      <th>1990</th>\n",
       "      <td>70</td>\n",
       "      <td>69581.000000</td>\n",
       "      <td>1.0</td>\n",
       "      <td>51.0</td>\n",
       "      <td>K0467</td>\n",
       "      <td>103751.58</td>\n",
       "      <td>Thüringen</td>\n",
       "    </tr>\n",
       "    <tr>\n",
       "      <th>1991</th>\n",
       "      <td>38</td>\n",
       "      <td>48301.000000</td>\n",
       "      <td>1.0</td>\n",
       "      <td>33.0</td>\n",
       "      <td>K0122</td>\n",
       "      <td>64230.98</td>\n",
       "      <td>Niedersachsen</td>\n",
       "    </tr>\n",
       "    <tr>\n",
       "      <th>1992</th>\n",
       "      <td>67</td>\n",
       "      <td>63547.000000</td>\n",
       "      <td>1.0</td>\n",
       "      <td>41.0</td>\n",
       "      <td>K1045</td>\n",
       "      <td>103123.57</td>\n",
       "      <td>Berlin</td>\n",
       "    </tr>\n",
       "    <tr>\n",
       "      <th>1993</th>\n",
       "      <td>37</td>\n",
       "      <td>32686.000000</td>\n",
       "      <td>1.0</td>\n",
       "      <td>36.0</td>\n",
       "      <td>K1096</td>\n",
       "      <td>49215.87</td>\n",
       "      <td>Baden-Württemberg</td>\n",
       "    </tr>\n",
       "    <tr>\n",
       "      <th>1994</th>\n",
       "      <td>55</td>\n",
       "      <td>71240.000000</td>\n",
       "      <td>1.0</td>\n",
       "      <td>49.0</td>\n",
       "      <td>K0861</td>\n",
       "      <td>106132.59</td>\n",
       "      <td>Bayern</td>\n",
       "    </tr>\n",
       "  </tbody>\n",
       "</table>\n",
       "<p>1995 rows × 7 columns</p>\n",
       "</div>"
      ],
      "text/plain": [
       "      Alter     Einkommen  Geschlecht  Zeit KundeNr      Preis  \\\n",
       "0        30  39919.095335         0.0  29.0   K1814        NaN   \n",
       "1        41  53430.673086         0.0  27.0   K1544        NaN   \n",
       "2        64  73163.216927         0.0  32.0   K1945        NaN   \n",
       "3        41  36761.482581         0.0  44.0   K1825        NaN   \n",
       "4        35  42684.331632         1.0  33.0   K1144        NaN   \n",
       "...     ...           ...         ...   ...     ...        ...   \n",
       "1990     70  69581.000000         1.0  51.0   K0467  103751.58   \n",
       "1991     38  48301.000000         1.0  33.0   K0122   64230.98   \n",
       "1992     67  63547.000000         1.0  41.0   K1045  103123.57   \n",
       "1993     37  32686.000000         1.0  36.0   K1096   49215.87   \n",
       "1994     55  71240.000000         1.0  49.0   K0861  106132.59   \n",
       "\n",
       "            Niederlassung  \n",
       "0                  Bayern  \n",
       "1       Baden-Württemberg  \n",
       "2       Baden-Württemberg  \n",
       "3       Baden-Württemberg  \n",
       "4     Nordrhein-Westfalen  \n",
       "...                   ...  \n",
       "1990            Thüringen  \n",
       "1991        Niedersachsen  \n",
       "1992               Berlin  \n",
       "1993    Baden-Württemberg  \n",
       "1994               Bayern  \n",
       "\n",
       "[1995 rows x 7 columns]"
      ]
     },
     "execution_count": 6,
     "metadata": {},
     "output_type": "execute_result"
    }
   ],
   "source": [
    "df_bkg = pd.merge(df_b_k, df_geo, on = \"KundeNr\")\n",
    "df_bkg"
   ]
  },
  {
   "cell_type": "code",
   "execution_count": 7,
   "id": "2517565e-9e3f-4b9f-b874-b566bb23643a",
   "metadata": {
    "slideshow": {
     "slide_type": "skip"
    }
   },
   "outputs": [
    {
     "data": {
      "text/html": [
       "<div>\n",
       "<style scoped>\n",
       "    .dataframe tbody tr th:only-of-type {\n",
       "        vertical-align: middle;\n",
       "    }\n",
       "\n",
       "    .dataframe tbody tr th {\n",
       "        vertical-align: top;\n",
       "    }\n",
       "\n",
       "    .dataframe thead th {\n",
       "        text-align: right;\n",
       "    }\n",
       "</style>\n",
       "<table border=\"1\" class=\"dataframe\">\n",
       "  <thead>\n",
       "    <tr style=\"text-align: right;\">\n",
       "      <th></th>\n",
       "      <th>Alter</th>\n",
       "      <th>Einkommen</th>\n",
       "      <th>Geschlecht</th>\n",
       "      <th>Zeit</th>\n",
       "      <th>KundeNr</th>\n",
       "      <th>Preis</th>\n",
       "      <th>Niederlassung</th>\n",
       "      <th>Ausreißer</th>\n",
       "    </tr>\n",
       "  </thead>\n",
       "  <tbody>\n",
       "    <tr>\n",
       "      <th>0</th>\n",
       "      <td>30</td>\n",
       "      <td>39919.095335</td>\n",
       "      <td>0.0</td>\n",
       "      <td>29.0</td>\n",
       "      <td>K1814</td>\n",
       "      <td>NaN</td>\n",
       "      <td>Bayern</td>\n",
       "      <td>False</td>\n",
       "    </tr>\n",
       "    <tr>\n",
       "      <th>1</th>\n",
       "      <td>41</td>\n",
       "      <td>53430.673086</td>\n",
       "      <td>0.0</td>\n",
       "      <td>27.0</td>\n",
       "      <td>K1544</td>\n",
       "      <td>NaN</td>\n",
       "      <td>Baden-Württemberg</td>\n",
       "      <td>False</td>\n",
       "    </tr>\n",
       "    <tr>\n",
       "      <th>2</th>\n",
       "      <td>64</td>\n",
       "      <td>73163.216927</td>\n",
       "      <td>0.0</td>\n",
       "      <td>32.0</td>\n",
       "      <td>K1945</td>\n",
       "      <td>NaN</td>\n",
       "      <td>Baden-Württemberg</td>\n",
       "      <td>False</td>\n",
       "    </tr>\n",
       "    <tr>\n",
       "      <th>3</th>\n",
       "      <td>41</td>\n",
       "      <td>36761.482581</td>\n",
       "      <td>0.0</td>\n",
       "      <td>44.0</td>\n",
       "      <td>K1825</td>\n",
       "      <td>NaN</td>\n",
       "      <td>Baden-Württemberg</td>\n",
       "      <td>False</td>\n",
       "    </tr>\n",
       "    <tr>\n",
       "      <th>4</th>\n",
       "      <td>35</td>\n",
       "      <td>42684.331632</td>\n",
       "      <td>1.0</td>\n",
       "      <td>33.0</td>\n",
       "      <td>K1144</td>\n",
       "      <td>NaN</td>\n",
       "      <td>Nordrhein-Westfalen</td>\n",
       "      <td>False</td>\n",
       "    </tr>\n",
       "    <tr>\n",
       "      <th>...</th>\n",
       "      <td>...</td>\n",
       "      <td>...</td>\n",
       "      <td>...</td>\n",
       "      <td>...</td>\n",
       "      <td>...</td>\n",
       "      <td>...</td>\n",
       "      <td>...</td>\n",
       "      <td>...</td>\n",
       "    </tr>\n",
       "    <tr>\n",
       "      <th>1990</th>\n",
       "      <td>70</td>\n",
       "      <td>69581.000000</td>\n",
       "      <td>1.0</td>\n",
       "      <td>51.0</td>\n",
       "      <td>K0467</td>\n",
       "      <td>103751.58</td>\n",
       "      <td>Thüringen</td>\n",
       "      <td>False</td>\n",
       "    </tr>\n",
       "    <tr>\n",
       "      <th>1991</th>\n",
       "      <td>38</td>\n",
       "      <td>48301.000000</td>\n",
       "      <td>1.0</td>\n",
       "      <td>33.0</td>\n",
       "      <td>K0122</td>\n",
       "      <td>64230.98</td>\n",
       "      <td>Niedersachsen</td>\n",
       "      <td>False</td>\n",
       "    </tr>\n",
       "    <tr>\n",
       "      <th>1992</th>\n",
       "      <td>67</td>\n",
       "      <td>63547.000000</td>\n",
       "      <td>1.0</td>\n",
       "      <td>41.0</td>\n",
       "      <td>K1045</td>\n",
       "      <td>103123.57</td>\n",
       "      <td>Berlin</td>\n",
       "      <td>False</td>\n",
       "    </tr>\n",
       "    <tr>\n",
       "      <th>1993</th>\n",
       "      <td>37</td>\n",
       "      <td>32686.000000</td>\n",
       "      <td>1.0</td>\n",
       "      <td>36.0</td>\n",
       "      <td>K1096</td>\n",
       "      <td>49215.87</td>\n",
       "      <td>Baden-Württemberg</td>\n",
       "      <td>False</td>\n",
       "    </tr>\n",
       "    <tr>\n",
       "      <th>1994</th>\n",
       "      <td>55</td>\n",
       "      <td>71240.000000</td>\n",
       "      <td>1.0</td>\n",
       "      <td>49.0</td>\n",
       "      <td>K0861</td>\n",
       "      <td>106132.59</td>\n",
       "      <td>Bayern</td>\n",
       "      <td>False</td>\n",
       "    </tr>\n",
       "  </tbody>\n",
       "</table>\n",
       "<p>1995 rows × 8 columns</p>\n",
       "</div>"
      ],
      "text/plain": [
       "      Alter     Einkommen  Geschlecht  Zeit KundeNr      Preis  \\\n",
       "0        30  39919.095335         0.0  29.0   K1814        NaN   \n",
       "1        41  53430.673086         0.0  27.0   K1544        NaN   \n",
       "2        64  73163.216927         0.0  32.0   K1945        NaN   \n",
       "3        41  36761.482581         0.0  44.0   K1825        NaN   \n",
       "4        35  42684.331632         1.0  33.0   K1144        NaN   \n",
       "...     ...           ...         ...   ...     ...        ...   \n",
       "1990     70  69581.000000         1.0  51.0   K0467  103751.58   \n",
       "1991     38  48301.000000         1.0  33.0   K0122   64230.98   \n",
       "1992     67  63547.000000         1.0  41.0   K1045  103123.57   \n",
       "1993     37  32686.000000         1.0  36.0   K1096   49215.87   \n",
       "1994     55  71240.000000         1.0  49.0   K0861  106132.59   \n",
       "\n",
       "            Niederlassung  Ausreißer  \n",
       "0                  Bayern      False  \n",
       "1       Baden-Württemberg      False  \n",
       "2       Baden-Württemberg      False  \n",
       "3       Baden-Württemberg      False  \n",
       "4     Nordrhein-Westfalen      False  \n",
       "...                   ...        ...  \n",
       "1990            Thüringen      False  \n",
       "1991        Niedersachsen      False  \n",
       "1992               Berlin      False  \n",
       "1993    Baden-Württemberg      False  \n",
       "1994               Bayern      False  \n",
       "\n",
       "[1995 rows x 8 columns]"
      ]
     },
     "execution_count": 7,
     "metadata": {},
     "output_type": "execute_result"
    }
   ],
   "source": [
    "# Berechnung von Q1 (25. Perzentil), Q3 (75. Perzentil) und IQR\n",
    "Q1 = df_bkg['Einkommen'].quantile(0.25)\n",
    "Q3 = df_bkg['Einkommen'].quantile(0.75)\n",
    "IQR = Q3 - Q1\n",
    "\n",
    "# Berechnung der Ausreißer-Grenzen\n",
    "untere_grenze = Q1 - 1.6 * IQR #Faktor auf die Ausreißer nach eigenem Ermessen angepasst\n",
    "obere_grenze = Q3 + 5 * IQR #Faktor auf die Ausreißer nach eigenem Ermessen angepasst\n",
    "\n",
    "# Identifizierung von Ausreißern\n",
    "df_bkg['Ausreißer'] = (df_bkg['Einkommen'] < untere_grenze) | (df_bkg['Einkommen'] > obere_grenze)\n",
    "\n",
    "df_bkg"
   ]
  },
  {
   "cell_type": "code",
   "execution_count": 8,
   "id": "16fd69f1-3c27-4e5e-abcf-a4f072fb3d44",
   "metadata": {
    "slideshow": {
     "slide_type": "skip"
    }
   },
   "outputs": [
    {
     "data": {
      "text/plain": [
       "9204.719763225141"
      ]
     },
     "execution_count": 8,
     "metadata": {},
     "output_type": "execute_result"
    }
   ],
   "source": [
    "untere_grenze"
   ]
  },
  {
   "cell_type": "code",
   "execution_count": 9,
   "id": "916e0971-0e30-4a03-a422-bef92e854ba6",
   "metadata": {
    "slideshow": {
     "slide_type": "skip"
    }
   },
   "outputs": [
    {
     "data": {
      "text/plain": [
       "59104.51301372704"
      ]
     },
     "execution_count": 9,
     "metadata": {},
     "output_type": "execute_result"
    }
   ],
   "source": [
    "#Median des Einkommens bestimmen \n",
    "einkommen_medianwert = df_bkg[\"Einkommen\"].median()\n",
    "einkommen_medianwert "
   ]
  },
  {
   "cell_type": "code",
   "execution_count": 10,
   "id": "329c831e-15fa-463e-9d70-3404132ba6dd",
   "metadata": {
    "slideshow": {
     "slide_type": "skip"
    }
   },
   "outputs": [
    {
     "data": {
      "text/plain": [
       "59104.51301372704"
      ]
     },
     "execution_count": 10,
     "metadata": {},
     "output_type": "execute_result"
    }
   ],
   "source": [
    "#Überprüfung des Median\n",
    "Q2 = df_bkg['Einkommen'].quantile(0.5)\n",
    "Q2"
   ]
  },
  {
   "cell_type": "code",
   "execution_count": 11,
   "id": "a54694ff-e7e7-4c72-98a6-6d26a5af5f10",
   "metadata": {
    "slideshow": {
     "slide_type": "skip"
    }
   },
   "outputs": [],
   "source": [
    "#Ersetzen der oberen und unteren Werte\n",
    "df_bkg.loc[df_bkg[\"Einkommen\"] < untere_grenze, \"Einkommen\"] = einkommen_medianwert\n",
    "df_bkg.loc[df_bkg[\"Einkommen\"] > obere_grenze, \"Einkommen\"] = einkommen_medianwert"
   ]
  },
  {
   "cell_type": "code",
   "execution_count": 12,
   "id": "592c0acc-c3f3-4ffa-a39f-33cfcff9668d",
   "metadata": {
    "slideshow": {
     "slide_type": "skip"
    }
   },
   "outputs": [
    {
     "data": {
      "text/plain": [
       "Alter                             68\n",
       "Einkommen               59104.513014\n",
       "Geschlecht                       0.0\n",
       "Zeit                            52.0\n",
       "KundeNr                        K0701\n",
       "Preis                       87209.72\n",
       "Niederlassung    Nordrhein-Westfalen\n",
       "Ausreißer                       True\n",
       "Name: 1299, dtype: object"
      ]
     },
     "execution_count": 12,
     "metadata": {},
     "output_type": "execute_result"
    }
   ],
   "source": [
    "df_bkg.iloc[1299]"
   ]
  },
  {
   "cell_type": "code",
   "execution_count": 13,
   "id": "9442c022-fc9d-4bf9-a6f4-40742867e3b4",
   "metadata": {
    "slideshow": {
     "slide_type": "skip"
    }
   },
   "outputs": [
    {
     "data": {
      "text/plain": [
       "59104.51301372704"
      ]
     },
     "execution_count": 13,
     "metadata": {},
     "output_type": "execute_result"
    }
   ],
   "source": [
    "df_bkg.iloc[1857, 1]"
   ]
  },
  {
   "cell_type": "code",
   "execution_count": 14,
   "id": "be58ca57-242d-43c4-98d2-98f2570a1b07",
   "metadata": {
    "slideshow": {
     "slide_type": "skip"
    }
   },
   "outputs": [
    {
     "data": {
      "text/html": [
       "<div>\n",
       "<style scoped>\n",
       "    .dataframe tbody tr th:only-of-type {\n",
       "        vertical-align: middle;\n",
       "    }\n",
       "\n",
       "    .dataframe tbody tr th {\n",
       "        vertical-align: top;\n",
       "    }\n",
       "\n",
       "    .dataframe thead th {\n",
       "        text-align: right;\n",
       "    }\n",
       "</style>\n",
       "<table border=\"1\" class=\"dataframe\">\n",
       "  <thead>\n",
       "    <tr style=\"text-align: right;\">\n",
       "      <th></th>\n",
       "      <th>Alter</th>\n",
       "      <th>Einkommen</th>\n",
       "      <th>Geschlecht</th>\n",
       "      <th>Zeit</th>\n",
       "      <th>KundeNr</th>\n",
       "      <th>Preis</th>\n",
       "      <th>Niederlassung</th>\n",
       "      <th>Ausreißer</th>\n",
       "    </tr>\n",
       "  </thead>\n",
       "  <tbody>\n",
       "    <tr>\n",
       "      <th>1001</th>\n",
       "      <td>41</td>\n",
       "      <td>46542.0</td>\n",
       "      <td>NaN</td>\n",
       "      <td>40.0</td>\n",
       "      <td>K0024</td>\n",
       "      <td>63477.00</td>\n",
       "      <td>Baden-Württemberg</td>\n",
       "      <td>False</td>\n",
       "    </tr>\n",
       "    <tr>\n",
       "      <th>1203</th>\n",
       "      <td>53</td>\n",
       "      <td>49798.0</td>\n",
       "      <td>NaN</td>\n",
       "      <td>39.0</td>\n",
       "      <td>K0166</td>\n",
       "      <td>61329.51</td>\n",
       "      <td>Nordrhein-Westfalen</td>\n",
       "      <td>False</td>\n",
       "    </tr>\n",
       "    <tr>\n",
       "      <th>1479</th>\n",
       "      <td>64</td>\n",
       "      <td>83452.0</td>\n",
       "      <td>NaN</td>\n",
       "      <td>62.0</td>\n",
       "      <td>K0090</td>\n",
       "      <td>133180.70</td>\n",
       "      <td>Niedersachsen</td>\n",
       "      <td>False</td>\n",
       "    </tr>\n",
       "    <tr>\n",
       "      <th>1503</th>\n",
       "      <td>52</td>\n",
       "      <td>66602.0</td>\n",
       "      <td>NaN</td>\n",
       "      <td>45.0</td>\n",
       "      <td>K0325</td>\n",
       "      <td>98756.07</td>\n",
       "      <td>Bayern</td>\n",
       "      <td>False</td>\n",
       "    </tr>\n",
       "    <tr>\n",
       "      <th>1622</th>\n",
       "      <td>67</td>\n",
       "      <td>91461.0</td>\n",
       "      <td>NaN</td>\n",
       "      <td>66.0</td>\n",
       "      <td>K0790</td>\n",
       "      <td>131748.07</td>\n",
       "      <td>Berlin</td>\n",
       "      <td>False</td>\n",
       "    </tr>\n",
       "  </tbody>\n",
       "</table>\n",
       "</div>"
      ],
      "text/plain": [
       "      Alter  Einkommen  Geschlecht  Zeit KundeNr      Preis  \\\n",
       "1001     41    46542.0         NaN  40.0   K0024   63477.00   \n",
       "1203     53    49798.0         NaN  39.0   K0166   61329.51   \n",
       "1479     64    83452.0         NaN  62.0   K0090  133180.70   \n",
       "1503     52    66602.0         NaN  45.0   K0325   98756.07   \n",
       "1622     67    91461.0         NaN  66.0   K0790  131748.07   \n",
       "\n",
       "            Niederlassung  Ausreißer  \n",
       "1001    Baden-Württemberg      False  \n",
       "1203  Nordrhein-Westfalen      False  \n",
       "1479        Niedersachsen      False  \n",
       "1503               Bayern      False  \n",
       "1622               Berlin      False  "
      ]
     },
     "execution_count": 14,
     "metadata": {},
     "output_type": "execute_result"
    }
   ],
   "source": [
    "#Identifikation fehlender Werte bei Kategorie Geschlecht\n",
    "geschlecht_NAN = df_bkg[df_bkg[\"Geschlecht\"].isna()]\n",
    "geschlecht_NAN"
   ]
  },
  {
   "cell_type": "code",
   "execution_count": 15,
   "id": "959283b9-b3db-4d8f-8183-b1d270e438f5",
   "metadata": {
    "slideshow": {
     "slide_type": "skip"
    }
   },
   "outputs": [
    {
     "data": {
      "text/plain": [
       "1.0"
      ]
     },
     "execution_count": 15,
     "metadata": {},
     "output_type": "execute_result"
    }
   ],
   "source": [
    "#Identifikation des Modalwert bei der Kategorie Geschlecht\n",
    "geschlecht_modalwert = df_bkg[\"Geschlecht\"].mode()[0]\n",
    "geschlecht_modalwert "
   ]
  },
  {
   "cell_type": "code",
   "execution_count": 16,
   "id": "b60f4309-9936-4e8b-bc1a-d5a706c5013e",
   "metadata": {
    "slideshow": {
     "slide_type": "skip"
    }
   },
   "outputs": [
    {
     "data": {
      "text/html": [
       "<div>\n",
       "<style scoped>\n",
       "    .dataframe tbody tr th:only-of-type {\n",
       "        vertical-align: middle;\n",
       "    }\n",
       "\n",
       "    .dataframe tbody tr th {\n",
       "        vertical-align: top;\n",
       "    }\n",
       "\n",
       "    .dataframe thead th {\n",
       "        text-align: right;\n",
       "    }\n",
       "</style>\n",
       "<table border=\"1\" class=\"dataframe\">\n",
       "  <thead>\n",
       "    <tr style=\"text-align: right;\">\n",
       "      <th></th>\n",
       "      <th>Alter</th>\n",
       "      <th>Einkommen</th>\n",
       "      <th>Geschlecht</th>\n",
       "      <th>Zeit</th>\n",
       "      <th>KundeNr</th>\n",
       "      <th>Preis</th>\n",
       "      <th>Niederlassung</th>\n",
       "      <th>Ausreißer</th>\n",
       "    </tr>\n",
       "  </thead>\n",
       "  <tbody>\n",
       "    <tr>\n",
       "      <th>0</th>\n",
       "      <td>30</td>\n",
       "      <td>39919.095335</td>\n",
       "      <td>0.0</td>\n",
       "      <td>29.0</td>\n",
       "      <td>K1814</td>\n",
       "      <td>NaN</td>\n",
       "      <td>Bayern</td>\n",
       "      <td>False</td>\n",
       "    </tr>\n",
       "    <tr>\n",
       "      <th>1</th>\n",
       "      <td>41</td>\n",
       "      <td>53430.673086</td>\n",
       "      <td>0.0</td>\n",
       "      <td>27.0</td>\n",
       "      <td>K1544</td>\n",
       "      <td>NaN</td>\n",
       "      <td>Baden-Württemberg</td>\n",
       "      <td>False</td>\n",
       "    </tr>\n",
       "    <tr>\n",
       "      <th>2</th>\n",
       "      <td>64</td>\n",
       "      <td>73163.216927</td>\n",
       "      <td>0.0</td>\n",
       "      <td>32.0</td>\n",
       "      <td>K1945</td>\n",
       "      <td>NaN</td>\n",
       "      <td>Baden-Württemberg</td>\n",
       "      <td>False</td>\n",
       "    </tr>\n",
       "    <tr>\n",
       "      <th>3</th>\n",
       "      <td>41</td>\n",
       "      <td>36761.482581</td>\n",
       "      <td>0.0</td>\n",
       "      <td>44.0</td>\n",
       "      <td>K1825</td>\n",
       "      <td>NaN</td>\n",
       "      <td>Baden-Württemberg</td>\n",
       "      <td>False</td>\n",
       "    </tr>\n",
       "    <tr>\n",
       "      <th>4</th>\n",
       "      <td>35</td>\n",
       "      <td>42684.331632</td>\n",
       "      <td>1.0</td>\n",
       "      <td>33.0</td>\n",
       "      <td>K1144</td>\n",
       "      <td>NaN</td>\n",
       "      <td>Nordrhein-Westfalen</td>\n",
       "      <td>False</td>\n",
       "    </tr>\n",
       "    <tr>\n",
       "      <th>...</th>\n",
       "      <td>...</td>\n",
       "      <td>...</td>\n",
       "      <td>...</td>\n",
       "      <td>...</td>\n",
       "      <td>...</td>\n",
       "      <td>...</td>\n",
       "      <td>...</td>\n",
       "      <td>...</td>\n",
       "    </tr>\n",
       "    <tr>\n",
       "      <th>1990</th>\n",
       "      <td>70</td>\n",
       "      <td>69581.000000</td>\n",
       "      <td>1.0</td>\n",
       "      <td>51.0</td>\n",
       "      <td>K0467</td>\n",
       "      <td>103751.58</td>\n",
       "      <td>Thüringen</td>\n",
       "      <td>False</td>\n",
       "    </tr>\n",
       "    <tr>\n",
       "      <th>1991</th>\n",
       "      <td>38</td>\n",
       "      <td>48301.000000</td>\n",
       "      <td>1.0</td>\n",
       "      <td>33.0</td>\n",
       "      <td>K0122</td>\n",
       "      <td>64230.98</td>\n",
       "      <td>Niedersachsen</td>\n",
       "      <td>False</td>\n",
       "    </tr>\n",
       "    <tr>\n",
       "      <th>1992</th>\n",
       "      <td>67</td>\n",
       "      <td>63547.000000</td>\n",
       "      <td>1.0</td>\n",
       "      <td>41.0</td>\n",
       "      <td>K1045</td>\n",
       "      <td>103123.57</td>\n",
       "      <td>Berlin</td>\n",
       "      <td>False</td>\n",
       "    </tr>\n",
       "    <tr>\n",
       "      <th>1993</th>\n",
       "      <td>37</td>\n",
       "      <td>32686.000000</td>\n",
       "      <td>1.0</td>\n",
       "      <td>36.0</td>\n",
       "      <td>K1096</td>\n",
       "      <td>49215.87</td>\n",
       "      <td>Baden-Württemberg</td>\n",
       "      <td>False</td>\n",
       "    </tr>\n",
       "    <tr>\n",
       "      <th>1994</th>\n",
       "      <td>55</td>\n",
       "      <td>71240.000000</td>\n",
       "      <td>1.0</td>\n",
       "      <td>49.0</td>\n",
       "      <td>K0861</td>\n",
       "      <td>106132.59</td>\n",
       "      <td>Bayern</td>\n",
       "      <td>False</td>\n",
       "    </tr>\n",
       "  </tbody>\n",
       "</table>\n",
       "<p>1995 rows × 8 columns</p>\n",
       "</div>"
      ],
      "text/plain": [
       "      Alter     Einkommen  Geschlecht  Zeit KundeNr      Preis  \\\n",
       "0        30  39919.095335         0.0  29.0   K1814        NaN   \n",
       "1        41  53430.673086         0.0  27.0   K1544        NaN   \n",
       "2        64  73163.216927         0.0  32.0   K1945        NaN   \n",
       "3        41  36761.482581         0.0  44.0   K1825        NaN   \n",
       "4        35  42684.331632         1.0  33.0   K1144        NaN   \n",
       "...     ...           ...         ...   ...     ...        ...   \n",
       "1990     70  69581.000000         1.0  51.0   K0467  103751.58   \n",
       "1991     38  48301.000000         1.0  33.0   K0122   64230.98   \n",
       "1992     67  63547.000000         1.0  41.0   K1045  103123.57   \n",
       "1993     37  32686.000000         1.0  36.0   K1096   49215.87   \n",
       "1994     55  71240.000000         1.0  49.0   K0861  106132.59   \n",
       "\n",
       "            Niederlassung  Ausreißer  \n",
       "0                  Bayern      False  \n",
       "1       Baden-Württemberg      False  \n",
       "2       Baden-Württemberg      False  \n",
       "3       Baden-Württemberg      False  \n",
       "4     Nordrhein-Westfalen      False  \n",
       "...                   ...        ...  \n",
       "1990            Thüringen      False  \n",
       "1991        Niedersachsen      False  \n",
       "1992               Berlin      False  \n",
       "1993    Baden-Württemberg      False  \n",
       "1994               Bayern      False  \n",
       "\n",
       "[1995 rows x 8 columns]"
      ]
     },
     "execution_count": 16,
     "metadata": {},
     "output_type": "execute_result"
    }
   ],
   "source": [
    "#Geschlechtswerte ohne Eintrag durch Modalwert ersetzen\n",
    "df_bkg[\"Geschlecht\"] = df_bkg[\"Geschlecht\"].fillna(geschlecht_modalwert)\n",
    "df_bkg"
   ]
  },
  {
   "cell_type": "code",
   "execution_count": 17,
   "id": "c69a878e-3462-41f1-a3fd-ebc70563a5bb",
   "metadata": {
    "slideshow": {
     "slide_type": "skip"
    }
   },
   "outputs": [
    {
     "data": {
      "text/html": [
       "<div>\n",
       "<style scoped>\n",
       "    .dataframe tbody tr th:only-of-type {\n",
       "        vertical-align: middle;\n",
       "    }\n",
       "\n",
       "    .dataframe tbody tr th {\n",
       "        vertical-align: top;\n",
       "    }\n",
       "\n",
       "    .dataframe thead th {\n",
       "        text-align: right;\n",
       "    }\n",
       "</style>\n",
       "<table border=\"1\" class=\"dataframe\">\n",
       "  <thead>\n",
       "    <tr style=\"text-align: right;\">\n",
       "      <th></th>\n",
       "      <th>Alter</th>\n",
       "      <th>Einkommen</th>\n",
       "      <th>Geschlecht</th>\n",
       "      <th>Zeit</th>\n",
       "      <th>KundeNr</th>\n",
       "      <th>Preis</th>\n",
       "      <th>Niederlassung</th>\n",
       "      <th>Ausreißer</th>\n",
       "    </tr>\n",
       "  </thead>\n",
       "  <tbody>\n",
       "    <tr>\n",
       "      <th>1033</th>\n",
       "      <td>100</td>\n",
       "      <td>88749.0</td>\n",
       "      <td>0.0</td>\n",
       "      <td>64.0</td>\n",
       "      <td>K0494</td>\n",
       "      <td>119134.23</td>\n",
       "      <td>Bayern</td>\n",
       "      <td>False</td>\n",
       "    </tr>\n",
       "    <tr>\n",
       "      <th>1602</th>\n",
       "      <td>120</td>\n",
       "      <td>61857.0</td>\n",
       "      <td>1.0</td>\n",
       "      <td>52.0</td>\n",
       "      <td>K0039</td>\n",
       "      <td>104214.07</td>\n",
       "      <td>Baden-Württemberg</td>\n",
       "      <td>False</td>\n",
       "    </tr>\n",
       "  </tbody>\n",
       "</table>\n",
       "</div>"
      ],
      "text/plain": [
       "      Alter  Einkommen  Geschlecht  Zeit KundeNr      Preis  \\\n",
       "1033    100    88749.0         0.0  64.0   K0494  119134.23   \n",
       "1602    120    61857.0         1.0  52.0   K0039  104214.07   \n",
       "\n",
       "          Niederlassung  Ausreißer  \n",
       "1033             Bayern      False  \n",
       "1602  Baden-Württemberg      False  "
      ]
     },
     "execution_count": 17,
     "metadata": {},
     "output_type": "execute_result"
    }
   ],
   "source": [
    "#Identifikation von wahrscheinlich falschen oder gar illegalen Altersangaebn\n",
    "unglaubwürdiges_alter = df_bkg[(df_bkg[\"Alter\"] > 90) | (df_bkg[\"Alter\"] < 18)]\n",
    "unglaubwürdiges_alter"
   ]
  },
  {
   "cell_type": "code",
   "execution_count": 18,
   "id": "58bd2e74-552c-448b-b471-86eb2140e02a",
   "metadata": {
    "slideshow": {
     "slide_type": "skip"
    }
   },
   "outputs": [
    {
     "data": {
      "text/plain": [
       "51.0"
      ]
     },
     "execution_count": 18,
     "metadata": {},
     "output_type": "execute_result"
    }
   ],
   "source": [
    "#Identifikation des Modalwert bei der Kategorie Alter\n",
    "alter_medianwert = df_bkg[\"Alter\"].median()\n",
    "alter_medianwert "
   ]
  },
  {
   "cell_type": "code",
   "execution_count": 19,
   "id": "65981360-4813-4745-ad33-b84c5e6d89cd",
   "metadata": {
    "slideshow": {
     "slide_type": "skip"
    }
   },
   "outputs": [
    {
     "data": {
      "text/plain": [
       "Alter                           51\n",
       "Einkommen                  61857.0\n",
       "Geschlecht                     1.0\n",
       "Zeit                          52.0\n",
       "KundeNr                      K0039\n",
       "Preis                    104214.07\n",
       "Niederlassung    Baden-Württemberg\n",
       "Ausreißer                    False\n",
       "Name: 1602, dtype: object"
      ]
     },
     "execution_count": 19,
     "metadata": {},
     "output_type": "execute_result"
    }
   ],
   "source": [
    "#Bereinigung Alter und Überprüfung\n",
    "df_bkg.loc[df_bkg[\"Alter\"] > 90, \"Alter\"] = alter_medianwert\n",
    "df_bkg.iloc[1602]"
   ]
  },
  {
   "cell_type": "code",
   "execution_count": 20,
   "id": "9545bd8c-599e-45a6-b14c-cd361052ede1",
   "metadata": {
    "slideshow": {
     "slide_type": "skip"
    }
   },
   "outputs": [
    {
     "data": {
      "text/html": [
       "<div>\n",
       "<style scoped>\n",
       "    .dataframe tbody tr th:only-of-type {\n",
       "        vertical-align: middle;\n",
       "    }\n",
       "\n",
       "    .dataframe tbody tr th {\n",
       "        vertical-align: top;\n",
       "    }\n",
       "\n",
       "    .dataframe thead th {\n",
       "        text-align: right;\n",
       "    }\n",
       "</style>\n",
       "<table border=\"1\" class=\"dataframe\">\n",
       "  <thead>\n",
       "    <tr style=\"text-align: right;\">\n",
       "      <th></th>\n",
       "      <th>Alter</th>\n",
       "      <th>Einkommen</th>\n",
       "      <th>Geschlecht</th>\n",
       "      <th>Zeit</th>\n",
       "      <th>KundeNr</th>\n",
       "      <th>Preis</th>\n",
       "      <th>Niederlassung</th>\n",
       "      <th>Ausreißer</th>\n",
       "    </tr>\n",
       "  </thead>\n",
       "  <tbody>\n",
       "    <tr>\n",
       "      <th>299</th>\n",
       "      <td>44</td>\n",
       "      <td>54025.601631</td>\n",
       "      <td>1.0</td>\n",
       "      <td>30.0</td>\n",
       "      <td>K1987</td>\n",
       "      <td>NaN</td>\n",
       "      <td>NRW</td>\n",
       "      <td>False</td>\n",
       "    </tr>\n",
       "    <tr>\n",
       "      <th>491</th>\n",
       "      <td>49</td>\n",
       "      <td>54754.525450</td>\n",
       "      <td>1.0</td>\n",
       "      <td>44.0</td>\n",
       "      <td>K1995</td>\n",
       "      <td>NaN</td>\n",
       "      <td>Berlin-Charlottenburg</td>\n",
       "      <td>False</td>\n",
       "    </tr>\n",
       "    <tr>\n",
       "      <th>587</th>\n",
       "      <td>63</td>\n",
       "      <td>84772.480847</td>\n",
       "      <td>1.0</td>\n",
       "      <td>30.0</td>\n",
       "      <td>K1973</td>\n",
       "      <td>NaN</td>\n",
       "      <td>Düsseldorf</td>\n",
       "      <td>False</td>\n",
       "    </tr>\n",
       "    <tr>\n",
       "      <th>840</th>\n",
       "      <td>32</td>\n",
       "      <td>40776.023145</td>\n",
       "      <td>1.0</td>\n",
       "      <td>13.0</td>\n",
       "      <td>K1609</td>\n",
       "      <td>NaN</td>\n",
       "      <td>BERLIN</td>\n",
       "      <td>False</td>\n",
       "    </tr>\n",
       "    <tr>\n",
       "      <th>911</th>\n",
       "      <td>43</td>\n",
       "      <td>52813.000000</td>\n",
       "      <td>0.0</td>\n",
       "      <td>44.0</td>\n",
       "      <td>K0762</td>\n",
       "      <td>67106.32</td>\n",
       "      <td>BERLIN</td>\n",
       "      <td>False</td>\n",
       "    </tr>\n",
       "    <tr>\n",
       "      <th>1249</th>\n",
       "      <td>61</td>\n",
       "      <td>56063.000000</td>\n",
       "      <td>1.0</td>\n",
       "      <td>44.0</td>\n",
       "      <td>K0679</td>\n",
       "      <td>98148.54</td>\n",
       "      <td>Berlin-Mitte</td>\n",
       "      <td>False</td>\n",
       "    </tr>\n",
       "    <tr>\n",
       "      <th>1472</th>\n",
       "      <td>55</td>\n",
       "      <td>66738.000000</td>\n",
       "      <td>1.0</td>\n",
       "      <td>52.0</td>\n",
       "      <td>K0413</td>\n",
       "      <td>120215.50</td>\n",
       "      <td>Düsseldorf</td>\n",
       "      <td>False</td>\n",
       "    </tr>\n",
       "    <tr>\n",
       "      <th>1510</th>\n",
       "      <td>62</td>\n",
       "      <td>75575.000000</td>\n",
       "      <td>1.0</td>\n",
       "      <td>50.0</td>\n",
       "      <td>K0023</td>\n",
       "      <td>124516.56</td>\n",
       "      <td>NRW</td>\n",
       "      <td>False</td>\n",
       "    </tr>\n",
       "    <tr>\n",
       "      <th>1783</th>\n",
       "      <td>58</td>\n",
       "      <td>65271.000000</td>\n",
       "      <td>1.0</td>\n",
       "      <td>44.0</td>\n",
       "      <td>K0002</td>\n",
       "      <td>106258.99</td>\n",
       "      <td>NRW</td>\n",
       "      <td>False</td>\n",
       "    </tr>\n",
       "    <tr>\n",
       "      <th>1812</th>\n",
       "      <td>30</td>\n",
       "      <td>28784.000000</td>\n",
       "      <td>1.0</td>\n",
       "      <td>34.0</td>\n",
       "      <td>K0677</td>\n",
       "      <td>42416.07</td>\n",
       "      <td>Berlin-Mitte</td>\n",
       "      <td>False</td>\n",
       "    </tr>\n",
       "    <tr>\n",
       "      <th>1958</th>\n",
       "      <td>40</td>\n",
       "      <td>53679.000000</td>\n",
       "      <td>1.0</td>\n",
       "      <td>41.0</td>\n",
       "      <td>K0601</td>\n",
       "      <td>77410.61</td>\n",
       "      <td>Berlin-Charlottenburg</td>\n",
       "      <td>False</td>\n",
       "    </tr>\n",
       "  </tbody>\n",
       "</table>\n",
       "</div>"
      ],
      "text/plain": [
       "      Alter     Einkommen  Geschlecht  Zeit KundeNr      Preis  \\\n",
       "299      44  54025.601631         1.0  30.0   K1987        NaN   \n",
       "491      49  54754.525450         1.0  44.0   K1995        NaN   \n",
       "587      63  84772.480847         1.0  30.0   K1973        NaN   \n",
       "840      32  40776.023145         1.0  13.0   K1609        NaN   \n",
       "911      43  52813.000000         0.0  44.0   K0762   67106.32   \n",
       "1249     61  56063.000000         1.0  44.0   K0679   98148.54   \n",
       "1472     55  66738.000000         1.0  52.0   K0413  120215.50   \n",
       "1510     62  75575.000000         1.0  50.0   K0023  124516.56   \n",
       "1783     58  65271.000000         1.0  44.0   K0002  106258.99   \n",
       "1812     30  28784.000000         1.0  34.0   K0677   42416.07   \n",
       "1958     40  53679.000000         1.0  41.0   K0601   77410.61   \n",
       "\n",
       "              Niederlassung  Ausreißer  \n",
       "299                     NRW      False  \n",
       "491   Berlin-Charlottenburg      False  \n",
       "587              Düsseldorf      False  \n",
       "840                  BERLIN      False  \n",
       "911                  BERLIN      False  \n",
       "1249           Berlin-Mitte      False  \n",
       "1472             Düsseldorf      False  \n",
       "1510                    NRW      False  \n",
       "1783                    NRW      False  \n",
       "1812           Berlin-Mitte      False  \n",
       "1958  Berlin-Charlottenburg      False  "
      ]
     },
     "execution_count": 20,
     "metadata": {},
     "output_type": "execute_result"
    }
   ],
   "source": [
    "#Definition der Bundesländer\n",
    "bundesländer = [\"Baden-Württemberg\", \"Bayern\", \"Berlin\", \"Brandenburg\", \"Bremen\", \"Hamburg\", \"Hessen\",\n",
    "                \"Mecklenburg-Vorpommern\", \"Niedersachsen\", \"Nordrhein-Westfalen\", \"Rheinland-Pfalz\", \"Saarland\",\n",
    "                \"Sachsen\", \"Sachsen-Anhalt\", \"Schleswig-Holstein\", \"Thüringen\"]\n",
    "#Nur jene Einträge für Niederlassungen anzeigen lassen, welche *nicht* in vorheriger Liste vorhanden sind\n",
    "bundesländer_falsche_namen = df_bkg[~df_bkg[\"Niederlassung\"].isin(bundesländer)]\n",
    "bundesländer_falsche_namen"
   ]
  },
  {
   "cell_type": "code",
   "execution_count": 21,
   "id": "30fd2900-a861-46ab-94bb-7abbf1ea2a03",
   "metadata": {
    "slideshow": {
     "slide_type": "skip"
    }
   },
   "outputs": [],
   "source": [
    "#Jetzt ersetzen wir die ungewollten Bezeichnungen der Niederlassungen mit den gewollten Bezeichnungen\n",
    "#1. den \"falschen\" Schlüsseln die gewollten Werte zuordnen\n",
    "ersetzen_dict = {\n",
    "    \"Berlin-Charlottenburg\": \"Berlin\",\n",
    "    \"BERLIN\": \"Berlin\",\n",
    "    \"Berlin-Mitte\": \"Berlin\",\n",
    "    \"Düsseldorf\": \"Nordrhein-Westfalen\",\n",
    "    \"NRW\": \"Nordrhein-Westfalen\",\n",
    "}\n",
    "#2. Die geändert Werte jetzt in das Datafram übertragen\n",
    "df_bkg[\"Niederlassung\"].replace(ersetzen_dict, inplace=True)"
   ]
  },
  {
   "cell_type": "code",
   "execution_count": 22,
   "id": "0d7f2a59-f4f0-4b9e-b2aa-be3c6115e677",
   "metadata": {
    "slideshow": {
     "slide_type": "skip"
    }
   },
   "outputs": [
    {
     "data": {
      "text/plain": [
       "'Nordrhein-Westfalen'"
      ]
     },
     "execution_count": 22,
     "metadata": {},
     "output_type": "execute_result"
    }
   ],
   "source": [
    "#Überprüfung ob korrekt ersetzt wurde (Stichprobe)\n",
    "df_bkg.iloc[1472, 6]"
   ]
  },
  {
   "cell_type": "code",
   "execution_count": 23,
   "id": "398380a5-afec-48cc-8180-363092d32aa9",
   "metadata": {
    "slideshow": {
     "slide_type": "skip"
    }
   },
   "outputs": [],
   "source": [
    "df_bkg.to_csv(\"df_final.csv\", index=False)"
   ]
  },
  {
   "cell_type": "markdown",
   "id": "d188a574-543e-4989-8076-700906b7b441",
   "metadata": {
    "slideshow": {
     "slide_type": "skip"
    }
   },
   "source": [
    "### F1 Wie viele Autos wurden verkauft?"
   ]
  },
  {
   "cell_type": "code",
   "execution_count": 24,
   "id": "98ed4f61-141d-4412-a366-8cd8ad591372",
   "metadata": {
    "slideshow": {
     "slide_type": "skip"
    }
   },
   "outputs": [
    {
     "data": {
      "text/plain": [
       "1104"
      ]
     },
     "execution_count": 24,
     "metadata": {},
     "output_type": "execute_result"
    }
   ],
   "source": [
    "df_preis_vorhanden = df_bkg[df_bkg[\"Preis\"].notna()]\n",
    "df_autos_verkauft = df_preis_vorhanden[\"KundeNr\"].nunique()\n",
    "df_autos_verkauft"
   ]
  },
  {
   "cell_type": "markdown",
   "id": "0a8d917a-c713-4983-a8db-9e7caeca2ab6",
   "metadata": {
    "slideshow": {
     "slide_type": "skip"
    }
   },
   "source": [
    "### F2 Was ist der Höchst-, Mindest- und Durchschnittspreis der verkauften Autos?"
   ]
  },
  {
   "cell_type": "code",
   "execution_count": 25,
   "id": "f84b48e1-c5db-49b5-9a5c-16e01375d02b",
   "metadata": {
    "slideshow": {
     "slide_type": "skip"
    }
   },
   "outputs": [],
   "source": [
    "# Ermittlung der Kunden\n",
    "df_kunden = df_bkg[\"Preis\"].dropna()"
   ]
  },
  {
   "cell_type": "code",
   "execution_count": 26,
   "id": "5dee0e05-c3f4-43b6-a61d-c2aa0d8603de",
   "metadata": {
    "slideshow": {
     "slide_type": "skip"
    }
   },
   "outputs": [
    {
     "data": {
      "text/plain": [
       "165482.31"
      ]
     },
     "execution_count": 26,
     "metadata": {},
     "output_type": "execute_result"
    }
   ],
   "source": [
    "# Berechnung des Höchstpreises\n",
    "df_höchstpreis = np.max(df_kunden)\n",
    "df_höchstpreis"
   ]
  },
  {
   "cell_type": "code",
   "execution_count": 27,
   "id": "5b44e510-48b1-4e26-8590-8f69da36fff3",
   "metadata": {
    "slideshow": {
     "slide_type": "skip"
    }
   },
   "outputs": [
    {
     "data": {
      "text/plain": [
       "21471.65"
      ]
     },
     "execution_count": 27,
     "metadata": {},
     "output_type": "execute_result"
    }
   ],
   "source": [
    "# Berechnung des Mindestpreises\n",
    "df_mindestpreis = np.min(df_kunden)\n",
    "df_mindestpreis"
   ]
  },
  {
   "cell_type": "code",
   "execution_count": 28,
   "id": "c18fb2de-4a96-4261-830c-5da234e7ad59",
   "metadata": {
    "slideshow": {
     "slide_type": "skip"
    }
   },
   "outputs": [
    {
     "data": {
      "text/plain": [
       "88975.19871376813"
      ]
     },
     "execution_count": 28,
     "metadata": {},
     "output_type": "execute_result"
    }
   ],
   "source": [
    "# Berechnung des Durchschnittspreis\n",
    "df_durchschnittspreis = np.mean(df_kunden)\n",
    "df_durchschnittspreis"
   ]
  },
  {
   "cell_type": "markdown",
   "id": "b47cfdab-fe7c-4540-89f1-dcf650e81623",
   "metadata": {
    "slideshow": {
     "slide_type": "skip"
    }
   },
   "source": [
    "#### Bild 1: Balkendiagramm vergleich des Höchst-, Durchschnitts- und Mindestpreises"
   ]
  },
  {
   "cell_type": "code",
   "execution_count": 29,
   "id": "10a9dbe3-c682-4a05-ab48-11eb9303dd54",
   "metadata": {
    "slideshow": {
     "slide_type": "skip"
    }
   },
   "outputs": [],
   "source": [
    "import seaborn as sns\n",
    "# Erstellen eines Datenrahmens für die Visualisierung\n",
    "price_stats = pd.DataFrame({\n",
    "    'Preis': ['Höchster Preis', 'Durchschnittlicher Preis', 'Niedrigster Preis'],\n",
    "    'Wert': [df_höchstpreis, df_durchschnittspreis, df_mindestpreis]\n",
    "})"
   ]
  },
  {
   "cell_type": "code",
   "execution_count": 30,
   "id": "aa4cf838",
   "metadata": {
    "slideshow": {
     "slide_type": "skip"
    }
   },
   "outputs": [
    {
     "data": {
      "image/png": "[encoded data removed]",
      "text/plain": [
       "<Figure size 1000x600 with 1 Axes>"
      ]
     },
     "metadata": {},
     "output_type": "display_data"
    }
   ],
   "source": [
    "### Balkendiagramm erstellen\n",
    "plt.figure(figsize=(10, 6))\n",
    "sns.barplot(x='Preis', y='Wert', data=price_stats, palette='viridis')\n",
    "plt.title('Höchster, Durchschnittlicher und Niedrigster Preis')\n",
    "plt.ylabel('Preis in Euro')\n",
    "plt.xlabel('Preiskategorie')\n",
    "plt.show()"
   ]
  },
  {
   "cell_type": "markdown",
   "id": "fb04a536-f50f-4b36-8ab7-ac52cfc17fc7",
   "metadata": {
    "slideshow": {
     "slide_type": "skip"
    }
   },
   "source": [
    "### F3 Wie hoch war der Gesamtumsatz?"
   ]
  },
  {
   "cell_type": "code",
   "execution_count": 31,
   "id": "94aab50c-8a53-4636-96f6-60c8b866f78f",
   "metadata": {
    "slideshow": {
     "slide_type": "skip"
    }
   },
   "outputs": [
    {
     "data": {
      "text/plain": [
       "98228619.38000001"
      ]
     },
     "execution_count": 31,
     "metadata": {},
     "output_type": "execute_result"
    }
   ],
   "source": [
    "df_umsatz = df_bkg[\"Preis\"].dropna().sum()\n",
    "df_umsatz"
   ]
  },
  {
   "cell_type": "markdown",
   "id": "8d3ca84a-dcb0-4df8-8510-732dbfeb6763",
   "metadata": {
    "slideshow": {
     "slide_type": "skip"
    }
   },
   "source": [
    "### F4 Wieviele Autos wurden pro Bundesland verkauft?"
   ]
  },
  {
   "cell_type": "code",
   "execution_count": 32,
   "id": "3c143b03-6750-481e-abda-9bbf04f8cb05",
   "metadata": {
    "slideshow": {
     "slide_type": "skip"
    }
   },
   "outputs": [
    {
     "data": {
      "text/plain": [
       "Niederlassung\n",
       "Baden-Württemberg      205\n",
       "Bayern                 188\n",
       "Berlin                 126\n",
       "Brandenburg             37\n",
       "Hamburg                 43\n",
       "Hessen                  96\n",
       "Niedersachsen           96\n",
       "Nordrhein-Westfalen    175\n",
       "Sachsen                 89\n",
       "Thüringen               49\n",
       "Name: Preis, dtype: int64"
      ]
     },
     "execution_count": 32,
     "metadata": {},
     "output_type": "execute_result"
    }
   ],
   "source": [
    "#Ermittelung der Spalten wo Preis vorhanden ist\n",
    "df_mit_preis = df_bkg[df_bkg[\"Preis\"].notna()]\n",
    "#Ermittlung Anzahl pro Bundesland\n",
    "anzahl_verkauf_pro_land = df_mit_preis.groupby('Niederlassung')['Preis'].count()\n",
    "anzahl_verkauf_pro_land "
   ]
  },
  {
   "cell_type": "markdown",
   "id": "dc8b3964-5297-4c8f-aa32-4ea2480eb7fc",
   "metadata": {
    "slideshow": {
     "slide_type": "skip"
    }
   },
   "source": [
    "#### Bild 2: Balkendiagramm - Verkaufsanzahl pro Bundesland (von Käufern)"
   ]
  },
  {
   "cell_type": "code",
   "execution_count": 33,
   "id": "b5f11f1c-2805-4030-9a18-d3648f530b89",
   "metadata": {
    "slideshow": {
     "slide_type": "skip"
    }
   },
   "outputs": [
    {
     "data": {
      "image/png": "[encoded data removed]",
      "text/plain": [
       "<Figure size 1000x600 with 1 Axes>"
      ]
     },
     "metadata": {},
     "output_type": "display_data"
    }
   ],
   "source": [
    "#Balkendiagramm erstellen\n",
    "#Verwendung von #800000 für die Farbe \"Weinrot\"\n",
    "plt.figure(figsize=(10,6))\n",
    "anzahl_verkauf_pro_land.plot(kind = \"bar\", color = \"#800000\")\n",
    "#Balkendiagramm benennen\n",
    "plt.title(\"Kundenanzahl pro Bundesland\")\n",
    "plt.xlabel(\"Niederlassung\")\n",
    "plt.ylabel(\"Kundenanzahl\")\n",
    "#Rotieren der Bundeslandbezeichnungen auf der x-Achse (der hinzugefügte Unterstrich unterbindet ungewollte Ausgaben)\n",
    "_ = plt.xticks(rotation=45, ha='right')"
   ]
  },
  {
   "cell_type": "markdown",
   "id": "bd2c7571-16a9-45c6-975c-a98973e7972d",
   "metadata": {
    "slideshow": {
     "slide_type": "skip"
    }
   },
   "source": [
    "### F5 Wie hoch war der durchschnittliche Umsatz pro Bundesland?\n"
   ]
  },
  {
   "cell_type": "code",
   "execution_count": 34,
   "id": "4fbb2227-e387-41d1-9db9-b2e03ee9c135",
   "metadata": {
    "slideshow": {
     "slide_type": "skip"
    }
   },
   "outputs": [
    {
     "data": {
      "text/plain": [
       "Niederlassung\n",
       "Baden-Württemberg      90969.560000\n",
       "Bayern                 89344.313245\n",
       "Berlin                 89584.984048\n",
       "Brandenburg            86673.640811\n",
       "Hamburg                85549.499070\n",
       "Hessen                 85864.929479\n",
       "Niedersachsen          87963.312500\n",
       "Nordrhein-Westfalen    88633.265200\n",
       "Sachsen                89455.080674\n",
       "Thüringen              90816.994082\n",
       "Name: Preis, dtype: float64"
      ]
     },
     "execution_count": 34,
     "metadata": {},
     "output_type": "execute_result"
    }
   ],
   "source": [
    "#Ermittelung der Spalten wo Preis vorhanden ist\n",
    "df_mit_preis = df_bkg[df_bkg[\"Preis\"].notna()]\n",
    "#Ermittlung Durchschnittsumsatz pro Bundesland\n",
    "durchschnitt_umsatz_pro_land = df_mit_preis.groupby('Niederlassung')['Preis'].mean()\n",
    "durchschnitt_umsatz_pro_land"
   ]
  },
  {
   "cell_type": "markdown",
   "id": "88f1de54-f773-4790-b2a3-f2d7496e8115",
   "metadata": {
    "slideshow": {
     "slide_type": "skip"
    }
   },
   "source": [
    "### F6 In welchem Bundesland wurde das teuerste Auto Verkauft?"
   ]
  },
  {
   "cell_type": "code",
   "execution_count": 35,
   "id": "6bc9ddb8-257a-41cc-bae3-8c0ef0944974",
   "metadata": {
    "slideshow": {
     "slide_type": "skip"
    }
   },
   "outputs": [
    {
     "data": {
      "text/plain": [
       "'Niedersachsen'"
      ]
     },
     "execution_count": 35,
     "metadata": {},
     "output_type": "execute_result"
    }
   ],
   "source": [
    "max_preis_index = df_mit_preis[\"Preis\"].idxmax()\n",
    "bundesland_teuerstes_auto = df_mit_preis.loc[max_preis_index, \"Niederlassung\"]\n",
    "bundesland_teuerstes_auto"
   ]
  },
  {
   "cell_type": "markdown",
   "id": "1170a06e-8bf6-45bc-b6ad-783ecf22c04e",
   "metadata": {
    "slideshow": {
     "slide_type": "skip"
    }
   },
   "source": [
    "### F7 Haben mehr Frauen oder mehr Männer unsere Autos gekauft?"
   ]
  },
  {
   "cell_type": "code",
   "execution_count": 36,
   "id": "74c7653c-773e-4152-a118-17eae9f65491",
   "metadata": {
    "slideshow": {
     "slide_type": "skip"
    }
   },
   "outputs": [
    {
     "data": {
      "text/plain": [
       "0    1.0\n",
       "Name: Geschlecht, dtype: float64"
      ]
     },
     "execution_count": 36,
     "metadata": {},
     "output_type": "execute_result"
    }
   ],
   "source": [
    "df_preis_vorhanden[\"Geschlecht\"].mode()"
   ]
  },
  {
   "cell_type": "markdown",
   "id": "f0c174bb-dd62-4a63-b8eb-ca91f07f0b87",
   "metadata": {
    "slideshow": {
     "slide_type": "skip"
    }
   },
   "source": [
    "### F8 Wie hoch ist das Durchschnittsalter unserer Kunden? Wie hoch ist das Durchschnittsalter unserer Besucher?"
   ]
  },
  {
   "cell_type": "code",
   "execution_count": 37,
   "id": "ff000653-0faf-4599-8ffb-239ad6b6c504",
   "metadata": {
    "slideshow": {
     "slide_type": "skip"
    }
   },
   "outputs": [
    {
     "data": {
      "text/plain": [
       "50.375"
      ]
     },
     "execution_count": 37,
     "metadata": {},
     "output_type": "execute_result"
    }
   ],
   "source": [
    "#Berechnung des Durchschnitssalters unserer Kunden\n",
    "durchschnittsalter_Kunden = df_mit_preis[\"Alter\"].mean()\n",
    "durchschnittsalter_Kunden"
   ]
  },
  {
   "cell_type": "code",
   "execution_count": 38,
   "id": "15c3b572-d02b-4bc5-a73b-a9e7ae64940b",
   "metadata": {
    "slideshow": {
     "slide_type": "skip"
    }
   },
   "outputs": [
    {
     "data": {
      "text/plain": [
       "49.88103254769921"
      ]
     },
     "execution_count": 38,
     "metadata": {},
     "output_type": "execute_result"
    }
   ],
   "source": [
    "#Berechnung des Durchschnitssalters unserer Besucher\n",
    "#Filtern der Besucher\n",
    "df_ohne_preis = df_bkg[df_bkg[\"Preis\"].isna()]\n",
    "#Durchschnittsalter\n",
    "durchschnittsalter_Besucher = df_ohne_preis[\"Alter\"].mean()\n",
    "durchschnittsalter_Besucher"
   ]
  },
  {
   "cell_type": "markdown",
   "id": "f3883614-bf16-4d2b-820d-fd2c235e98c4",
   "metadata": {
    "slideshow": {
     "slide_type": "skip"
    }
   },
   "source": [
    "### F9 Wie hoch ist das Durchschnittseinkommen unserer Kunden? Wie hoch ist das Durchschnittseinkommen unserer Besucher?"
   ]
  },
  {
   "cell_type": "code",
   "execution_count": 39,
   "id": "f3aa77f0-b664-4f3a-8a39-8339cbc0fba2",
   "metadata": {
    "slideshow": {
     "slide_type": "skip"
    }
   },
   "outputs": [
    {
     "data": {
      "text/plain": [
       "58895.24686507354"
      ]
     },
     "execution_count": 39,
     "metadata": {},
     "output_type": "execute_result"
    }
   ],
   "source": [
    "#Berechnung des Durchschnitteinkommens unserer Kunden\n",
    "df_preis_vorhanden[\"Einkommen\"].mean()"
   ]
  },
  {
   "cell_type": "code",
   "execution_count": 40,
   "id": "fa413f6d-0168-4f84-b7fe-ae954c3d9b7a",
   "metadata": {
    "slideshow": {
     "slide_type": "skip"
    }
   },
   "outputs": [
    {
     "data": {
      "text/plain": [
       "59367.93618779704"
      ]
     },
     "execution_count": 40,
     "metadata": {},
     "output_type": "execute_result"
    }
   ],
   "source": [
    "#Berechnung des Durchschnitteinkommens unserer Besucher\n",
    "#Ermittlungen der Zeilen mit NAN in der Preis-Spalte\n",
    "df_preis_nicht_vorhanden = df_bkg[df_bkg[\"Preis\"].isna()]\n",
    "#Durchschnittseinkommen der Besucher berechenen\n",
    "df_preis_nicht_vorhanden[\"Einkommen\"].mean()"
   ]
  },
  {
   "cell_type": "markdown",
   "id": "392b3670-c655-4c01-8ccd-2b808105dcb6",
   "metadata": {
    "slideshow": {
     "slide_type": "skip"
    }
   },
   "source": [
    "### F11 Wie hoch ist die Korrelation (Pearson-Korrelation) zwischen den Variablen Alter, Einkommen, Preis und Zeit?"
   ]
  },
  {
   "cell_type": "code",
   "execution_count": 41,
   "id": "4d73827e-2ddd-4d80-ae5d-b10801170485",
   "metadata": {
    "slideshow": {
     "slide_type": "skip"
    }
   },
   "outputs": [
    {
     "data": {
      "text/html": [
       "<div>\n",
       "<style scoped>\n",
       "    .dataframe tbody tr th:only-of-type {\n",
       "        vertical-align: middle;\n",
       "    }\n",
       "\n",
       "    .dataframe tbody tr th {\n",
       "        vertical-align: top;\n",
       "    }\n",
       "\n",
       "    .dataframe thead th {\n",
       "        text-align: right;\n",
       "    }\n",
       "</style>\n",
       "<table border=\"1\" class=\"dataframe\">\n",
       "  <thead>\n",
       "    <tr style=\"text-align: right;\">\n",
       "      <th></th>\n",
       "      <th>Alter</th>\n",
       "      <th>Einkommen</th>\n",
       "      <th>Preis</th>\n",
       "      <th>Zeit</th>\n",
       "    </tr>\n",
       "  </thead>\n",
       "  <tbody>\n",
       "    <tr>\n",
       "      <th>Alter</th>\n",
       "      <td>1.000000</td>\n",
       "      <td>0.761572</td>\n",
       "      <td>0.780478</td>\n",
       "      <td>0.588912</td>\n",
       "    </tr>\n",
       "    <tr>\n",
       "      <th>Einkommen</th>\n",
       "      <td>0.761572</td>\n",
       "      <td>1.000000</td>\n",
       "      <td>0.896565</td>\n",
       "      <td>0.776211</td>\n",
       "    </tr>\n",
       "    <tr>\n",
       "      <th>Preis</th>\n",
       "      <td>0.780478</td>\n",
       "      <td>0.896565</td>\n",
       "      <td>1.000000</td>\n",
       "      <td>0.707778</td>\n",
       "    </tr>\n",
       "    <tr>\n",
       "      <th>Zeit</th>\n",
       "      <td>0.588912</td>\n",
       "      <td>0.776211</td>\n",
       "      <td>0.707778</td>\n",
       "      <td>1.000000</td>\n",
       "    </tr>\n",
       "  </tbody>\n",
       "</table>\n",
       "</div>"
      ],
      "text/plain": [
       "              Alter  Einkommen     Preis      Zeit\n",
       "Alter      1.000000   0.761572  0.780478  0.588912\n",
       "Einkommen  0.761572   1.000000  0.896565  0.776211\n",
       "Preis      0.780478   0.896565  1.000000  0.707778\n",
       "Zeit       0.588912   0.776211  0.707778  1.000000"
      ]
     },
     "execution_count": 41,
     "metadata": {},
     "output_type": "execute_result"
    }
   ],
   "source": [
    "corr_kundenwerte = df_preis_vorhanden[[\"Alter\", \"Einkommen\", \"Preis\", \"Zeit\"]].corr()\n",
    "corr_kundenwerte"
   ]
  },
  {
   "cell_type": "code",
   "execution_count": 42,
   "id": "30b2495d-f018-452f-8f53-adf027fd7666",
   "metadata": {
    "slideshow": {
     "slide_type": "skip"
    }
   },
   "outputs": [
    {
     "data": {
      "text/html": [
       "<div>\n",
       "<style scoped>\n",
       "    .dataframe tbody tr th:only-of-type {\n",
       "        vertical-align: middle;\n",
       "    }\n",
       "\n",
       "    .dataframe tbody tr th {\n",
       "        vertical-align: top;\n",
       "    }\n",
       "\n",
       "    .dataframe thead th {\n",
       "        text-align: right;\n",
       "    }\n",
       "</style>\n",
       "<table border=\"1\" class=\"dataframe\">\n",
       "  <thead>\n",
       "    <tr style=\"text-align: right;\">\n",
       "      <th></th>\n",
       "      <th>Alter</th>\n",
       "      <th>Einkommen</th>\n",
       "      <th>Preis</th>\n",
       "      <th>Zeit</th>\n",
       "      <th>Geschlecht</th>\n",
       "    </tr>\n",
       "  </thead>\n",
       "  <tbody>\n",
       "    <tr>\n",
       "      <th>Alter</th>\n",
       "      <td>1.000000</td>\n",
       "      <td>0.761572</td>\n",
       "      <td>0.780478</td>\n",
       "      <td>0.588912</td>\n",
       "      <td>0.009515</td>\n",
       "    </tr>\n",
       "    <tr>\n",
       "      <th>Einkommen</th>\n",
       "      <td>0.761572</td>\n",
       "      <td>1.000000</td>\n",
       "      <td>0.896565</td>\n",
       "      <td>0.776211</td>\n",
       "      <td>0.033953</td>\n",
       "    </tr>\n",
       "    <tr>\n",
       "      <th>Preis</th>\n",
       "      <td>0.780478</td>\n",
       "      <td>0.896565</td>\n",
       "      <td>1.000000</td>\n",
       "      <td>0.707778</td>\n",
       "      <td>0.068424</td>\n",
       "    </tr>\n",
       "    <tr>\n",
       "      <th>Zeit</th>\n",
       "      <td>0.588912</td>\n",
       "      <td>0.776211</td>\n",
       "      <td>0.707778</td>\n",
       "      <td>1.000000</td>\n",
       "      <td>0.021506</td>\n",
       "    </tr>\n",
       "    <tr>\n",
       "      <th>Geschlecht</th>\n",
       "      <td>0.009515</td>\n",
       "      <td>0.033953</td>\n",
       "      <td>0.068424</td>\n",
       "      <td>0.021506</td>\n",
       "      <td>1.000000</td>\n",
       "    </tr>\n",
       "  </tbody>\n",
       "</table>\n",
       "</div>"
      ],
      "text/plain": [
       "               Alter  Einkommen     Preis      Zeit  Geschlecht\n",
       "Alter       1.000000   0.761572  0.780478  0.588912    0.009515\n",
       "Einkommen   0.761572   1.000000  0.896565  0.776211    0.033953\n",
       "Preis       0.780478   0.896565  1.000000  0.707778    0.068424\n",
       "Zeit        0.588912   0.776211  0.707778  1.000000    0.021506\n",
       "Geschlecht  0.009515   0.033953  0.068424  0.021506    1.000000"
      ]
     },
     "execution_count": 42,
     "metadata": {},
     "output_type": "execute_result"
    }
   ],
   "source": [
    "corr_kundenwerte2 = df_preis_vorhanden[[\"Alter\", \"Einkommen\", \"Preis\", \"Zeit\", \"Geschlecht\",]].corr()\n",
    "corr_kundenwerte2"
   ]
  },
  {
   "cell_type": "markdown",
   "id": "f8b3251e-0003-4508-b20b-1f6fa43b1670",
   "metadata": {
    "slideshow": {
     "slide_type": "skip"
    }
   },
   "source": [
    "### F12 Testen sie grafisch mit Hilfe eines qq-Plots, ob die Variable Zeit approximativ normalverteilt ist."
   ]
  },
  {
   "cell_type": "code",
   "execution_count": 43,
   "id": "3080372a-8bfa-48a3-8691-f9e847737c18",
   "metadata": {
    "slideshow": {
     "slide_type": "skip"
    }
   },
   "outputs": [
    {
     "data": {
      "image/png": "[encoded data removed]",
      "text/plain": [
       "<Figure size 640x480 with 1 Axes>"
      ]
     },
     "metadata": {},
     "output_type": "display_data"
    }
   ],
   "source": [
    "#import matplotloib und scipy\n",
    "import matplotlib.pyplot as plt\n",
    "import scipy.stats as stats\n",
    "\n",
    "#variable Zeit\n",
    "zeit = df_bkg[\"Zeit\"]\n",
    "\n",
    "#QQ-Plot erstellen\n",
    "stats.probplot(zeit, dist=\"norm\", plot=plt)\n",
    "plt.title(\"QQ-Plot für die variable Zeit\")\n",
    "plt.xlabel(\"Theoretische Quantile (Normalverteilung)\")\n",
    "plt.ylabel(\"Datenquantile\")\n",
    "plt.show()"
   ]
  },
  {
   "cell_type": "markdown",
   "id": "ea55312a-ba26-4c5a-9a2f-ad032cd9c412",
   "metadata": {
    "slideshow": {
     "slide_type": "skip"
    }
   },
   "source": [
    "Die Variable Zeit kann als approximativ normalverteilt betrachtet werden."
   ]
  },
  {
   "cell_type": "markdown",
   "id": "f75b2323-fc29-4737-8742-8468ebd1dbf3",
   "metadata": {
    "slideshow": {
     "slide_type": "skip"
    }
   },
   "source": [
    "### F13 Wie viele Kunden haben keinen Bankkredit aufgenommen, um das Auto zu kaufen? Die Kundenabteilung hat vergessen, diese Informationen zu erfassen. Wir können davon ausgehen, dass die Kunden mit einem Jahreseinkommen höher als der Autopreis keinen Kredit aufgenommen haben."
   ]
  },
  {
   "cell_type": "code",
   "execution_count": 44,
   "id": "e68af313-99d0-4c8a-913e-da38471e905f",
   "metadata": {
    "slideshow": {
     "slide_type": "skip"
    }
   },
   "outputs": [
    {
     "data": {
      "text/plain": [
       "1048    50330.0\n",
       "1298    24264.0\n",
       "1390    54403.0\n",
       "1533    30856.0\n",
       "1587    36296.0\n",
       "Name: Einkommen, dtype: float64"
      ]
     },
     "execution_count": 44,
     "metadata": {},
     "output_type": "execute_result"
    }
   ],
   "source": [
    "#Filterung nach Einkommen-Spalte, wobei in Zeile: Einkommen > Preis\n",
    "df_kein_kredit = df_preis_vorhanden.loc[df_preis_vorhanden[\"Einkommen\"] > df_preis_vorhanden[\"Preis\"], \"Einkommen\"]\n",
    "df_kein_kredit"
   ]
  },
  {
   "cell_type": "code",
   "execution_count": 45,
   "id": "844efa5b-8d80-41d4-b358-e5db4089acbc",
   "metadata": {
    "slideshow": {
     "slide_type": "skip"
    }
   },
   "outputs": [
    {
     "data": {
      "text/plain": [
       "5"
      ]
     },
     "execution_count": 45,
     "metadata": {},
     "output_type": "execute_result"
    }
   ],
   "source": [
    "len(df_kein_kredit)"
   ]
  },
  {
   "cell_type": "markdown",
   "id": "db891ffe-82c1-42d0-9c6e-fad8dd8c41ba",
   "metadata": {
    "slideshow": {
     "slide_type": "skip"
    }
   },
   "source": [
    "### F14 Welche sozioökonomischen Merkmale beeinflussen den Kaufpreis? Wählen Sie die geeigneten unabhängigen Variablen aus und schätzen Sie eine Regression unter Verwendung der geeigneten Methode."
   ]
  },
  {
   "cell_type": "code",
   "execution_count": 46,
   "id": "eccc6b95-17b0-4161-9d50-5e742324776a",
   "metadata": {
    "slideshow": {
     "slide_type": "skip"
    }
   },
   "outputs": [
    {
     "data": {
      "text/html": [
       "<div>\n",
       "<style scoped>\n",
       "    .dataframe tbody tr th:only-of-type {\n",
       "        vertical-align: middle;\n",
       "    }\n",
       "\n",
       "    .dataframe tbody tr th {\n",
       "        vertical-align: top;\n",
       "    }\n",
       "\n",
       "    .dataframe thead th {\n",
       "        text-align: right;\n",
       "    }\n",
       "</style>\n",
       "<table border=\"1\" class=\"dataframe\">\n",
       "  <thead>\n",
       "    <tr style=\"text-align: right;\">\n",
       "      <th></th>\n",
       "      <th>Alter</th>\n",
       "      <th>Einkommen</th>\n",
       "      <th>Geschlecht</th>\n",
       "      <th>Zeit</th>\n",
       "    </tr>\n",
       "  </thead>\n",
       "  <tbody>\n",
       "    <tr>\n",
       "      <th>891</th>\n",
       "      <td>64</td>\n",
       "      <td>66894.0</td>\n",
       "      <td>1.0</td>\n",
       "      <td>43.0</td>\n",
       "    </tr>\n",
       "    <tr>\n",
       "      <th>892</th>\n",
       "      <td>54</td>\n",
       "      <td>77644.0</td>\n",
       "      <td>1.0</td>\n",
       "      <td>40.0</td>\n",
       "    </tr>\n",
       "    <tr>\n",
       "      <th>893</th>\n",
       "      <td>55</td>\n",
       "      <td>44341.0</td>\n",
       "      <td>0.0</td>\n",
       "      <td>37.0</td>\n",
       "    </tr>\n",
       "    <tr>\n",
       "      <th>894</th>\n",
       "      <td>49</td>\n",
       "      <td>67271.0</td>\n",
       "      <td>0.0</td>\n",
       "      <td>42.0</td>\n",
       "    </tr>\n",
       "    <tr>\n",
       "      <th>895</th>\n",
       "      <td>46</td>\n",
       "      <td>49832.0</td>\n",
       "      <td>0.0</td>\n",
       "      <td>41.0</td>\n",
       "    </tr>\n",
       "  </tbody>\n",
       "</table>\n",
       "</div>"
      ],
      "text/plain": [
       "     Alter  Einkommen  Geschlecht  Zeit\n",
       "891     64    66894.0         1.0  43.0\n",
       "892     54    77644.0         1.0  40.0\n",
       "893     55    44341.0         0.0  37.0\n",
       "894     49    67271.0         0.0  42.0\n",
       "895     46    49832.0         0.0  41.0"
      ]
     },
     "execution_count": 46,
     "metadata": {},
     "output_type": "execute_result"
    }
   ],
   "source": [
    "#Neuen Dataframe mit relevanten unabhängigen Variablen erstellen\n",
    "nicht_rel_var = [\"KundeNr\", \"Niederlassung\", \"Ausreißer\", \"Preis\"] \n",
    "df_rel_var = df_preis_vorhanden.drop(columns = nicht_rel_var)\n",
    "df_rel_var.head()"
   ]
  },
  {
   "cell_type": "code",
   "execution_count": 47,
   "id": "2b68f0ad-2e12-4a90-a782-12edcdc0944f",
   "metadata": {
    "slideshow": {
     "slide_type": "skip"
    }
   },
   "outputs": [],
   "source": [
    "y = df_preis_vorhanden[\"Preis\"]\n",
    "X = df_rel_var\n",
    "X = sm.add_constant(X)"
   ]
  },
  {
   "cell_type": "code",
   "execution_count": 48,
   "id": "ce83350a-fa88-4e7d-aab9-84604a2417a6",
   "metadata": {
    "slideshow": {
     "slide_type": "skip"
    }
   },
   "outputs": [
    {
     "data": {
      "text/html": [
       "<table class=\"simpletable\">\n",
       "<caption>OLS Regression Results</caption>\n",
       "<tr>\n",
       "  <th>Dep. Variable:</th>          <td>Preis</td>      <th>  R-squared:         </th> <td>   0.829</td> \n",
       "</tr>\n",
       "<tr>\n",
       "  <th>Model:</th>                   <td>OLS</td>       <th>  Adj. R-squared:    </th> <td>   0.828</td> \n",
       "</tr>\n",
       "<tr>\n",
       "  <th>Method:</th>             <td>Least Squares</td>  <th>  F-statistic:       </th> <td>   1329.</td> \n",
       "</tr>\n",
       "<tr>\n",
       "  <th>Date:</th>             <td>Thu, 27 Jun 2024</td> <th>  Prob (F-statistic):</th>  <td>  0.00</td>  \n",
       "</tr>\n",
       "<tr>\n",
       "  <th>Time:</th>                 <td>21:18:21</td>     <th>  Log-Likelihood:    </th> <td> -11748.</td> \n",
       "</tr>\n",
       "<tr>\n",
       "  <th>No. Observations:</th>      <td>  1104</td>      <th>  AIC:               </th> <td>2.351e+04</td>\n",
       "</tr>\n",
       "<tr>\n",
       "  <th>Df Residuals:</th>          <td>  1099</td>      <th>  BIC:               </th> <td>2.353e+04</td>\n",
       "</tr>\n",
       "<tr>\n",
       "  <th>Df Model:</th>              <td>     4</td>      <th>                     </th>     <td> </td>    \n",
       "</tr>\n",
       "<tr>\n",
       "  <th>Covariance Type:</th>      <td>nonrobust</td>    <th>                     </th>     <td> </td>    \n",
       "</tr>\n",
       "</table>\n",
       "<table class=\"simpletable\">\n",
       "<tr>\n",
       "       <td></td>         <th>coef</th>     <th>std err</th>      <th>t</th>      <th>P>|t|</th>  <th>[0.025</th>    <th>0.975]</th>  \n",
       "</tr>\n",
       "<tr>\n",
       "  <th>const</th>      <td> -128.4750</td> <td> 1532.376</td> <td>   -0.084</td> <td> 0.933</td> <td>-3135.188</td> <td> 2878.238</td>\n",
       "</tr>\n",
       "<tr>\n",
       "  <th>Alter</th>      <td>  479.7397</td> <td>   39.447</td> <td>   12.162</td> <td> 0.000</td> <td>  402.340</td> <td>  557.140</td>\n",
       "</tr>\n",
       "<tr>\n",
       "  <th>Einkommen</th>  <td>    1.0256</td> <td>    0.037</td> <td>   28.005</td> <td> 0.000</td> <td>    0.954</td> <td>    1.097</td>\n",
       "</tr>\n",
       "<tr>\n",
       "  <th>Geschlecht</th> <td> 2139.7464</td> <td>  636.427</td> <td>    3.362</td> <td> 0.001</td> <td>  890.997</td> <td> 3388.496</td>\n",
       "</tr>\n",
       "<tr>\n",
       "  <th>Zeit</th>       <td>   71.3735</td> <td>   44.660</td> <td>    1.598</td> <td> 0.110</td> <td>  -16.255</td> <td>  159.002</td>\n",
       "</tr>\n",
       "</table>\n",
       "<table class=\"simpletable\">\n",
       "<tr>\n",
       "  <th>Omnibus:</th>       <td> 1.250</td> <th>  Durbin-Watson:     </th> <td>   2.103</td>\n",
       "</tr>\n",
       "<tr>\n",
       "  <th>Prob(Omnibus):</th> <td> 0.535</td> <th>  Jarque-Bera (JB):  </th> <td>   1.252</td>\n",
       "</tr>\n",
       "<tr>\n",
       "  <th>Skew:</th>          <td> 0.014</td> <th>  Prob(JB):          </th> <td>   0.535</td>\n",
       "</tr>\n",
       "<tr>\n",
       "  <th>Kurtosis:</th>      <td> 2.837</td> <th>  Cond. No.          </th> <td>3.09e+05</td>\n",
       "</tr>\n",
       "</table><br/><br/>Notes:<br/>[1] Standard Errors assume that the covariance matrix of the errors is correctly specified.<br/>[2] The condition number is large, 3.09e+05. This might indicate that there are<br/>strong multicollinearity or other numerical problems."
      ],
      "text/latex": [
       "\\begin{center}\n",
       "\\begin{tabular}{lclc}\n",
       "\\toprule\n",
       "\\textbf{Dep. Variable:}    &      Preis       & \\textbf{  R-squared:         } &     0.829   \\\\\n",
       "\\textbf{Model:}            &       OLS        & \\textbf{  Adj. R-squared:    } &     0.828   \\\\\n",
       "\\textbf{Method:}           &  Least Squares   & \\textbf{  F-statistic:       } &     1329.   \\\\\n",
       "\\textbf{Date:}             & Thu, 27 Jun 2024 & \\textbf{  Prob (F-statistic):} &     0.00    \\\\\n",
       "\\textbf{Time:}             &     21:18:21     & \\textbf{  Log-Likelihood:    } &   -11748.   \\\\\n",
       "\\textbf{No. Observations:} &        1104      & \\textbf{  AIC:               } & 2.351e+04   \\\\\n",
       "\\textbf{Df Residuals:}     &        1099      & \\textbf{  BIC:               } & 2.353e+04   \\\\\n",
       "\\textbf{Df Model:}         &           4      & \\textbf{                     } &             \\\\\n",
       "\\textbf{Covariance Type:}  &    nonrobust     & \\textbf{                     } &             \\\\\n",
       "\\bottomrule\n",
       "\\end{tabular}\n",
       "\\begin{tabular}{lcccccc}\n",
       "                    & \\textbf{coef} & \\textbf{std err} & \\textbf{t} & \\textbf{P$> |$t$|$} & \\textbf{[0.025} & \\textbf{0.975]}  \\\\\n",
       "\\midrule\n",
       "\\textbf{const}      &    -128.4750  &     1532.376     &    -0.084  &         0.933        &    -3135.188    &     2878.238     \\\\\n",
       "\\textbf{Alter}      &     479.7397  &       39.447     &    12.162  &         0.000        &      402.340    &      557.140     \\\\\n",
       "\\textbf{Einkommen}  &       1.0256  &        0.037     &    28.005  &         0.000        &        0.954    &        1.097     \\\\\n",
       "\\textbf{Geschlecht} &    2139.7464  &      636.427     &     3.362  &         0.001        &      890.997    &     3388.496     \\\\\n",
       "\\textbf{Zeit}       &      71.3735  &       44.660     &     1.598  &         0.110        &      -16.255    &      159.002     \\\\\n",
       "\\bottomrule\n",
       "\\end{tabular}\n",
       "\\begin{tabular}{lclc}\n",
       "\\textbf{Omnibus:}       &  1.250 & \\textbf{  Durbin-Watson:     } &    2.103  \\\\\n",
       "\\textbf{Prob(Omnibus):} &  0.535 & \\textbf{  Jarque-Bera (JB):  } &    1.252  \\\\\n",
       "\\textbf{Skew:}          &  0.014 & \\textbf{  Prob(JB):          } &    0.535  \\\\\n",
       "\\textbf{Kurtosis:}      &  2.837 & \\textbf{  Cond. No.          } & 3.09e+05  \\\\\n",
       "\\bottomrule\n",
       "\\end{tabular}\n",
       "%\\caption{OLS Regression Results}\n",
       "\\end{center}\n",
       "\n",
       "Notes: \\newline\n",
       " [1] Standard Errors assume that the covariance matrix of the errors is correctly specified. \\newline\n",
       " [2] The condition number is large, 3.09e+05. This might indicate that there are \\newline\n",
       " strong multicollinearity or other numerical problems."
      ],
      "text/plain": [
       "<class 'statsmodels.iolib.summary.Summary'>\n",
       "\"\"\"\n",
       "                            OLS Regression Results                            \n",
       "==============================================================================\n",
       "Dep. Variable:                  Preis   R-squared:                       0.829\n",
       "Model:                            OLS   Adj. R-squared:                  0.828\n",
       "Method:                 Least Squares   F-statistic:                     1329.\n",
       "Date:                Thu, 27 Jun 2024   Prob (F-statistic):               0.00\n",
       "Time:                        21:18:21   Log-Likelihood:                -11748.\n",
       "No. Observations:                1104   AIC:                         2.351e+04\n",
       "Df Residuals:                    1099   BIC:                         2.353e+04\n",
       "Df Model:                           4                                         \n",
       "Covariance Type:            nonrobust                                         \n",
       "==============================================================================\n",
       "                 coef    std err          t      P>|t|      [0.025      0.975]\n",
       "------------------------------------------------------------------------------\n",
       "const       -128.4750   1532.376     -0.084      0.933   -3135.188    2878.238\n",
       "Alter        479.7397     39.447     12.162      0.000     402.340     557.140\n",
       "Einkommen      1.0256      0.037     28.005      0.000       0.954       1.097\n",
       "Geschlecht  2139.7464    636.427      3.362      0.001     890.997    3388.496\n",
       "Zeit          71.3735     44.660      1.598      0.110     -16.255     159.002\n",
       "==============================================================================\n",
       "Omnibus:                        1.250   Durbin-Watson:                   2.103\n",
       "Prob(Omnibus):                  0.535   Jarque-Bera (JB):                1.252\n",
       "Skew:                           0.014   Prob(JB):                        0.535\n",
       "Kurtosis:                       2.837   Cond. No.                     3.09e+05\n",
       "==============================================================================\n",
       "\n",
       "Notes:\n",
       "[1] Standard Errors assume that the covariance matrix of the errors is correctly specified.\n",
       "[2] The condition number is large, 3.09e+05. This might indicate that there are\n",
       "strong multicollinearity or other numerical problems.\n",
       "\"\"\""
      ]
     },
     "execution_count": 48,
     "metadata": {},
     "output_type": "execute_result"
    }
   ],
   "source": [
    "model = sm.OLS(y, X).fit()\n",
    "model.summary()"
   ]
  },
  {
   "cell_type": "markdown",
   "id": "9a6e1597-0b3f-4baf-8bf0-bf0ce7a466bd",
   "metadata": {
    "slideshow": {
     "slide_type": "skip"
    }
   },
   "source": [
    "## Schlussfolgerung:"
   ]
  },
  {
   "cell_type": "markdown",
   "id": "03b832fb-5b25-4033-97ee-8dd0dcfc3be6",
   "metadata": {
    "slideshow": {
     "slide_type": "skip"
    }
   },
   "source": [
    "Da der P>|t|-Wert bei der Zeit den Wert 0.05 überschreitet, ist die Zeit ein nicht signifikanter Koeffizient. Daher kann nicht gesagt werden, ob die Zeit einen entscheidenden Einfluss auf den Kaufpreis hat. Dahingegen sind Einkommen, Alter und Geschlecht signifikant."
   ]
  },
  {
   "cell_type": "markdown",
   "id": "50feb2f1-6cd0-466d-bcdc-1dc3befb6b54",
   "metadata": {
    "slideshow": {
     "slide_type": "skip"
    }
   },
   "source": [
    "### F15 Prognostizieren Sie den Kaufpreis eines unserer Autos für einen männlichen Kunden im Alter von 32 Jahren mit einem Einkommen von 30.000 Euro. Prognostizieren Sie den Kaufpreis eines unserer Autos für einen männlichen Kunden im Alter von 51 Jahren und mit einem Einkommen von 54.000 Euro."
   ]
  },
  {
   "cell_type": "markdown",
   "id": "f4789f91-a8ac-4a9a-9c9c-58d932b38eae",
   "metadata": {
    "slideshow": {
     "slide_type": "skip"
    }
   },
   "source": [
    "#### Prognose - männlicher Kunden im Alter von 32 Jahren mit einem Einkommen von 30.000 Euro"
   ]
  },
  {
   "cell_type": "code",
   "execution_count": 49,
   "id": "d272724d-2d57-49b6-8d70-120a437dbd62",
   "metadata": {
    "slideshow": {
     "slide_type": "skip"
    }
   },
   "outputs": [],
   "source": [
    "y1 = pd.DataFrame({\"Alter\" : [32], \"Einkommen\" : [30000], \"Geschlecht\" : [1], \"Zeit\" : [df_preis_vorhanden[\"Zeit\"].mean()]})"
   ]
  },
  {
   "cell_type": "code",
   "execution_count": 56,
   "id": "c847d87a-8e13-4d7b-a82c-54e05c4ab93c",
   "metadata": {
    "slideshow": {
     "slide_type": "skip"
    }
   },
   "outputs": [],
   "source": [
    "#y1 = sm.add_constant(y1) funktioniert nicht, weshalb die predict Funktion nicht funktioniert. Ich füge die Konstante manuell hinzu\n",
    "y1.insert(0, \"const\", 1)"
   ]
  },
  {
   "cell_type": "code",
   "execution_count": 55,
   "id": "6c062d4b-b9ba-4802-ae05-b6bc7ea7420a",
   "metadata": {
    "slideshow": {
     "slide_type": "skip"
    }
   },
   "outputs": [
    {
     "data": {
      "text/html": [
       "<div>\n",
       "<style scoped>\n",
       "    .dataframe tbody tr th:only-of-type {\n",
       "        vertical-align: middle;\n",
       "    }\n",
       "\n",
       "    .dataframe tbody tr th {\n",
       "        vertical-align: top;\n",
       "    }\n",
       "\n",
       "    .dataframe thead th {\n",
       "        text-align: right;\n",
       "    }\n",
       "</style>\n",
       "<table border=\"1\" class=\"dataframe\">\n",
       "  <thead>\n",
       "    <tr style=\"text-align: right;\">\n",
       "      <th></th>\n",
       "      <th>Alter</th>\n",
       "      <th>Einkommen</th>\n",
       "      <th>Geschlecht</th>\n",
       "      <th>Zeit</th>\n",
       "    </tr>\n",
       "  </thead>\n",
       "  <tbody>\n",
       "    <tr>\n",
       "      <th>0</th>\n",
       "      <td>32</td>\n",
       "      <td>30000</td>\n",
       "      <td>1</td>\n",
       "      <td>44.375906</td>\n",
       "    </tr>\n",
       "  </tbody>\n",
       "</table>\n",
       "</div>"
      ],
      "text/plain": [
       "   Alter  Einkommen  Geschlecht       Zeit\n",
       "0     32      30000           1  44.375906"
      ]
     },
     "execution_count": 55,
     "metadata": {},
     "output_type": "execute_result"
    }
   ],
   "source": [
    "y1"
   ]
  },
  {
   "cell_type": "code",
   "execution_count": 57,
   "id": "9e8f5171-7240-492d-9c2f-fb5b9040661b",
   "metadata": {
    "slideshow": {
     "slide_type": "skip"
    }
   },
   "outputs": [
    {
     "data": {
      "text/plain": [
       "0    51297.291522\n",
       "dtype: float64"
      ]
     },
     "execution_count": 57,
     "metadata": {},
     "output_type": "execute_result"
    }
   ],
   "source": [
    "Prognose1 = model.predict(y1)\n",
    "Prognose1"
   ]
  },
  {
   "cell_type": "markdown",
   "id": "b9e34e2e-b099-43c5-8dcc-98369ca42ea4",
   "metadata": {
    "slideshow": {
     "slide_type": "skip"
    }
   },
   "source": [
    "#### Prognose - männlicher Kunden im Alter von 51 Jahren mit einem Einkommen von 54.000 Euro"
   ]
  },
  {
   "cell_type": "code",
   "execution_count": 58,
   "id": "0487dd60-e4cc-4054-ad54-910b5ede61a6",
   "metadata": {
    "slideshow": {
     "slide_type": "skip"
    }
   },
   "outputs": [
    {
     "data": {
      "text/plain": [
       "0    85026.014079\n",
       "dtype: float64"
      ]
     },
     "execution_count": 58,
     "metadata": {},
     "output_type": "execute_result"
    }
   ],
   "source": [
    "y2 = pd.DataFrame({\"Alter\" : [51], \"Einkommen\" : [54000], \"Geschlecht\" : [1], \"Zeit\" : [df_preis_vorhanden[\"Zeit\"].mean()]})\n",
    "y2.insert(0, \"const\", 1)\n",
    "Prognose2 = model.predict(y2)\n",
    "Prognose2"
   ]
  },
  {
   "cell_type": "markdown",
   "id": "b13e6179-4043-466e-bee7-caaa617f12f9",
   "metadata": {
    "slideshow": {
     "slide_type": "skip"
    }
   },
   "source": [
    "### F16 In Bezug auf die vorherige Frage: Welche Variable beeinflusst den Preis des Autos am meisten? Mit anderen Worten: Die von Ihnen geschätzten Regressionskoeffizienten müssen direkt vergleichbar sein. Wie sollen die Daten transformiert werden?"
   ]
  },
  {
   "cell_type": "code",
   "execution_count": 60,
   "id": "eaee0e73-e9e9-4273-868a-aeefd2723763",
   "metadata": {
    "slideshow": {
     "slide_type": "skip"
    }
   },
   "outputs": [],
   "source": [
    "import statsmodels.api as sm\n",
    "from sklearn.preprocessing import StandardScaler"
   ]
  },
  {
   "cell_type": "code",
   "execution_count": 61,
   "id": "f92ca03f-858d-44e6-9d19-afe0f0ec92a3",
   "metadata": {
    "slideshow": {
     "slide_type": "skip"
    }
   },
   "outputs": [],
   "source": [
    "# Auswahl der unabhängigen Variablen und der abhängigen Variable\n",
    "X = df_preis_vorhanden[[\"Einkommen\", \"Alter\", \"Geschlecht\", \"Zeit\"]]\n",
    "y = df_preis_vorhanden[\"Preis\"]"
   ]
  },
  {
   "cell_type": "code",
   "execution_count": 62,
   "id": "163c6441-994b-427d-9c6d-f4b74fa558bd",
   "metadata": {
    "slideshow": {
     "slide_type": "skip"
    }
   },
   "outputs": [],
   "source": [
    "# Standardisieren der unabhängigen Variablen\n",
    "scaler_X = StandardScaler()\n",
    "scaler_y = StandardScaler()\n",
    "\n",
    "X_standardized = scaler_X.fit_transform(X)"
   ]
  },
  {
   "cell_type": "code",
   "execution_count": 63,
   "id": "2d1af474-b5fa-43ad-b065-c590b3b1e6a5",
   "metadata": {
    "slideshow": {
     "slide_type": "skip"
    }
   },
   "outputs": [],
   "source": [
    "# Da y eine pandas Series ist, muss sie in ein 2D-Array umgewandelt werden\n",
    "y_standardized = scaler_y.fit_transform(y.values.reshape(-1, 1)).flatten()"
   ]
  },
  {
   "cell_type": "code",
   "execution_count": 64,
   "id": "cbfbadf8-1d4c-4464-9a1b-c3537db0b327",
   "metadata": {
    "slideshow": {
     "slide_type": "skip"
    }
   },
   "outputs": [],
   "source": [
    "# Konvertieren der standardisierten Variablen zurück in ein DataFrame und hinzufügen einer Konstante\n",
    "X_standardized = pd.DataFrame(X_standardized, columns=X.columns)\n",
    "X_standardized = sm.add_constant(X_standardized)"
   ]
  },
  {
   "cell_type": "code",
   "execution_count": 65,
   "id": "ae9bee00-e95d-405e-acb5-82f7fc54ca8c",
   "metadata": {
    "slideshow": {
     "slide_type": "skip"
    }
   },
   "outputs": [
    {
     "data": {
      "text/html": [
       "<table class=\"simpletable\">\n",
       "<caption>OLS Regression Results</caption>\n",
       "<tr>\n",
       "  <th>Dep. Variable:</th>            <td>y</td>        <th>  R-squared:         </th> <td>   0.829</td>\n",
       "</tr>\n",
       "<tr>\n",
       "  <th>Model:</th>                   <td>OLS</td>       <th>  Adj. R-squared:    </th> <td>   0.828</td>\n",
       "</tr>\n",
       "<tr>\n",
       "  <th>Method:</th>             <td>Least Squares</td>  <th>  F-statistic:       </th> <td>   1329.</td>\n",
       "</tr>\n",
       "<tr>\n",
       "  <th>Date:</th>             <td>Thu, 27 Jun 2024</td> <th>  Prob (F-statistic):</th>  <td>  0.00</td> \n",
       "</tr>\n",
       "<tr>\n",
       "  <th>Time:</th>                 <td>21:20:50</td>     <th>  Log-Likelihood:    </th> <td> -592.62</td>\n",
       "</tr>\n",
       "<tr>\n",
       "  <th>No. Observations:</th>      <td>  1104</td>      <th>  AIC:               </th> <td>   1195.</td>\n",
       "</tr>\n",
       "<tr>\n",
       "  <th>Df Residuals:</th>          <td>  1099</td>      <th>  BIC:               </th> <td>   1220.</td>\n",
       "</tr>\n",
       "<tr>\n",
       "  <th>Df Model:</th>              <td>     4</td>      <th>                     </th>     <td> </td>   \n",
       "</tr>\n",
       "<tr>\n",
       "  <th>Covariance Type:</th>      <td>nonrobust</td>    <th>                     </th>     <td> </td>   \n",
       "</tr>\n",
       "</table>\n",
       "<table class=\"simpletable\">\n",
       "<tr>\n",
       "       <td></td>         <th>coef</th>     <th>std err</th>      <th>t</th>      <th>P>|t|</th>  <th>[0.025</th>    <th>0.975]</th>  \n",
       "</tr>\n",
       "<tr>\n",
       "  <th>const</th>      <td>-4.857e-16</td> <td>    0.012</td> <td>-3.89e-14</td> <td> 1.000</td> <td>   -0.024</td> <td>    0.024</td>\n",
       "</tr>\n",
       "<tr>\n",
       "  <th>Einkommen</th>  <td>    0.6921</td> <td>    0.025</td> <td>   28.005</td> <td> 0.000</td> <td>    0.644</td> <td>    0.741</td>\n",
       "</tr>\n",
       "<tr>\n",
       "  <th>Alter</th>      <td>    0.2344</td> <td>    0.019</td> <td>   12.162</td> <td> 0.000</td> <td>    0.197</td> <td>    0.272</td>\n",
       "</tr>\n",
       "<tr>\n",
       "  <th>Geschlecht</th> <td>    0.0420</td> <td>    0.012</td> <td>    3.362</td> <td> 0.001</td> <td>    0.017</td> <td>    0.067</td>\n",
       "</tr>\n",
       "<tr>\n",
       "  <th>Zeit</th>       <td>    0.0316</td> <td>    0.020</td> <td>    1.598</td> <td> 0.110</td> <td>   -0.007</td> <td>    0.071</td>\n",
       "</tr>\n",
       "</table>\n",
       "<table class=\"simpletable\">\n",
       "<tr>\n",
       "  <th>Omnibus:</th>       <td> 1.250</td> <th>  Durbin-Watson:     </th> <td>   2.103</td>\n",
       "</tr>\n",
       "<tr>\n",
       "  <th>Prob(Omnibus):</th> <td> 0.535</td> <th>  Jarque-Bera (JB):  </th> <td>   1.252</td>\n",
       "</tr>\n",
       "<tr>\n",
       "  <th>Skew:</th>          <td> 0.014</td> <th>  Prob(JB):          </th> <td>   0.535</td>\n",
       "</tr>\n",
       "<tr>\n",
       "  <th>Kurtosis:</th>      <td> 2.837</td> <th>  Cond. No.          </th> <td>    3.80</td>\n",
       "</tr>\n",
       "</table><br/><br/>Notes:<br/>[1] Standard Errors assume that the covariance matrix of the errors is correctly specified."
      ],
      "text/latex": [
       "\\begin{center}\n",
       "\\begin{tabular}{lclc}\n",
       "\\toprule\n",
       "\\textbf{Dep. Variable:}    &        y         & \\textbf{  R-squared:         } &     0.829   \\\\\n",
       "\\textbf{Model:}            &       OLS        & \\textbf{  Adj. R-squared:    } &     0.828   \\\\\n",
       "\\textbf{Method:}           &  Least Squares   & \\textbf{  F-statistic:       } &     1329.   \\\\\n",
       "\\textbf{Date:}             & Thu, 27 Jun 2024 & \\textbf{  Prob (F-statistic):} &     0.00    \\\\\n",
       "\\textbf{Time:}             &     21:20:50     & \\textbf{  Log-Likelihood:    } &   -592.62   \\\\\n",
       "\\textbf{No. Observations:} &        1104      & \\textbf{  AIC:               } &     1195.   \\\\\n",
       "\\textbf{Df Residuals:}     &        1099      & \\textbf{  BIC:               } &     1220.   \\\\\n",
       "\\textbf{Df Model:}         &           4      & \\textbf{                     } &             \\\\\n",
       "\\textbf{Covariance Type:}  &    nonrobust     & \\textbf{                     } &             \\\\\n",
       "\\bottomrule\n",
       "\\end{tabular}\n",
       "\\begin{tabular}{lcccccc}\n",
       "                    & \\textbf{coef} & \\textbf{std err} & \\textbf{t} & \\textbf{P$> |$t$|$} & \\textbf{[0.025} & \\textbf{0.975]}  \\\\\n",
       "\\midrule\n",
       "\\textbf{const}      &   -4.857e-16  &        0.012     & -3.89e-14  &         1.000        &       -0.024    &        0.024     \\\\\n",
       "\\textbf{Einkommen}  &       0.6921  &        0.025     &    28.005  &         0.000        &        0.644    &        0.741     \\\\\n",
       "\\textbf{Alter}      &       0.2344  &        0.019     &    12.162  &         0.000        &        0.197    &        0.272     \\\\\n",
       "\\textbf{Geschlecht} &       0.0420  &        0.012     &     3.362  &         0.001        &        0.017    &        0.067     \\\\\n",
       "\\textbf{Zeit}       &       0.0316  &        0.020     &     1.598  &         0.110        &       -0.007    &        0.071     \\\\\n",
       "\\bottomrule\n",
       "\\end{tabular}\n",
       "\\begin{tabular}{lclc}\n",
       "\\textbf{Omnibus:}       &  1.250 & \\textbf{  Durbin-Watson:     } &    2.103  \\\\\n",
       "\\textbf{Prob(Omnibus):} &  0.535 & \\textbf{  Jarque-Bera (JB):  } &    1.252  \\\\\n",
       "\\textbf{Skew:}          &  0.014 & \\textbf{  Prob(JB):          } &    0.535  \\\\\n",
       "\\textbf{Kurtosis:}      &  2.837 & \\textbf{  Cond. No.          } &     3.80  \\\\\n",
       "\\bottomrule\n",
       "\\end{tabular}\n",
       "%\\caption{OLS Regression Results}\n",
       "\\end{center}\n",
       "\n",
       "Notes: \\newline\n",
       " [1] Standard Errors assume that the covariance matrix of the errors is correctly specified."
      ],
      "text/plain": [
       "<class 'statsmodels.iolib.summary.Summary'>\n",
       "\"\"\"\n",
       "                            OLS Regression Results                            \n",
       "==============================================================================\n",
       "Dep. Variable:                      y   R-squared:                       0.829\n",
       "Model:                            OLS   Adj. R-squared:                  0.828\n",
       "Method:                 Least Squares   F-statistic:                     1329.\n",
       "Date:                Thu, 27 Jun 2024   Prob (F-statistic):               0.00\n",
       "Time:                        21:20:50   Log-Likelihood:                -592.62\n",
       "No. Observations:                1104   AIC:                             1195.\n",
       "Df Residuals:                    1099   BIC:                             1220.\n",
       "Df Model:                           4                                         \n",
       "Covariance Type:            nonrobust                                         \n",
       "==============================================================================\n",
       "                 coef    std err          t      P>|t|      [0.025      0.975]\n",
       "------------------------------------------------------------------------------\n",
       "const      -4.857e-16      0.012  -3.89e-14      1.000      -0.024       0.024\n",
       "Einkommen      0.6921      0.025     28.005      0.000       0.644       0.741\n",
       "Alter          0.2344      0.019     12.162      0.000       0.197       0.272\n",
       "Geschlecht     0.0420      0.012      3.362      0.001       0.017       0.067\n",
       "Zeit           0.0316      0.020      1.598      0.110      -0.007       0.071\n",
       "==============================================================================\n",
       "Omnibus:                        1.250   Durbin-Watson:                   2.103\n",
       "Prob(Omnibus):                  0.535   Jarque-Bera (JB):                1.252\n",
       "Skew:                           0.014   Prob(JB):                        0.535\n",
       "Kurtosis:                       2.837   Cond. No.                         3.80\n",
       "==============================================================================\n",
       "\n",
       "Notes:\n",
       "[1] Standard Errors assume that the covariance matrix of the errors is correctly specified.\n",
       "\"\"\""
      ]
     },
     "execution_count": 65,
     "metadata": {},
     "output_type": "execute_result"
    }
   ],
   "source": [
    "# Regression schätzen (lineare Regression)\n",
    "model_standardized = sm.OLS(y_standardized, X_standardized).fit()\n",
    "\n",
    "# Zusammenfassung des Modells anzeigen\n",
    "model_standardized.summary()"
   ]
  },
  {
   "cell_type": "markdown",
   "id": "cd069438-0b02-4fe5-8d79-cf25eb2ea216",
   "metadata": {
    "slideshow": {
     "slide_type": "skip"
    }
   },
   "source": [
    "#### Die Variable, die den Preis beim Kauf des Autos am meisten beeinflusst ist das Einkommen."
   ]
  },
  {
   "cell_type": "markdown",
   "id": "302c2ee8-d6a5-472a-823a-f4ba4fb1fe65",
   "metadata": {
    "slideshow": {
     "slide_type": "skip"
    }
   },
   "source": [
    "#### Bild 5: Visualisierung der Regressionskoeffizienten"
   ]
  },
  {
   "cell_type": "code",
   "execution_count": 66,
   "id": "3342023d-630a-4bf6-80d5-918e4f00d69b",
   "metadata": {
    "slideshow": {
     "slide_type": "skip"
    }
   },
   "outputs": [],
   "source": [
    "# Extrahieren der Koeffizienten (ohne den Intercept)\n",
    "coefficients = model_standardized.params[1:]  # Der erste Koeffizient ist der Intercept, den wir ignorieren\n",
    "variables = X.columns"
   ]
  },
  {
   "cell_type": "code",
   "execution_count": 67,
   "id": "4d654ca4-0f0f-4b0e-b868-253800fa62cd",
   "metadata": {
    "slideshow": {
     "slide_type": "skip"
    }
   },
   "outputs": [],
   "source": [
    "# Erstellen eines Datenrahmens für die Visualisierung\n",
    "coef_df = pd.DataFrame({\n",
    "    'Variable': variables,\n",
    "    'Koeffizient': coefficients\n",
    "})"
   ]
  },
  {
   "cell_type": "code",
   "execution_count": 68,
   "id": "e9bec38b-871e-4287-b9e5-77f92689dfa7",
   "metadata": {
    "slideshow": {
     "slide_type": "skip"
    }
   },
   "outputs": [
    {
     "data": {
      "image/png": "[encoded data removed]",
      "text/plain": [
       "<Figure size 1000x600 with 1 Axes>"
      ]
     },
     "metadata": {},
     "output_type": "display_data"
    }
   ],
   "source": [
    "# Balkendiagramm erstellen\n",
    "plt.figure(figsize=(10, 6))\n",
    "plt.bar(coef_df['Variable'], coef_df['Koeffizient'], color='skyblue')\n",
    "plt.xlabel('Variablen')\n",
    "plt.ylabel('Standardisierte Koeffizienten')\n",
    "plt.title('Einflussstärke der Variablen auf den Preis des Autos')\n",
    "plt.show()"
   ]
  },
  {
   "cell_type": "markdown",
   "id": "46b2f6ed-7996-4dc4-b335-225f7db790d3",
   "metadata": {
    "slideshow": {
     "slide_type": "skip"
    }
   },
   "source": [
    "### F17 Schätzen Sie eine Regression, die die Wahrscheinlichkeit des Kaufs eines Autos ermittelt. Verwenden Sie die entsprechende Methode."
   ]
  },
  {
   "cell_type": "code",
   "execution_count": 69,
   "id": "e564d661-7cf0-42bf-813b-f27dd66ed74c",
   "metadata": {
    "slideshow": {
     "slide_type": "skip"
    }
   },
   "outputs": [],
   "source": [
    "#definieren der abhängigen Variable\n",
    "df_bkg[\"Kauf\"] = np.where(df_bkg[\"Preis\"] > 0, 1, 0)"
   ]
  },
  {
   "cell_type": "code",
   "execution_count": 70,
   "id": "19bfa817-06df-45a1-a757-ee1da9449c17",
   "metadata": {
    "slideshow": {
     "slide_type": "skip"
    }
   },
   "outputs": [
    {
     "name": "stdout",
     "output_type": "stream",
     "text": [
      "Optimization terminated successfully.\n",
      "         Current function value: 0.579008\n",
      "         Iterations 6\n"
     ]
    },
    {
     "data": {
      "text/html": [
       "<table class=\"simpletable\">\n",
       "<caption>Logit Regression Results</caption>\n",
       "<tr>\n",
       "  <th>Dep. Variable:</th>         <td>Kauf</td>       <th>  No. Observations:  </th>  <td>  1995</td>  \n",
       "</tr>\n",
       "<tr>\n",
       "  <th>Model:</th>                 <td>Logit</td>      <th>  Df Residuals:      </th>  <td>  1990</td>  \n",
       "</tr>\n",
       "<tr>\n",
       "  <th>Method:</th>                 <td>MLE</td>       <th>  Df Model:          </th>  <td>     4</td>  \n",
       "</tr>\n",
       "<tr>\n",
       "  <th>Date:</th>            <td>Thu, 27 Jun 2024</td> <th>  Pseudo R-squ.:     </th>  <td>0.1577</td>  \n",
       "</tr>\n",
       "<tr>\n",
       "  <th>Time:</th>                <td>21:20:50</td>     <th>  Log-Likelihood:    </th> <td> -1155.1</td> \n",
       "</tr>\n",
       "<tr>\n",
       "  <th>converged:</th>             <td>True</td>       <th>  LL-Null:           </th> <td> -1371.4</td> \n",
       "</tr>\n",
       "<tr>\n",
       "  <th>Covariance Type:</th>     <td>nonrobust</td>    <th>  LLR p-value:       </th> <td>2.469e-92</td>\n",
       "</tr>\n",
       "</table>\n",
       "<table class=\"simpletable\">\n",
       "<tr>\n",
       "       <td></td>         <th>coef</th>     <th>std err</th>      <th>z</th>      <th>P>|z|</th>  <th>[0.025</th>    <th>0.975]</th>  \n",
       "</tr>\n",
       "<tr>\n",
       "  <th>const</th>      <td>   -2.4426</td> <td>    0.263</td> <td>   -9.270</td> <td> 0.000</td> <td>   -2.959</td> <td>   -1.926</td>\n",
       "</tr>\n",
       "<tr>\n",
       "  <th>Einkommen</th>  <td>-4.213e-05</td> <td> 5.43e-06</td> <td>   -7.761</td> <td> 0.000</td> <td>-5.28e-05</td> <td>-3.15e-05</td>\n",
       "</tr>\n",
       "<tr>\n",
       "  <th>Alter</th>      <td>    0.0180</td> <td>    0.007</td> <td>    2.630</td> <td> 0.009</td> <td>    0.005</td> <td>    0.031</td>\n",
       "</tr>\n",
       "<tr>\n",
       "  <th>Geschlecht</th> <td>    0.2466</td> <td>    0.103</td> <td>    2.395</td> <td> 0.017</td> <td>    0.045</td> <td>    0.448</td>\n",
       "</tr>\n",
       "<tr>\n",
       "  <th>Zeit</th>       <td>    0.1022</td> <td>    0.006</td> <td>   17.532</td> <td> 0.000</td> <td>    0.091</td> <td>    0.114</td>\n",
       "</tr>\n",
       "</table>"
      ],
      "text/latex": [
       "\\begin{center}\n",
       "\\begin{tabular}{lclc}\n",
       "\\toprule\n",
       "\\textbf{Dep. Variable:}   &       Kauf       & \\textbf{  No. Observations:  } &     1995    \\\\\n",
       "\\textbf{Model:}           &      Logit       & \\textbf{  Df Residuals:      } &     1990    \\\\\n",
       "\\textbf{Method:}          &       MLE        & \\textbf{  Df Model:          } &        4    \\\\\n",
       "\\textbf{Date:}            & Thu, 27 Jun 2024 & \\textbf{  Pseudo R-squ.:     } &   0.1577    \\\\\n",
       "\\textbf{Time:}            &     21:20:50     & \\textbf{  Log-Likelihood:    } &   -1155.1   \\\\\n",
       "\\textbf{converged:}       &       True       & \\textbf{  LL-Null:           } &   -1371.4   \\\\\n",
       "\\textbf{Covariance Type:} &    nonrobust     & \\textbf{  LLR p-value:       } & 2.469e-92   \\\\\n",
       "\\bottomrule\n",
       "\\end{tabular}\n",
       "\\begin{tabular}{lcccccc}\n",
       "                    & \\textbf{coef} & \\textbf{std err} & \\textbf{z} & \\textbf{P$> |$z$|$} & \\textbf{[0.025} & \\textbf{0.975]}  \\\\\n",
       "\\midrule\n",
       "\\textbf{const}      &      -2.4426  &        0.263     &    -9.270  &         0.000        &       -2.959    &       -1.926     \\\\\n",
       "\\textbf{Einkommen}  &   -4.213e-05  &     5.43e-06     &    -7.761  &         0.000        &    -5.28e-05    &    -3.15e-05     \\\\\n",
       "\\textbf{Alter}      &       0.0180  &        0.007     &     2.630  &         0.009        &        0.005    &        0.031     \\\\\n",
       "\\textbf{Geschlecht} &       0.2466  &        0.103     &     2.395  &         0.017        &        0.045    &        0.448     \\\\\n",
       "\\textbf{Zeit}       &       0.1022  &        0.006     &    17.532  &         0.000        &        0.091    &        0.114     \\\\\n",
       "\\bottomrule\n",
       "\\end{tabular}\n",
       "%\\caption{Logit Regression Results}\n",
       "\\end{center}"
      ],
      "text/plain": [
       "<class 'statsmodels.iolib.summary.Summary'>\n",
       "\"\"\"\n",
       "                           Logit Regression Results                           \n",
       "==============================================================================\n",
       "Dep. Variable:                   Kauf   No. Observations:                 1995\n",
       "Model:                          Logit   Df Residuals:                     1990\n",
       "Method:                           MLE   Df Model:                            4\n",
       "Date:                Thu, 27 Jun 2024   Pseudo R-squ.:                  0.1577\n",
       "Time:                        21:20:50   Log-Likelihood:                -1155.1\n",
       "converged:                       True   LL-Null:                       -1371.4\n",
       "Covariance Type:            nonrobust   LLR p-value:                 2.469e-92\n",
       "==============================================================================\n",
       "                 coef    std err          z      P>|z|      [0.025      0.975]\n",
       "------------------------------------------------------------------------------\n",
       "const         -2.4426      0.263     -9.270      0.000      -2.959      -1.926\n",
       "Einkommen  -4.213e-05   5.43e-06     -7.761      0.000   -5.28e-05   -3.15e-05\n",
       "Alter          0.0180      0.007      2.630      0.009       0.005       0.031\n",
       "Geschlecht     0.2466      0.103      2.395      0.017       0.045       0.448\n",
       "Zeit           0.1022      0.006     17.532      0.000       0.091       0.114\n",
       "==============================================================================\n",
       "\"\"\""
      ]
     },
     "execution_count": 70,
     "metadata": {},
     "output_type": "execute_result"
    }
   ],
   "source": [
    "y_lg = df_bkg[\"Kauf\"]\n",
    "X_lg = df_bkg[[\"Einkommen\", \"Alter\", \"Geschlecht\", \"Zeit\"]]\n",
    "X_lg = sm.add_constant(X_lg)\n",
    "model_lg = sm.Logit(y_lg, X_lg).fit()\n",
    "model_lg.summary()"
   ]
  },
  {
   "cell_type": "markdown",
   "id": "95ba7d61-bea0-4d02-840e-b5d647f0f089",
   "metadata": {
    "slideshow": {
     "slide_type": "skip"
    }
   },
   "source": [
    "### F18 Wie hoch ist die Wahrscheinlichkeit, dass ein 32-jähriger männlicher Kunde mit einem Einkommen von 30.000 Euro, der das Auto 30 Minuten lang getestet hat, eines unserer Modelle kauft? Wie hoch ist die Wahrscheinlichkeit, dass ein 51-jähriger männlicher Kunde mit einem Einkommen von 54.000 Euro, der das Auto 45 Minuten lang getestet hat, eines unserer Modelle kauft?"
   ]
  },
  {
   "cell_type": "code",
   "execution_count": 71,
   "id": "85f009fe-6450-4831-8c34-a88f0328d85f",
   "metadata": {
    "slideshow": {
     "slide_type": "notes"
    }
   },
   "outputs": [
    {
     "data": {
      "text/plain": [
       "0.5453996134650454"
      ]
     },
     "execution_count": 71,
     "metadata": {},
     "output_type": "execute_result"
    }
   ],
   "source": [
    "import math\n",
    "\n",
    "# Koeffizienten\n",
    "intercept = -2.4426\t\n",
    "coef_Einkommen = -0.00004213  \n",
    "coef_Alter = 0.0180\n",
    "coef_Geschlecht = 0.2466\n",
    "coef_Zeit = 0.1022\n",
    "\n",
    "# Werte der unabhängigen Variablen\n",
    "x_Einkommen = 30000\n",
    "x_Alter = 32\n",
    "x_Geschlecht = 1\n",
    "x_Zeit = 30\n",
    "\n",
    "# Berechnung der linearen Kombination\n",
    "linear_combination = intercept + (coef_Einkommen * x_Einkommen) + (coef_Alter * x_Alter) + (coef_Geschlecht * x_Geschlecht) + (coef_Zeit * x_Zeit)\n",
    "\n",
    "# Berechnung der Wahrscheinlichkeit\n",
    "Wahrscheinlichkeit_Kauf = 1 / (1 + math.exp(-linear_combination))\n",
    "\n",
    "Wahrscheinlichkeit_Kauf"
   ]
  },
  {
   "cell_type": "code",
   "execution_count": 72,
   "id": "79ea1a19-d2ee-4f86-b4a7-31291d1b824e",
   "metadata": {
    "slideshow": {
     "slide_type": "skip"
    }
   },
   "outputs": [],
   "source": [
    "#X_predict = pd.DataFrame({\n",
    "#    \"Alter\": [32],           \n",
    "#    \"Geschlecht\": [1],\n",
    "#    \"Einkommen\": [30000],\n",
    "#    \"Zeit\": [30]\n",
    "#})\n",
    "\n",
    "#X_predict = sm.add_constant(X_predict, has_constant='add')\n",
    "                        \n",
    "#predicted_probability = model_lg.predict(X_predict)\n",
    "\n",
    "#print(predicted_probability)"
   ]
  },
  {
   "cell_type": "code",
   "execution_count": 73,
   "id": "9ebda24c-2e0e-494e-9728-b095fb1ee825",
   "metadata": {
    "slideshow": {
     "slide_type": "skip"
    }
   },
   "outputs": [
    {
     "data": {
      "text/plain": [
       "0.7400022019768026"
      ]
     },
     "execution_count": 73,
     "metadata": {},
     "output_type": "execute_result"
    }
   ],
   "source": [
    "# Koeffizienten\n",
    "intercept = -2.4426\t\n",
    "coef_Einkommen = -0.00004213  \n",
    "coef_Alter = 0.0180\n",
    "coef_Geschlecht = 0.2466\n",
    "coef_Zeit = 0.1022\n",
    "\n",
    "# Werte der unabhängigen Variablen\n",
    "x_Einkommen = 54000\n",
    "x_Alter = 51\n",
    "x_Geschlecht = 1\n",
    "x_Zeit = 45\n",
    "\n",
    "# Berechnung der linearen Kombination\n",
    "linear_combination = intercept + (coef_Einkommen * x_Einkommen) + (coef_Alter * x_Alter) + (coef_Geschlecht * x_Geschlecht) + (coef_Zeit * x_Zeit)\n",
    "\n",
    "# Berechnung der Wahrscheinlichkeit\n",
    "Wahrscheinlichkeit_Kauf = 1 / (1 + math.exp(-linear_combination))\n",
    "\n",
    "Wahrscheinlichkeit_Kauf"
   ]
  },
  {
   "cell_type": "code",
   "execution_count": 74,
   "id": "c54cb525-7cce-4d14-bea3-c7164582d079",
   "metadata": {
    "slideshow": {
     "slide_type": "skip"
    }
   },
   "outputs": [],
   "source": [
    "#X_predict = pd.DataFrame({\n",
    "#    \"Alter\": [51],           \n",
    "#    \"Geschlecht\": [1],\n",
    "#    \"Einkommen\": [54000],\n",
    "#    \"Zeit\": [45]\n",
    "#})\n",
    "\n",
    "#X_predict = sm.add_constant(X_predict, has_constant='add')\n",
    "\n",
    "#predicted_probability = model_lg.predict(X_predict)\n",
    "\n",
    "#np.round(predicted_probability, 10)"
   ]
  },
  {
   "cell_type": "markdown",
   "id": "2c4e7e94-3f72-4e78-b0bc-a87067723e42",
   "metadata": {
    "slideshow": {
     "slide_type": "skip"
    }
   },
   "source": [
    "### F19 Auf welche Probleme sind Sie bei der Zusammenführung des Datensatzes gestoßen?\n",
    "0. Wir waren uns zu Beginn unsicher, ob wir die Listen direkt in dem Dataframe zusammenfügen sollen und damit weiterarbeiten (so haben wir es letztendlich gemacht) oder erstmal die Listen der Besucher und Kunden zusammenführen (mit pandas), daraus eine Excel-Datei machen und diese Excelliste dann mit der geo.txt Datei verbinden und auch daraus eine \"finale\" Exel-Datei zu machen, auf welche wir zugreifen würden. Die 2 Option war der anfängliche Ansatz, aber schien zu umständlich.\n",
    "1. \n",
    "Es war herausfordernd herauszufinden, welche der Funktionen (concat oder merger) zuerst angewendet werden soll bzw. welcher sich besser eignet.\n",
    "2. \n",
    "Ein weiteres Problem war zu verstehen, welche inputs die Funktion Concat benötigt, um die Listen so zusammenzufügen wie man es will. Die Lösung ist im Endeffekt sehr simpel, aber ohne vorheriges Verständnis von der funktionsweise der Funktion, dauert es etwas die Lösung nachzuvollziehen\n",
    "3. .\n",
    "Ein ähnliches Problem gab es auch bei der merge-Funktion. Es gibt viele mögliche Variablen die bestimmt werden können und bis man herausgefunden hat, welche man benutzen muss, um die Excelliste und die Weise wie die Liste am Ende aussehen soll, zu erreichen, dauert das eine Weile."
   ]
  },
  {
   "cell_type": "markdown",
   "id": "c145dce5-0cad-4d4a-a589-d2744ad99d2b",
   "metadata": {
    "jp-MarkdownHeadingCollapsed": true,
    "slideshow": {
     "slide_type": "skip"
    }
   },
   "source": [
    "### F20 Welche Vorschläge würden Sie der Kundenabteilung für die Umfrage im nächsten Jahr machen? Welche zusätzlichen Informationen sollten gesammelt werden? Formulieren Sie zwei Vorschläge.\n",
    "\n",
    "#### 1. Sammlung von Daten über den zeitlichen Abstand zum letzten Autokauf.\n",
    "##### a) Erstellung von Kaufzyklen: \n",
    "Lebensdauer und Abnutzung des Fahrzeuges verfolgen; Budgetierung und Planung der Anschaffung eines Fahrzeuges nachvollziehen\n",
    "##### b) Marketingstrategien: \n",
    "Timing von Angeboten; Maßgeschneiderte Kommunikation wie zum Beispiel Wartungs- und Zubehörangebote für Neukunden und ansprache für neue Autokäufe für alte Kunden\n",
    "\n",
    "#### 2. Sammlung weiterer Demografischer Daten: Bildungsniveau, Familienstand und Berufsstatus.\n",
    "##### a) Personalisierte Kundenansprache: \n",
    "Indikatoren nutzen zu einem besseren Angebot wie zum Beispiel bei hohem Bildungsgrade vermehrt technologische Features, bei Familie mit Kindern größere Fahrzeuge mit mehr Sitzen.\n",
    "##### b) Segmentierung und Marktanalyse: \n",
    "Identifikation unserer Zielgruppe und gezielte Ansprache auf Basis von Bedürfnisanalysen.\n",
    "##### c) langfristige Kundenbeziehungen: \n",
    "Aufbauen auf Basis mehrer Informationen und einer besseren Fähigkeit daraus Rückschlüsse für eine Steigerung der Kundenzufriedenheit zu ziehen."
   ]
  },
  {
   "cell_type": "markdown",
   "id": "c05fb589-2e9f-4127-82bb-d0972ce02c68",
   "metadata": {
    "slideshow": {
     "slide_type": "skip"
    }
   },
   "source": [
    "### Bild 3: Balkendiagramm - Durchschnittsalter pro Bundesland (von Käufern)"
   ]
  },
  {
   "cell_type": "code",
   "execution_count": 75,
   "id": "0225b10d-386f-4250-9e22-81a0488860b9",
   "metadata": {
    "slideshow": {
     "slide_type": "skip"
    }
   },
   "outputs": [
    {
     "data": {
      "text/plain": [
       "Niederlassung\n",
       "Hessen                 49.250000\n",
       "Bayern                 49.478723\n",
       "Nordrhein-Westfalen    49.845714\n",
       "Niedersachsen          49.947917\n",
       "Hamburg                50.302326\n",
       "Thüringen              50.591837\n",
       "Sachsen                50.910112\n",
       "Baden-Württemberg      51.136585\n",
       "Brandenburg            51.378378\n",
       "Berlin                 51.658730\n",
       "Name: Alter, dtype: float64"
      ]
     },
     "execution_count": 75,
     "metadata": {},
     "output_type": "execute_result"
    }
   ],
   "source": [
    "#Alter pro Bundesland bestimmen\n",
    "df_durchschnittsalter_pro_bundesland = df_preis_vorhanden.groupby(\"Niederlassung\")[\"Alter\"].mean()\n",
    "df_durchschnittsalter_pro_bundesland = df_durchschnittsalter_pro_bundesland.sort_values(ascending = True)\n",
    "df_durchschnittsalter_pro_bundesland"
   ]
  },
  {
   "cell_type": "code",
   "execution_count": 76,
   "id": "ad4d02d4-1867-4298-95c7-c8caa33cd861",
   "metadata": {
    "slideshow": {
     "slide_type": "skip"
    }
   },
   "outputs": [
    {
     "data": {
      "image/png": "[encoded data removed]",
      "text/plain": [
       "<Figure size 1000x600 with 1 Axes>"
      ]
     },
     "metadata": {},
     "output_type": "display_data"
    }
   ],
   "source": [
    "#Balkendiagramm erstellen\n",
    "plt.figure(figsize=(10,6))\n",
    "df_durchschnittsalter_pro_bundesland.plot(kind = \"bar\", color = \"#800000\")\n",
    "#Balkendiagramm benennen\n",
    "plt.title(\"Durchschnittsalter pro Bundesland\")\n",
    "plt.xlabel(\"Niederlassung\")\n",
    "plt.ylabel(\"Durchschnittsalter\")\n",
    "#Rotieren der Bundeslandbezeichnungen auf der x-Achse (der hinzugefügte Unterstrich unterbindet ungewollte Ausgaben)\n",
    "_ = plt.xticks(rotation=45, ha='right')"
   ]
  },
  {
   "cell_type": "markdown",
   "id": "518791ad-e6de-421d-9b94-27b637bcd45b",
   "metadata": {
    "slideshow": {
     "slide_type": "skip"
    }
   },
   "source": [
    "### Bild 4: Streudiagramm - Preis und Einkommen Zusammenhang"
   ]
  },
  {
   "cell_type": "code",
   "execution_count": 77,
   "id": "a651e430-ca4e-4d4e-9f12-eab57dfc2b33",
   "metadata": {
    "slideshow": {
     "slide_type": "skip"
    }
   },
   "outputs": [
    {
     "data": {
      "image/png": "[encoded data removed]",
      "text/plain": [
       "<Figure size 1000x600 with 1 Axes>"
      ]
     },
     "metadata": {},
     "output_type": "display_data"
    }
   ],
   "source": [
    "#Streudiagramm erstellen\n",
    "plt.figure(figsize=(10,6))\n",
    "plt.scatter(df_preis_vorhanden[\"Preis\"], df_preis_vorhanden[\"Einkommen\"], color = \"#800000\")\n",
    "#Balkendiagramm benennen\n",
    "plt.title(\"Preis und Einkommen Zusammenhang\")\n",
    "plt.xlabel(\"Preis\")\n",
    "plt.ylabel(\"Einkommen\")\n",
    "#Rotieren der Bundeslandbezeichnungen auf der x-Achse (der hinzugefügte Unterstrich unterbindet ungewollte Ausgaben)\n",
    "_ = plt.xticks(rotation=45, ha='right')\n",
    "# Zahlen an den Achsen anpassen\n",
    "_ = plt.xticks(range(20000, 180000, 10000))"
   ]
  },
  {
   "cell_type": "markdown",
   "id": "1829f240",
   "metadata": {
    "slideshow": {
     "slide_type": "slide"
    }
   },
   "source": [
    "# Elektroauto AG - Bundesweite Datenanalyse  <br><br><br> \n",
    "05.07.2024  \n",
    "Datenanalysten: Keanu Kilka, Ryan Oyeneye"
   ]
  },
  {
   "cell_type": "markdown",
   "id": "3a70a079",
   "metadata": {
    "slideshow": {
     "slide_type": "slide"
    }
   },
   "source": [
    "# F1 & F3 Verkaufszahlen und Gesamtumsatz<br>\n",
    "+ Es wurden 1104 Autos verkauft\n",
    "     \n",
    "+ Der Gesamtumsatz beträgt 98.228.619,38€\n",
    "\n",
    "\n"
   ]
  },
  {
   "cell_type": "markdown",
   "id": "a302c4b1",
   "metadata": {
    "slideshow": {
     "slide_type": "slide"
    }
   },
   "source": [
    "# F2 Preisbetrachtung verkaufter Autos"
   ]
  },
  {
   "cell_type": "code",
   "execution_count": 78,
   "id": "ab481a72",
   "metadata": {
    "slideshow": {
     "slide_type": "subslide"
    }
   },
   "outputs": [
    {
     "data": {
      "image/png": "[encoded data removed]",
      "text/plain": [
       "<Figure size 1000x600 with 1 Axes>"
      ]
     },
     "metadata": {},
     "output_type": "display_data"
    }
   ],
   "source": [
    "### Balkendiagramm erstellen\n",
    "plt.figure(figsize=(10, 6))\n",
    "sns.barplot(x='Preis', y='Wert', data=price_stats, palette='viridis')\n",
    "plt.title('Höchster, Durchschnittlicher und Niedrigster Preis')\n",
    "plt.ylabel('Preis in Euro')\n",
    "plt.xlabel('Preiskategorie')\n",
    "plt.show()"
   ]
  },
  {
   "cell_type": "markdown",
   "id": "fc1bc558",
   "metadata": {
    "slideshow": {
     "slide_type": "slide"
    }
   },
   "source": [
    "# F4 & F5 Verkaufsmenge und ⌀ Umsatz pro Bundesland<br><br>\n",
    "\n"
   ]
  },
  {
   "cell_type": "code",
   "execution_count": 79,
   "id": "a176d66d",
   "metadata": {
    "slideshow": {
     "slide_type": "subslide"
    }
   },
   "outputs": [
    {
     "data": {
      "image/png": "[encoded data removed]",
      "text/plain": [
       "<Figure size 1000x600 with 1 Axes>"
      ]
     },
     "metadata": {},
     "output_type": "display_data"
    }
   ],
   "source": [
    "\n",
    "#Balkendiagramm erstellen\n",
    "#Verwendung von #800000 für die Farbe \"Weinrot\"\n",
    "plt.figure(figsize=(10,6))\n",
    "anzahl_verkauf_pro_land.plot(kind = \"bar\", color = \"#800000\")\n",
    "#Balkendiagramm benennen\n",
    "plt.title(\"Kundenanzahl pro Bundesland\")\n",
    "plt.xlabel(\"Niederlassung\")\n",
    "plt.ylabel(\"Kundenanzahl\")\n",
    "#Rotieren der Bundeslandbezeichnungen auf der x-Achse (der hinzugefügte Unterstrich unterbindet ungewollte Ausgaben)\n",
    "_ = plt.xticks(rotation=45, ha='right')"
   ]
  },
  {
   "cell_type": "code",
   "execution_count": 80,
   "id": "0cce588c",
   "metadata": {
    "slideshow": {
     "slide_type": "subslide"
    }
   },
   "outputs": [
    {
     "data": {
      "text/plain": [
       "Niederlassung\n",
       "Baden-Württemberg      90969.560000\n",
       "Thüringen              90816.994082\n",
       "Berlin                 89584.984048\n",
       "Sachsen                89455.080674\n",
       "Bayern                 89344.313245\n",
       "Nordrhein-Westfalen    88633.265200\n",
       "Niedersachsen          87963.312500\n",
       "Brandenburg            86673.640811\n",
       "Hessen                 85864.929479\n",
       "Hamburg                85549.499070\n",
       "Name: Preis, dtype: float64"
      ]
     },
     "execution_count": 80,
     "metadata": {},
     "output_type": "execute_result"
    }
   ],
   "source": [
    "#Ermittelung der Spalten wo Preis vorhanden ist\n",
    "df_mit_preis = df_bkg[df_bkg[\"Preis\"].notna()]\n",
    "#Ermittlung Durchschnittsumsatz pro Bundesland\n",
    "durchschnitt_umsatz_pro_land = df_mit_preis.groupby('Niederlassung')['Preis'].mean()\n",
    "durchschnitt_umsatz_pro_land.sort_values(ascending=False)"
   ]
  },
  {
   "cell_type": "markdown",
   "id": "ffec4f0f",
   "metadata": {
    "slideshow": {
     "slide_type": "slide"
    }
   },
   "source": [
    "# F8 Durchschnittsalter - Kunden & Besucher<br><br>\n"
   ]
  },
  {
   "cell_type": "code",
   "execution_count": 81,
   "id": "ab5ae001",
   "metadata": {
    "slideshow": {
     "slide_type": "fragment"
    }
   },
   "outputs": [
    {
     "data": {
      "text/plain": [
       "50.375"
      ]
     },
     "execution_count": 81,
     "metadata": {},
     "output_type": "execute_result"
    }
   ],
   "source": [
    "#Berechnung des Durchschnitssalters unserer Kunden\n",
    "durchschnittsalter_Kunden = df_mit_preis[\"Alter\"].mean()\n",
    "durchschnittsalter_Kunden"
   ]
  },
  {
   "cell_type": "code",
   "execution_count": 82,
   "id": "eae0a544",
   "metadata": {
    "slideshow": {
     "slide_type": "fragment"
    }
   },
   "outputs": [
    {
     "data": {
      "text/plain": [
       "49.88103254769921"
      ]
     },
     "execution_count": 82,
     "metadata": {},
     "output_type": "execute_result"
    }
   ],
   "source": [
    "#Berechnung des Durchschnitssalters unserer Besucher\n",
    "#Filtern der Besucher\n",
    "df_ohne_preis = df_bkg[df_bkg[\"Preis\"].isna()]\n",
    "#Durchschnittsalter\n",
    "durchschnittsalter_Besucher = df_ohne_preis[\"Alter\"].mean()\n",
    "durchschnittsalter_Besucher"
   ]
  },
  {
   "cell_type": "code",
   "execution_count": 83,
   "id": "28cf4e9a",
   "metadata": {
    "slideshow": {
     "slide_type": "subslide"
    }
   },
   "outputs": [
    {
     "data": {
      "image/png": "[encoded data removed]",
      "text/plain": [
       "<Figure size 1000x600 with 1 Axes>"
      ]
     },
     "metadata": {},
     "output_type": "display_data"
    }
   ],
   "source": [
    "#Balkendiagramm erstellen\n",
    "plt.figure(figsize=(10,6))\n",
    "df_durchschnittsalter_pro_bundesland.plot(kind = \"bar\", color = \"#800000\")\n",
    "#Balkendiagramm benennen\n",
    "plt.title(\"Durchschnittsalter pro Bundesland\")\n",
    "plt.xlabel(\"Niederlassung\")\n",
    "plt.ylabel(\"Durchschnittsalter\")\n",
    "#Rotieren der Bundeslandbezeichnungen auf der x-Achse (der hinzugefügte Unterstrich unterbindet ungewollte Ausgaben)\n",
    "_ = plt.xticks(rotation=45, ha='right')"
   ]
  },
  {
   "cell_type": "markdown",
   "id": "56494327",
   "metadata": {
    "slideshow": {
     "slide_type": "slide"
    }
   },
   "source": [
    "# F14 sozioökonimische Merkmale - Kaufpreis?<br><br>\n"
   ]
  },
  {
   "cell_type": "markdown",
   "id": "51f5ccc0",
   "metadata": {
    "slideshow": {
     "slide_type": "fragment"
    }
   },
   "source": [
    "Die Kundenliste einschränken auf die relevanten Merkmale\n",
    "+ Alter\n",
    "+ Einkommen \n",
    "+ Geschlecht\n",
    "+ Zeit<br>\n",
    "\n",
    "Mittels der Datenpunkte dieser Merkmale bestimmen wir die Regression, um das Außmaß der Beeinflussung abzuwägen"
   ]
  },
  {
   "cell_type": "code",
   "execution_count": 84,
   "id": "ca70a273",
   "metadata": {
    "slideshow": {
     "slide_type": "subslide"
    }
   },
   "outputs": [
    {
     "data": {
      "text/html": [
       "<table class=\"simpletable\">\n",
       "<caption>OLS Regression Results</caption>\n",
       "<tr>\n",
       "  <th>Dep. Variable:</th>          <td>Preis</td>      <th>  R-squared (uncentered):</th>      <td>   0.988</td> \n",
       "</tr>\n",
       "<tr>\n",
       "  <th>Model:</th>                   <td>OLS</td>       <th>  Adj. R-squared (uncentered):</th> <td>   0.988</td> \n",
       "</tr>\n",
       "<tr>\n",
       "  <th>Method:</th>             <td>Least Squares</td>  <th>  F-statistic:       </th>          <td>2.258e+04</td>\n",
       "</tr>\n",
       "<tr>\n",
       "  <th>Date:</th>             <td>Thu, 27 Jun 2024</td> <th>  Prob (F-statistic):</th>           <td>  0.00</td>  \n",
       "</tr>\n",
       "<tr>\n",
       "  <th>Time:</th>                 <td>21:20:52</td>     <th>  Log-Likelihood:    </th>          <td> -11748.</td> \n",
       "</tr>\n",
       "<tr>\n",
       "  <th>No. Observations:</th>      <td>  1104</td>      <th>  AIC:               </th>          <td>2.350e+04</td>\n",
       "</tr>\n",
       "<tr>\n",
       "  <th>Df Residuals:</th>          <td>  1100</td>      <th>  BIC:               </th>          <td>2.352e+04</td>\n",
       "</tr>\n",
       "<tr>\n",
       "  <th>Df Model:</th>              <td>     4</td>      <th>                     </th>              <td> </td>    \n",
       "</tr>\n",
       "<tr>\n",
       "  <th>Covariance Type:</th>      <td>nonrobust</td>    <th>                     </th>              <td> </td>    \n",
       "</tr>\n",
       "</table>\n",
       "<table class=\"simpletable\">\n",
       "<tr>\n",
       "       <td></td>         <th>coef</th>     <th>std err</th>      <th>t</th>      <th>P>|t|</th>  <th>[0.025</th>    <th>0.975]</th>  \n",
       "</tr>\n",
       "<tr>\n",
       "  <th>Einkommen</th>  <td>    1.0261</td> <td>    0.036</td> <td>   28.535</td> <td> 0.000</td> <td>    0.956</td> <td>    1.097</td>\n",
       "</tr>\n",
       "<tr>\n",
       "  <th>Alter</th>      <td>  478.1874</td> <td>   34.816</td> <td>   13.735</td> <td> 0.000</td> <td>  409.874</td> <td>  546.501</td>\n",
       "</tr>\n",
       "<tr>\n",
       "  <th>Geschlecht</th> <td> 2126.0678</td> <td>  614.882</td> <td>    3.458</td> <td> 0.001</td> <td>  919.593</td> <td> 3332.542</td>\n",
       "</tr>\n",
       "<tr>\n",
       "  <th>Zeit</th>       <td>   69.7922</td> <td>   40.464</td> <td>    1.725</td> <td> 0.085</td> <td>   -9.602</td> <td>  149.187</td>\n",
       "</tr>\n",
       "</table>\n",
       "<table class=\"simpletable\">\n",
       "<tr>\n",
       "  <th>Omnibus:</th>       <td> 1.263</td> <th>  Durbin-Watson:     </th> <td>   2.103</td>\n",
       "</tr>\n",
       "<tr>\n",
       "  <th>Prob(Omnibus):</th> <td> 0.532</td> <th>  Jarque-Bera (JB):  </th> <td>   1.262</td>\n",
       "</tr>\n",
       "<tr>\n",
       "  <th>Skew:</th>          <td> 0.014</td> <th>  Prob(JB):          </th> <td>   0.532</td>\n",
       "</tr>\n",
       "<tr>\n",
       "  <th>Kurtosis:</th>      <td> 2.837</td> <th>  Cond. No.          </th> <td>1.23e+05</td>\n",
       "</tr>\n",
       "</table><br/><br/>Notes:<br/>[1] R² is computed without centering (uncentered) since the model does not contain a constant.<br/>[2] Standard Errors assume that the covariance matrix of the errors is correctly specified.<br/>[3] The condition number is large, 1.23e+05. This might indicate that there are<br/>strong multicollinearity or other numerical problems."
      ],
      "text/latex": [
       "\\begin{center}\n",
       "\\begin{tabular}{lclc}\n",
       "\\toprule\n",
       "\\textbf{Dep. Variable:}    &      Preis       & \\textbf{  R-squared (uncentered):}      &     0.988   \\\\\n",
       "\\textbf{Model:}            &       OLS        & \\textbf{  Adj. R-squared (uncentered):} &     0.988   \\\\\n",
       "\\textbf{Method:}           &  Least Squares   & \\textbf{  F-statistic:       }          & 2.258e+04   \\\\\n",
       "\\textbf{Date:}             & Thu, 27 Jun 2024 & \\textbf{  Prob (F-statistic):}          &     0.00    \\\\\n",
       "\\textbf{Time:}             &     21:20:52     & \\textbf{  Log-Likelihood:    }          &   -11748.   \\\\\n",
       "\\textbf{No. Observations:} &        1104      & \\textbf{  AIC:               }          & 2.350e+04   \\\\\n",
       "\\textbf{Df Residuals:}     &        1100      & \\textbf{  BIC:               }          & 2.352e+04   \\\\\n",
       "\\textbf{Df Model:}         &           4      & \\textbf{                     }          &             \\\\\n",
       "\\textbf{Covariance Type:}  &    nonrobust     & \\textbf{                     }          &             \\\\\n",
       "\\bottomrule\n",
       "\\end{tabular}\n",
       "\\begin{tabular}{lcccccc}\n",
       "                    & \\textbf{coef} & \\textbf{std err} & \\textbf{t} & \\textbf{P$> |$t$|$} & \\textbf{[0.025} & \\textbf{0.975]}  \\\\\n",
       "\\midrule\n",
       "\\textbf{Einkommen}  &       1.0261  &        0.036     &    28.535  &         0.000        &        0.956    &        1.097     \\\\\n",
       "\\textbf{Alter}      &     478.1874  &       34.816     &    13.735  &         0.000        &      409.874    &      546.501     \\\\\n",
       "\\textbf{Geschlecht} &    2126.0678  &      614.882     &     3.458  &         0.001        &      919.593    &     3332.542     \\\\\n",
       "\\textbf{Zeit}       &      69.7922  &       40.464     &     1.725  &         0.085        &       -9.602    &      149.187     \\\\\n",
       "\\bottomrule\n",
       "\\end{tabular}\n",
       "\\begin{tabular}{lclc}\n",
       "\\textbf{Omnibus:}       &  1.263 & \\textbf{  Durbin-Watson:     } &    2.103  \\\\\n",
       "\\textbf{Prob(Omnibus):} &  0.532 & \\textbf{  Jarque-Bera (JB):  } &    1.262  \\\\\n",
       "\\textbf{Skew:}          &  0.014 & \\textbf{  Prob(JB):          } &    0.532  \\\\\n",
       "\\textbf{Kurtosis:}      &  2.837 & \\textbf{  Cond. No.          } & 1.23e+05  \\\\\n",
       "\\bottomrule\n",
       "\\end{tabular}\n",
       "%\\caption{OLS Regression Results}\n",
       "\\end{center}\n",
       "\n",
       "Notes: \\newline\n",
       " [1] R² is computed without centering (uncentered) since the model does not contain a constant. \\newline\n",
       " [2] Standard Errors assume that the covariance matrix of the errors is correctly specified. \\newline\n",
       " [3] The condition number is large, 1.23e+05. This might indicate that there are \\newline\n",
       " strong multicollinearity or other numerical problems."
      ],
      "text/plain": [
       "<class 'statsmodels.iolib.summary.Summary'>\n",
       "\"\"\"\n",
       "                                 OLS Regression Results                                \n",
       "=======================================================================================\n",
       "Dep. Variable:                  Preis   R-squared (uncentered):                   0.988\n",
       "Model:                            OLS   Adj. R-squared (uncentered):              0.988\n",
       "Method:                 Least Squares   F-statistic:                          2.258e+04\n",
       "Date:                Thu, 27 Jun 2024   Prob (F-statistic):                        0.00\n",
       "Time:                        21:20:52   Log-Likelihood:                         -11748.\n",
       "No. Observations:                1104   AIC:                                  2.350e+04\n",
       "Df Residuals:                    1100   BIC:                                  2.352e+04\n",
       "Df Model:                           4                                                  \n",
       "Covariance Type:            nonrobust                                                  \n",
       "==============================================================================\n",
       "                 coef    std err          t      P>|t|      [0.025      0.975]\n",
       "------------------------------------------------------------------------------\n",
       "Einkommen      1.0261      0.036     28.535      0.000       0.956       1.097\n",
       "Alter        478.1874     34.816     13.735      0.000     409.874     546.501\n",
       "Geschlecht  2126.0678    614.882      3.458      0.001     919.593    3332.542\n",
       "Zeit          69.7922     40.464      1.725      0.085      -9.602     149.187\n",
       "==============================================================================\n",
       "Omnibus:                        1.263   Durbin-Watson:                   2.103\n",
       "Prob(Omnibus):                  0.532   Jarque-Bera (JB):                1.262\n",
       "Skew:                           0.014   Prob(JB):                        0.532\n",
       "Kurtosis:                       2.837   Cond. No.                     1.23e+05\n",
       "==============================================================================\n",
       "\n",
       "Notes:\n",
       "[1] R² is computed without centering (uncentered) since the model does not contain a constant.\n",
       "[2] Standard Errors assume that the covariance matrix of the errors is correctly specified.\n",
       "[3] The condition number is large, 1.23e+05. This might indicate that there are\n",
       "strong multicollinearity or other numerical problems.\n",
       "\"\"\""
      ]
     },
     "execution_count": 84,
     "metadata": {},
     "output_type": "execute_result"
    }
   ],
   "source": [
    "model = sm.OLS(y, X).fit()\n",
    "model.summary()"
   ]
  },
  {
   "cell_type": "markdown",
   "id": "bd03041e",
   "metadata": {
    "slideshow": {
     "slide_type": "subslide"
    }
   },
   "source": [
    "Anhand der Koeffizenten sehen wir wie stark sich der Kaufpreis ändert, wenn wir das jeweilige Merkmal um eine Einheit verändern."
   ]
  },
  {
   "cell_type": "markdown",
   "id": "c7729e7b",
   "metadata": {
    "slideshow": {
     "slide_type": "fragment"
    }
   },
   "source": [
    "Da der P>|t|-Wert bei der Zeit den Wert 0.05 überschreitet, ist die Zeit ein nicht signifikanter Koeffizient. Daher kann nicht gesagt werden, ob die Zeit einen entscheidenden Einfluss auf den Kaufpreis hat. Dahingegen sind Einkommen, Alter und Geschlecht signifikant."
   ]
  },
  {
   "cell_type": "markdown",
   "id": "15800163",
   "metadata": {
    "slideshow": {
     "slide_type": "slide"
    }
   },
   "source": [
    "# F20 Vorschläge an Kundenabteilung bzgl. der Erfassung zusätzlicher Daten<br><br>\n"
   ]
  },
  {
   "cell_type": "markdown",
   "id": "2b2ca4a6",
   "metadata": {
    "slideshow": {
     "slide_type": "subslide"
    }
   },
   "source": [
    "### 1. Sammlung von Daten über den zeitlichen Abstand zum letzten Autokauf. <br>\n",
    "  \n",
    "#### a) Erstellung von Kaufzyklen:\n",
    "Lebensdauer und Abnutzung des Fahrzeuges verfolgen; Budgetierung und Planung der Anschaffung eines Fahrzeuges nachvollziehen\n",
    "\n",
    "#### b) Marketingstrategien:\n",
    "Timing von Angeboten; Maßgeschneiderte Kommunikation wie zum Beispiel Wartungs- und Zubehörangebote für Neukunden und ansprache für neue Autokäufe für alte Kunden"
   ]
  },
  {
   "cell_type": "markdown",
   "id": "810aa4c8",
   "metadata": {
    "slideshow": {
     "slide_type": "subslide"
    }
   },
   "source": [
    "### 2. Sammlung weiterer Demografischer Daten: Bildungsniveau, Familienstand und Berufsstatus.<br>\n",
    "  \n",
    "#### a) Personalisierte Kundenansprache:\n",
    "Indikatoren nutzen zu einem besseren Angebot wie zum Beispiel bei hohem Bildungsgrade vermehrt technologische Features, bei Familie mit Kindern größere Fahrzeuge mit mehr Sitzen.\n",
    "\n",
    "#### b) Segmentierung und Marktanalyse:\n",
    "Identifikation unserer Zielgruppe und gezielte Ansprache auf Basis von Bedürfnisanalysen.\n",
    "\n",
    "#### c) langfristige Kundenbeziehungen:\n",
    "Aufbauen auf Basis mehrer Informationen und einer besseren Fähigkeit daraus Rückschlüsse für eine Steigerung der Kundenzufriedenheit zu ziehen."
   ]
  },
  {
   "cell_type": "markdown",
   "id": "92975e5f",
   "metadata": {
    "slideshow": {
     "slide_type": "slide"
    }
   },
   "source": [
    "# Daten zusammenfügen\n",
    "\n",
    "\n",
    "## 1 Dateien importieren und in Data Frames überführen\n",
    "file_k = \"Data/kunden.csv\"\n",
    "file_b = \"Data/besucher.csv\"\n",
    "file_geo = \"Data/geo.txt\"\n",
    "\n",
    "df_k = pd.read_csv(file_k, sep = \";\", decimal = \".\")\n",
    "df_b = pd.read_csv(file_b, sep = \";\", decimal = \",\")\n",
    "df_geo = pd.read_table(file_geo, delimiter = \"\\t\")"
   ]
  },
  {
   "cell_type": "markdown",
   "id": "49006601",
   "metadata": {
    "slideshow": {
     "slide_type": "slide"
    }
   },
   "source": [
    "## 2 Data Frames von Besucher und Kunden zusammenfügen\n"
   ]
  },
  {
   "cell_type": "code",
   "execution_count": 85,
   "id": "1f00c7a0",
   "metadata": {
    "slideshow": {
     "slide_type": "fragment"
    }
   },
   "outputs": [
    {
     "data": {
      "text/html": [
       "<div>\n",
       "<style scoped>\n",
       "    .dataframe tbody tr th:only-of-type {\n",
       "        vertical-align: middle;\n",
       "    }\n",
       "\n",
       "    .dataframe tbody tr th {\n",
       "        vertical-align: top;\n",
       "    }\n",
       "\n",
       "    .dataframe thead th {\n",
       "        text-align: right;\n",
       "    }\n",
       "</style>\n",
       "<table border=\"1\" class=\"dataframe\">\n",
       "  <thead>\n",
       "    <tr style=\"text-align: right;\">\n",
       "      <th></th>\n",
       "      <th>Alter</th>\n",
       "      <th>Einkommen</th>\n",
       "      <th>Geschlecht</th>\n",
       "      <th>Zeit</th>\n",
       "      <th>KundeNr</th>\n",
       "      <th>Preis</th>\n",
       "    </tr>\n",
       "  </thead>\n",
       "  <tbody>\n",
       "    <tr>\n",
       "      <th>0</th>\n",
       "      <td>30</td>\n",
       "      <td>39919.095335</td>\n",
       "      <td>0.0</td>\n",
       "      <td>29.0</td>\n",
       "      <td>K1814</td>\n",
       "      <td>NaN</td>\n",
       "    </tr>\n",
       "    <tr>\n",
       "      <th>1</th>\n",
       "      <td>41</td>\n",
       "      <td>53430.673086</td>\n",
       "      <td>0.0</td>\n",
       "      <td>27.0</td>\n",
       "      <td>K1544</td>\n",
       "      <td>NaN</td>\n",
       "    </tr>\n",
       "    <tr>\n",
       "      <th>2</th>\n",
       "      <td>64</td>\n",
       "      <td>73163.216927</td>\n",
       "      <td>0.0</td>\n",
       "      <td>32.0</td>\n",
       "      <td>K1945</td>\n",
       "      <td>NaN</td>\n",
       "    </tr>\n",
       "    <tr>\n",
       "      <th>3</th>\n",
       "      <td>41</td>\n",
       "      <td>36761.482581</td>\n",
       "      <td>0.0</td>\n",
       "      <td>44.0</td>\n",
       "      <td>K1825</td>\n",
       "      <td>NaN</td>\n",
       "    </tr>\n",
       "    <tr>\n",
       "      <th>4</th>\n",
       "      <td>35</td>\n",
       "      <td>42684.331632</td>\n",
       "      <td>1.0</td>\n",
       "      <td>33.0</td>\n",
       "      <td>K1144</td>\n",
       "      <td>NaN</td>\n",
       "    </tr>\n",
       "    <tr>\n",
       "      <th>...</th>\n",
       "      <td>...</td>\n",
       "      <td>...</td>\n",
       "      <td>...</td>\n",
       "      <td>...</td>\n",
       "      <td>...</td>\n",
       "      <td>...</td>\n",
       "    </tr>\n",
       "    <tr>\n",
       "      <th>1990</th>\n",
       "      <td>70</td>\n",
       "      <td>69581.000000</td>\n",
       "      <td>1.0</td>\n",
       "      <td>51.0</td>\n",
       "      <td>K0467</td>\n",
       "      <td>103751.58</td>\n",
       "    </tr>\n",
       "    <tr>\n",
       "      <th>1991</th>\n",
       "      <td>38</td>\n",
       "      <td>48301.000000</td>\n",
       "      <td>1.0</td>\n",
       "      <td>33.0</td>\n",
       "      <td>K0122</td>\n",
       "      <td>64230.98</td>\n",
       "    </tr>\n",
       "    <tr>\n",
       "      <th>1992</th>\n",
       "      <td>67</td>\n",
       "      <td>63547.000000</td>\n",
       "      <td>1.0</td>\n",
       "      <td>41.0</td>\n",
       "      <td>K1045</td>\n",
       "      <td>103123.57</td>\n",
       "    </tr>\n",
       "    <tr>\n",
       "      <th>1993</th>\n",
       "      <td>37</td>\n",
       "      <td>32686.000000</td>\n",
       "      <td>1.0</td>\n",
       "      <td>36.0</td>\n",
       "      <td>K1096</td>\n",
       "      <td>49215.87</td>\n",
       "    </tr>\n",
       "    <tr>\n",
       "      <th>1994</th>\n",
       "      <td>55</td>\n",
       "      <td>71240.000000</td>\n",
       "      <td>1.0</td>\n",
       "      <td>49.0</td>\n",
       "      <td>K0861</td>\n",
       "      <td>106132.59</td>\n",
       "    </tr>\n",
       "  </tbody>\n",
       "</table>\n",
       "<p>1995 rows × 6 columns</p>\n",
       "</div>"
      ],
      "text/plain": [
       "      Alter     Einkommen  Geschlecht  Zeit KundeNr      Preis\n",
       "0        30  39919.095335         0.0  29.0   K1814        NaN\n",
       "1        41  53430.673086         0.0  27.0   K1544        NaN\n",
       "2        64  73163.216927         0.0  32.0   K1945        NaN\n",
       "3        41  36761.482581         0.0  44.0   K1825        NaN\n",
       "4        35  42684.331632         1.0  33.0   K1144        NaN\n",
       "...     ...           ...         ...   ...     ...        ...\n",
       "1990     70  69581.000000         1.0  51.0   K0467  103751.58\n",
       "1991     38  48301.000000         1.0  33.0   K0122   64230.98\n",
       "1992     67  63547.000000         1.0  41.0   K1045  103123.57\n",
       "1993     37  32686.000000         1.0  36.0   K1096   49215.87\n",
       "1994     55  71240.000000         1.0  49.0   K0861  106132.59\n",
       "\n",
       "[1995 rows x 6 columns]"
      ]
     },
     "execution_count": 85,
     "metadata": {},
     "output_type": "execute_result"
    }
   ],
   "source": [
    "df_b_k = pd.concat([df_b,df_k], ignore_index = True)\n",
    "df_b_k"
   ]
  },
  {
   "cell_type": "markdown",
   "id": "f7a51502",
   "metadata": {
    "slideshow": {
     "slide_type": "subslide"
    }
   },
   "source": [
    "## 3 Data Frames von geo zur kombinierten Liste hinzufügen\n"
   ]
  },
  {
   "cell_type": "code",
   "execution_count": 86,
   "id": "cce8bef5",
   "metadata": {
    "slideshow": {
     "slide_type": "fragment"
    }
   },
   "outputs": [
    {
     "data": {
      "text/html": [
       "<div>\n",
       "<style scoped>\n",
       "    .dataframe tbody tr th:only-of-type {\n",
       "        vertical-align: middle;\n",
       "    }\n",
       "\n",
       "    .dataframe tbody tr th {\n",
       "        vertical-align: top;\n",
       "    }\n",
       "\n",
       "    .dataframe thead th {\n",
       "        text-align: right;\n",
       "    }\n",
       "</style>\n",
       "<table border=\"1\" class=\"dataframe\">\n",
       "  <thead>\n",
       "    <tr style=\"text-align: right;\">\n",
       "      <th></th>\n",
       "      <th>Alter</th>\n",
       "      <th>Einkommen</th>\n",
       "      <th>Geschlecht</th>\n",
       "      <th>Zeit</th>\n",
       "      <th>KundeNr</th>\n",
       "      <th>Preis</th>\n",
       "      <th>Niederlassung</th>\n",
       "    </tr>\n",
       "  </thead>\n",
       "  <tbody>\n",
       "    <tr>\n",
       "      <th>0</th>\n",
       "      <td>30</td>\n",
       "      <td>39919.095335</td>\n",
       "      <td>0.0</td>\n",
       "      <td>29.0</td>\n",
       "      <td>K1814</td>\n",
       "      <td>NaN</td>\n",
       "      <td>Bayern</td>\n",
       "    </tr>\n",
       "    <tr>\n",
       "      <th>1</th>\n",
       "      <td>41</td>\n",
       "      <td>53430.673086</td>\n",
       "      <td>0.0</td>\n",
       "      <td>27.0</td>\n",
       "      <td>K1544</td>\n",
       "      <td>NaN</td>\n",
       "      <td>Baden-Württemberg</td>\n",
       "    </tr>\n",
       "    <tr>\n",
       "      <th>2</th>\n",
       "      <td>64</td>\n",
       "      <td>73163.216927</td>\n",
       "      <td>0.0</td>\n",
       "      <td>32.0</td>\n",
       "      <td>K1945</td>\n",
       "      <td>NaN</td>\n",
       "      <td>Baden-Württemberg</td>\n",
       "    </tr>\n",
       "    <tr>\n",
       "      <th>3</th>\n",
       "      <td>41</td>\n",
       "      <td>36761.482581</td>\n",
       "      <td>0.0</td>\n",
       "      <td>44.0</td>\n",
       "      <td>K1825</td>\n",
       "      <td>NaN</td>\n",
       "      <td>Baden-Württemberg</td>\n",
       "    </tr>\n",
       "    <tr>\n",
       "      <th>4</th>\n",
       "      <td>35</td>\n",
       "      <td>42684.331632</td>\n",
       "      <td>1.0</td>\n",
       "      <td>33.0</td>\n",
       "      <td>K1144</td>\n",
       "      <td>NaN</td>\n",
       "      <td>Nordrhein-Westfalen</td>\n",
       "    </tr>\n",
       "    <tr>\n",
       "      <th>...</th>\n",
       "      <td>...</td>\n",
       "      <td>...</td>\n",
       "      <td>...</td>\n",
       "      <td>...</td>\n",
       "      <td>...</td>\n",
       "      <td>...</td>\n",
       "      <td>...</td>\n",
       "    </tr>\n",
       "    <tr>\n",
       "      <th>1990</th>\n",
       "      <td>70</td>\n",
       "      <td>69581.000000</td>\n",
       "      <td>1.0</td>\n",
       "      <td>51.0</td>\n",
       "      <td>K0467</td>\n",
       "      <td>103751.58</td>\n",
       "      <td>Thüringen</td>\n",
       "    </tr>\n",
       "    <tr>\n",
       "      <th>1991</th>\n",
       "      <td>38</td>\n",
       "      <td>48301.000000</td>\n",
       "      <td>1.0</td>\n",
       "      <td>33.0</td>\n",
       "      <td>K0122</td>\n",
       "      <td>64230.98</td>\n",
       "      <td>Niedersachsen</td>\n",
       "    </tr>\n",
       "    <tr>\n",
       "      <th>1992</th>\n",
       "      <td>67</td>\n",
       "      <td>63547.000000</td>\n",
       "      <td>1.0</td>\n",
       "      <td>41.0</td>\n",
       "      <td>K1045</td>\n",
       "      <td>103123.57</td>\n",
       "      <td>Berlin</td>\n",
       "    </tr>\n",
       "    <tr>\n",
       "      <th>1993</th>\n",
       "      <td>37</td>\n",
       "      <td>32686.000000</td>\n",
       "      <td>1.0</td>\n",
       "      <td>36.0</td>\n",
       "      <td>K1096</td>\n",
       "      <td>49215.87</td>\n",
       "      <td>Baden-Württemberg</td>\n",
       "    </tr>\n",
       "    <tr>\n",
       "      <th>1994</th>\n",
       "      <td>55</td>\n",
       "      <td>71240.000000</td>\n",
       "      <td>1.0</td>\n",
       "      <td>49.0</td>\n",
       "      <td>K0861</td>\n",
       "      <td>106132.59</td>\n",
       "      <td>Bayern</td>\n",
       "    </tr>\n",
       "  </tbody>\n",
       "</table>\n",
       "<p>1995 rows × 7 columns</p>\n",
       "</div>"
      ],
      "text/plain": [
       "      Alter     Einkommen  Geschlecht  Zeit KundeNr      Preis  \\\n",
       "0        30  39919.095335         0.0  29.0   K1814        NaN   \n",
       "1        41  53430.673086         0.0  27.0   K1544        NaN   \n",
       "2        64  73163.216927         0.0  32.0   K1945        NaN   \n",
       "3        41  36761.482581         0.0  44.0   K1825        NaN   \n",
       "4        35  42684.331632         1.0  33.0   K1144        NaN   \n",
       "...     ...           ...         ...   ...     ...        ...   \n",
       "1990     70  69581.000000         1.0  51.0   K0467  103751.58   \n",
       "1991     38  48301.000000         1.0  33.0   K0122   64230.98   \n",
       "1992     67  63547.000000         1.0  41.0   K1045  103123.57   \n",
       "1993     37  32686.000000         1.0  36.0   K1096   49215.87   \n",
       "1994     55  71240.000000         1.0  49.0   K0861  106132.59   \n",
       "\n",
       "            Niederlassung  \n",
       "0                  Bayern  \n",
       "1       Baden-Württemberg  \n",
       "2       Baden-Württemberg  \n",
       "3       Baden-Württemberg  \n",
       "4     Nordrhein-Westfalen  \n",
       "...                   ...  \n",
       "1990            Thüringen  \n",
       "1991        Niedersachsen  \n",
       "1992               Berlin  \n",
       "1993    Baden-Württemberg  \n",
       "1994               Bayern  \n",
       "\n",
       "[1995 rows x 7 columns]"
      ]
     },
     "execution_count": 86,
     "metadata": {},
     "output_type": "execute_result"
    }
   ],
   "source": [
    "df_bkg = pd.merge(df_b_k, df_geo, on = \"KundeNr\")\n",
    "df_bkg"
   ]
  },
  {
   "cell_type": "markdown",
   "id": "73953900",
   "metadata": {
    "slideshow": {
     "slide_type": "slide"
    }
   },
   "source": [
    "# Datenbereinigung\n",
    "bereinigt wurden\n",
    "  + Einkommen (obere Schranke = 200k€, untere Schranke 10k€)\n",
    "  \n",
    "  + Alter (obere Schranke ca. 90 Jahre)\n",
    "  \n",
    "  + Geschlecht (fehlende Werte durch Modus ersetzt)"
   ]
  },
  {
   "cell_type": "markdown",
   "id": "bcca04f7",
   "metadata": {
    "slideshow": {
     "slide_type": "subslide"
    }
   },
   "source": [
    "## Hier am Beispiel des Einkommens:\n"
   ]
  },
  {
   "cell_type": "code",
   "execution_count": 87,
   "id": "7294b2bf",
   "metadata": {
    "slideshow": {
     "slide_type": "fragment"
    }
   },
   "outputs": [
    {
     "data": {
      "text/html": [
       "<div>\n",
       "<style scoped>\n",
       "    .dataframe tbody tr th:only-of-type {\n",
       "        vertical-align: middle;\n",
       "    }\n",
       "\n",
       "    .dataframe tbody tr th {\n",
       "        vertical-align: top;\n",
       "    }\n",
       "\n",
       "    .dataframe thead th {\n",
       "        text-align: right;\n",
       "    }\n",
       "</style>\n",
       "<table border=\"1\" class=\"dataframe\">\n",
       "  <thead>\n",
       "    <tr style=\"text-align: right;\">\n",
       "      <th></th>\n",
       "      <th>Alter</th>\n",
       "      <th>Einkommen</th>\n",
       "      <th>Geschlecht</th>\n",
       "      <th>Zeit</th>\n",
       "      <th>KundeNr</th>\n",
       "      <th>Preis</th>\n",
       "      <th>Niederlassung</th>\n",
       "      <th>Ausreißer</th>\n",
       "    </tr>\n",
       "  </thead>\n",
       "  <tbody>\n",
       "    <tr>\n",
       "      <th>0</th>\n",
       "      <td>30</td>\n",
       "      <td>39919.095335</td>\n",
       "      <td>0.0</td>\n",
       "      <td>29.0</td>\n",
       "      <td>K1814</td>\n",
       "      <td>NaN</td>\n",
       "      <td>Bayern</td>\n",
       "      <td>False</td>\n",
       "    </tr>\n",
       "    <tr>\n",
       "      <th>1</th>\n",
       "      <td>41</td>\n",
       "      <td>53430.673086</td>\n",
       "      <td>0.0</td>\n",
       "      <td>27.0</td>\n",
       "      <td>K1544</td>\n",
       "      <td>NaN</td>\n",
       "      <td>Baden-Württemberg</td>\n",
       "      <td>False</td>\n",
       "    </tr>\n",
       "    <tr>\n",
       "      <th>2</th>\n",
       "      <td>64</td>\n",
       "      <td>73163.216927</td>\n",
       "      <td>0.0</td>\n",
       "      <td>32.0</td>\n",
       "      <td>K1945</td>\n",
       "      <td>NaN</td>\n",
       "      <td>Baden-Württemberg</td>\n",
       "      <td>False</td>\n",
       "    </tr>\n",
       "    <tr>\n",
       "      <th>3</th>\n",
       "      <td>41</td>\n",
       "      <td>36761.482581</td>\n",
       "      <td>0.0</td>\n",
       "      <td>44.0</td>\n",
       "      <td>K1825</td>\n",
       "      <td>NaN</td>\n",
       "      <td>Baden-Württemberg</td>\n",
       "      <td>False</td>\n",
       "    </tr>\n",
       "    <tr>\n",
       "      <th>4</th>\n",
       "      <td>35</td>\n",
       "      <td>42684.331632</td>\n",
       "      <td>1.0</td>\n",
       "      <td>33.0</td>\n",
       "      <td>K1144</td>\n",
       "      <td>NaN</td>\n",
       "      <td>Nordrhein-Westfalen</td>\n",
       "      <td>False</td>\n",
       "    </tr>\n",
       "    <tr>\n",
       "      <th>...</th>\n",
       "      <td>...</td>\n",
       "      <td>...</td>\n",
       "      <td>...</td>\n",
       "      <td>...</td>\n",
       "      <td>...</td>\n",
       "      <td>...</td>\n",
       "      <td>...</td>\n",
       "      <td>...</td>\n",
       "    </tr>\n",
       "    <tr>\n",
       "      <th>1990</th>\n",
       "      <td>70</td>\n",
       "      <td>69581.000000</td>\n",
       "      <td>1.0</td>\n",
       "      <td>51.0</td>\n",
       "      <td>K0467</td>\n",
       "      <td>103751.58</td>\n",
       "      <td>Thüringen</td>\n",
       "      <td>False</td>\n",
       "    </tr>\n",
       "    <tr>\n",
       "      <th>1991</th>\n",
       "      <td>38</td>\n",
       "      <td>48301.000000</td>\n",
       "      <td>1.0</td>\n",
       "      <td>33.0</td>\n",
       "      <td>K0122</td>\n",
       "      <td>64230.98</td>\n",
       "      <td>Niedersachsen</td>\n",
       "      <td>False</td>\n",
       "    </tr>\n",
       "    <tr>\n",
       "      <th>1992</th>\n",
       "      <td>67</td>\n",
       "      <td>63547.000000</td>\n",
       "      <td>1.0</td>\n",
       "      <td>41.0</td>\n",
       "      <td>K1045</td>\n",
       "      <td>103123.57</td>\n",
       "      <td>Berlin</td>\n",
       "      <td>False</td>\n",
       "    </tr>\n",
       "    <tr>\n",
       "      <th>1993</th>\n",
       "      <td>37</td>\n",
       "      <td>32686.000000</td>\n",
       "      <td>1.0</td>\n",
       "      <td>36.0</td>\n",
       "      <td>K1096</td>\n",
       "      <td>49215.87</td>\n",
       "      <td>Baden-Württemberg</td>\n",
       "      <td>False</td>\n",
       "    </tr>\n",
       "    <tr>\n",
       "      <th>1994</th>\n",
       "      <td>55</td>\n",
       "      <td>71240.000000</td>\n",
       "      <td>1.0</td>\n",
       "      <td>49.0</td>\n",
       "      <td>K0861</td>\n",
       "      <td>106132.59</td>\n",
       "      <td>Bayern</td>\n",
       "      <td>False</td>\n",
       "    </tr>\n",
       "  </tbody>\n",
       "</table>\n",
       "<p>1995 rows × 8 columns</p>\n",
       "</div>"
      ],
      "text/plain": [
       "      Alter     Einkommen  Geschlecht  Zeit KundeNr      Preis  \\\n",
       "0        30  39919.095335         0.0  29.0   K1814        NaN   \n",
       "1        41  53430.673086         0.0  27.0   K1544        NaN   \n",
       "2        64  73163.216927         0.0  32.0   K1945        NaN   \n",
       "3        41  36761.482581         0.0  44.0   K1825        NaN   \n",
       "4        35  42684.331632         1.0  33.0   K1144        NaN   \n",
       "...     ...           ...         ...   ...     ...        ...   \n",
       "1990     70  69581.000000         1.0  51.0   K0467  103751.58   \n",
       "1991     38  48301.000000         1.0  33.0   K0122   64230.98   \n",
       "1992     67  63547.000000         1.0  41.0   K1045  103123.57   \n",
       "1993     37  32686.000000         1.0  36.0   K1096   49215.87   \n",
       "1994     55  71240.000000         1.0  49.0   K0861  106132.59   \n",
       "\n",
       "            Niederlassung  Ausreißer  \n",
       "0                  Bayern      False  \n",
       "1       Baden-Württemberg      False  \n",
       "2       Baden-Württemberg      False  \n",
       "3       Baden-Württemberg      False  \n",
       "4     Nordrhein-Westfalen      False  \n",
       "...                   ...        ...  \n",
       "1990            Thüringen      False  \n",
       "1991        Niedersachsen      False  \n",
       "1992               Berlin      False  \n",
       "1993    Baden-Württemberg      False  \n",
       "1994               Bayern      False  \n",
       "\n",
       "[1995 rows x 8 columns]"
      ]
     },
     "execution_count": 87,
     "metadata": {},
     "output_type": "execute_result"
    }
   ],
   "source": [
    "# Berechnung von Q1 (25. Perzentil), Q3 (75. Perzentil) und IQR\n",
    "Q1 = df_bkg['Einkommen'].quantile(0.25)\n",
    "Q3 = df_bkg['Einkommen'].quantile(0.75)\n",
    "IQR = Q3 - Q1\n",
    "\n",
    "# Berechnung der Ausreißer-Grenzen\n",
    "untere_grenze = Q1 - 1.6 * IQR #Faktor auf die Ausreißer nach eigenem Ermessen angepasst\n",
    "obere_grenze = Q3 + 5 * IQR #Faktor auf die Ausreißer nach eigenem Ermessen angepasst\n",
    "\n",
    "# Identifizierung von Ausreißern\n",
    "df_bkg['Ausreißer'] = (df_bkg['Einkommen'] < untere_grenze) | (df_bkg['Einkommen'] > obere_grenze)\n",
    "\n",
    "df_bkg"
   ]
  },
  {
   "cell_type": "markdown",
   "id": "3f291442",
   "metadata": {
    "slideshow": {
     "slide_type": "slide"
    }
   },
   "source": [
    "# F6 In welchem Bundesland wurde das teuerste Auto verkauft?\n",
    "Das teuerste Auto wurde in Niedersachsen verkauft\n"
   ]
  },
  {
   "cell_type": "code",
   "execution_count": 88,
   "id": "6e911824",
   "metadata": {
    "slideshow": {
     "slide_type": "fragment"
    }
   },
   "outputs": [
    {
     "data": {
      "text/plain": [
       "'Niedersachsen'"
      ]
     },
     "execution_count": 88,
     "metadata": {},
     "output_type": "execute_result"
    }
   ],
   "source": [
    "max_preis_index = df_mit_preis[\"Preis\"].idxmax()\n",
    "bundesland_teuerstes_auto = df_mit_preis.loc[max_preis_index, \"Niederlassung\"]\n",
    "bundesland_teuerstes_auto"
   ]
  },
  {
   "cell_type": "markdown",
   "id": "b12b3cec",
   "metadata": {
    "slideshow": {
     "slide_type": "slide"
    }
   },
   "source": [
    "# F7 Haben mehr Frauen oder mehr Männer unsere Autos gekauft?\n",
    "Es haben mehr Männer unsere Autos gekauft\n"
   ]
  },
  {
   "cell_type": "code",
   "execution_count": 89,
   "id": "bc56119c",
   "metadata": {
    "slideshow": {
     "slide_type": "fragment"
    }
   },
   "outputs": [
    {
     "data": {
      "text/plain": [
       "0    1.0\n",
       "Name: Geschlecht, dtype: float64"
      ]
     },
     "execution_count": 89,
     "metadata": {},
     "output_type": "execute_result"
    }
   ],
   "source": [
    "df_preis_vorhanden[\"Geschlecht\"].mode()"
   ]
  },
  {
   "cell_type": "markdown",
   "id": "0aa32d26",
   "metadata": {
    "slideshow": {
     "slide_type": "slide"
    }
   },
   "source": [
    "# F11 Korrelation - Alter, Einkommen, Preis und Zeit?\n",
    "Die Pearson Korrelation liegt wie folgt zwischen den Variablen Alter, Einkommen, Preis und Zeit:\n"
   ]
  },
  {
   "cell_type": "code",
   "execution_count": 90,
   "id": "50d51fa3",
   "metadata": {
    "slideshow": {
     "slide_type": "fragment"
    }
   },
   "outputs": [
    {
     "data": {
      "text/html": [
       "<div>\n",
       "<style scoped>\n",
       "    .dataframe tbody tr th:only-of-type {\n",
       "        vertical-align: middle;\n",
       "    }\n",
       "\n",
       "    .dataframe tbody tr th {\n",
       "        vertical-align: top;\n",
       "    }\n",
       "\n",
       "    .dataframe thead th {\n",
       "        text-align: right;\n",
       "    }\n",
       "</style>\n",
       "<table border=\"1\" class=\"dataframe\">\n",
       "  <thead>\n",
       "    <tr style=\"text-align: right;\">\n",
       "      <th></th>\n",
       "      <th>Alter</th>\n",
       "      <th>Einkommen</th>\n",
       "      <th>Preis</th>\n",
       "      <th>Zeit</th>\n",
       "    </tr>\n",
       "  </thead>\n",
       "  <tbody>\n",
       "    <tr>\n",
       "      <th>Alter</th>\n",
       "      <td>1.000000</td>\n",
       "      <td>0.761572</td>\n",
       "      <td>0.780478</td>\n",
       "      <td>0.588912</td>\n",
       "    </tr>\n",
       "    <tr>\n",
       "      <th>Einkommen</th>\n",
       "      <td>0.761572</td>\n",
       "      <td>1.000000</td>\n",
       "      <td>0.896565</td>\n",
       "      <td>0.776211</td>\n",
       "    </tr>\n",
       "    <tr>\n",
       "      <th>Preis</th>\n",
       "      <td>0.780478</td>\n",
       "      <td>0.896565</td>\n",
       "      <td>1.000000</td>\n",
       "      <td>0.707778</td>\n",
       "    </tr>\n",
       "    <tr>\n",
       "      <th>Zeit</th>\n",
       "      <td>0.588912</td>\n",
       "      <td>0.776211</td>\n",
       "      <td>0.707778</td>\n",
       "      <td>1.000000</td>\n",
       "    </tr>\n",
       "  </tbody>\n",
       "</table>\n",
       "</div>"
      ],
      "text/plain": [
       "              Alter  Einkommen     Preis      Zeit\n",
       "Alter      1.000000   0.761572  0.780478  0.588912\n",
       "Einkommen  0.761572   1.000000  0.896565  0.776211\n",
       "Preis      0.780478   0.896565  1.000000  0.707778\n",
       "Zeit       0.588912   0.776211  0.707778  1.000000"
      ]
     },
     "execution_count": 90,
     "metadata": {},
     "output_type": "execute_result"
    }
   ],
   "source": [
    "corr_kundenwerte = df_preis_vorhanden[[\"Alter\", \"Einkommen\", \"Preis\", \"Zeit\"]].corr()\n",
    "corr_kundenwerte"
   ]
  },
  {
   "cell_type": "markdown",
   "id": "098c4fbc",
   "metadata": {
    "slideshow": {
     "slide_type": "slide"
    }
   },
   "source": [
    "# F12 Zeit approximativ normalverteilt? - qq-Plots\n",
    "Die variable Zeit kann als approximativ normalverteilt betrachtet werden."
   ]
  },
  {
   "cell_type": "code",
   "execution_count": 91,
   "id": "ed6ea12c",
   "metadata": {
    "slideshow": {
     "slide_type": "fragment"
    }
   },
   "outputs": [
    {
     "data": {
      "image/png": "[encoded data removed]",
      "text/plain": [
       "<Figure size 640x480 with 1 Axes>"
      ]
     },
     "metadata": {},
     "output_type": "display_data"
    }
   ],
   "source": [
    "#import matplotloib und scipy\n",
    "import matplotlib.pyplot as plt\n",
    "import scipy.stats as stats\n",
    "\n",
    "#variable Zeit\n",
    "zeit = df_bkg[\"Zeit\"]\n",
    "\n",
    "#QQ-Plot erstellen\n",
    "stats.probplot(zeit, dist=\"norm\", plot=plt)\n",
    "plt.title(\"QQ-Plot für die variable Zeit\")\n",
    "plt.xlabel(\"Theoretische Quantile (Normalverteilung)\")\n",
    "plt.ylabel(\"Datenquantile\")\n",
    "plt.show()"
   ]
  },
  {
   "cell_type": "markdown",
   "id": "b2f0fdda",
   "metadata": {
    "slideshow": {
     "slide_type": "slide"
    }
   },
   "source": [
    "# F9 Durchschnittseinkommen Kunden & Besucher?\n",
    "\n",
    "+ Das Durchschnittseinkommen unserer Kunden beträgt in etwa 58.895,25 €\n",
    "+ Das Durchschnittseinkommen unserer Besucher beträgt in etwa 59.367,94 €\n"
   ]
  },
  {
   "cell_type": "code",
   "execution_count": 92,
   "id": "8ce757fe",
   "metadata": {
    "slideshow": {
     "slide_type": "fragment"
    }
   },
   "outputs": [
    {
     "data": {
      "text/plain": [
       "58895.24686507354"
      ]
     },
     "execution_count": 92,
     "metadata": {},
     "output_type": "execute_result"
    }
   ],
   "source": [
    "#Berechnung des Durchschnitteinkommens unserer Kunden\n",
    "df_preis_vorhanden[\"Einkommen\"].mean()"
   ]
  },
  {
   "cell_type": "code",
   "execution_count": 93,
   "id": "ae15006b",
   "metadata": {
    "slideshow": {
     "slide_type": "fragment"
    }
   },
   "outputs": [
    {
     "data": {
      "text/plain": [
       "59367.93618779704"
      ]
     },
     "execution_count": 93,
     "metadata": {},
     "output_type": "execute_result"
    }
   ],
   "source": [
    "#Berechnung des Durchschnitteinkommens unserer Besucher\n",
    "#Ermittlungen der Zeilen mit NAN in der Preis-Spalte\n",
    "df_preis_nicht_vorhanden = df_bkg[df_bkg[\"Preis\"].isna()]\n",
    "#Durchschnittseinkommen der Besucher berechenen\n",
    "df_preis_nicht_vorhanden[\"Einkommen\"].mean()"
   ]
  },
  {
   "cell_type": "markdown",
   "id": "648e2089",
   "metadata": {
    "slideshow": {
     "slide_type": "slide"
    }
   },
   "source": [
    "# F13  Bankkredit für Autokauf?\n",
    "Man kann davon ausgehen, dass 5 Kunden keinen Kredit aufgenommen haben, um das Auto zu kaufen\n"
   ]
  },
  {
   "cell_type": "code",
   "execution_count": 94,
   "id": "9afb5f92",
   "metadata": {
    "slideshow": {
     "slide_type": "fragment"
    }
   },
   "outputs": [
    {
     "data": {
      "text/plain": [
       "1048    50330.0\n",
       "1298    24264.0\n",
       "1390    54403.0\n",
       "1533    30856.0\n",
       "1587    36296.0\n",
       "Name: Einkommen, dtype: float64"
      ]
     },
     "execution_count": 94,
     "metadata": {},
     "output_type": "execute_result"
    }
   ],
   "source": [
    "#Filterung nach Einkommen-Spalte, wobei in Zeile: Einkommen > Preis\n",
    "df_kein_kredit = df_preis_vorhanden.loc[df_preis_vorhanden[\"Einkommen\"] > df_preis_vorhanden[\"Preis\"], \"Einkommen\"]\n",
    "df_kein_kredit"
   ]
  },
  {
   "cell_type": "code",
   "execution_count": 95,
   "id": "ed9d98a2",
   "metadata": {
    "slideshow": {
     "slide_type": "subslide"
    }
   },
   "outputs": [
    {
     "data": {
      "image/png": "[encoded data removed]",
      "text/plain": [
       "<Figure size 1000x600 with 1 Axes>"
      ]
     },
     "metadata": {},
     "output_type": "display_data"
    }
   ],
   "source": [
    "#Streudiagramm erstellen\n",
    "plt.figure(figsize=(10,6))\n",
    "plt.scatter(df_preis_vorhanden[\"Preis\"], df_preis_vorhanden[\"Einkommen\"], color = \"#800000\")\n",
    "#Balkendiagramm benennen\n",
    "plt.title(\"Preis und Einkommen Zusammenhang\")\n",
    "plt.xlabel(\"Preis\")\n",
    "plt.ylabel(\"Einkommen\")\n",
    "#Rotieren der Bundeslandbezeichnungen auf der x-Achse (der hinzugefügte Unterstrich unterbindet ungewollte Ausgaben)\n",
    "_ = plt.xticks(rotation=45, ha='right')\n",
    "# Zahlen an den Achsen anpassen\n",
    "_ = plt.xticks(range(20000, 180000, 10000))"
   ]
  },
  {
   "cell_type": "markdown",
   "id": "057cca0b",
   "metadata": {
    "slideshow": {
     "slide_type": "slide"
    }
   },
   "source": [
    "# F15 Prognose Kaufpreis: \n",
    "Kundenprofil - Einkommen von 30.000 Euro und Alter 32 Jahre alt <br>\n",
    "  \n",
    "Auf Basis der statistischen Erhebnung kann davon ausgegangen werden, dass ein 32-Jähriger männlicher Kunde mit einem EInkommen von 30.000€ ein Auto zum Preis von 51.297,29 € kaufen würde.\n"
   ]
  },
  {
   "cell_type": "code",
   "execution_count": 96,
   "id": "7883450d",
   "metadata": {
    "slideshow": {
     "slide_type": "subslide"
    }
   },
   "outputs": [
    {
     "data": {
      "text/html": [
       "<div>\n",
       "<style scoped>\n",
       "    .dataframe tbody tr th:only-of-type {\n",
       "        vertical-align: middle;\n",
       "    }\n",
       "\n",
       "    .dataframe tbody tr th {\n",
       "        vertical-align: top;\n",
       "    }\n",
       "\n",
       "    .dataframe thead th {\n",
       "        text-align: right;\n",
       "    }\n",
       "</style>\n",
       "<table border=\"1\" class=\"dataframe\">\n",
       "  <thead>\n",
       "    <tr style=\"text-align: right;\">\n",
       "      <th></th>\n",
       "      <th>Alter</th>\n",
       "      <th>Einkommen</th>\n",
       "      <th>Geschlecht</th>\n",
       "      <th>Zeit</th>\n",
       "    </tr>\n",
       "  </thead>\n",
       "  <tbody>\n",
       "    <tr>\n",
       "      <th>0</th>\n",
       "      <td>32</td>\n",
       "      <td>30000</td>\n",
       "      <td>1</td>\n",
       "      <td>44.375906</td>\n",
       "    </tr>\n",
       "  </tbody>\n",
       "</table>\n",
       "</div>"
      ],
      "text/plain": [
       "   Alter  Einkommen  Geschlecht       Zeit\n",
       "0     32      30000           1  44.375906"
      ]
     },
     "execution_count": 96,
     "metadata": {},
     "output_type": "execute_result"
    }
   ],
   "source": [
    " y1 = pd.DataFrame({\"Alter\" : [32], \"Einkommen\" : [30000], \"Geschlecht\" : [1], \"Zeit\" : [df_preis_vorhanden[\"Zeit\"].mean()]})\n",
    "y1 = sm.add_constant(y1)\n",
    "y1"
   ]
  },
  {
   "cell_type": "code",
   "execution_count": 97,
   "id": "2be6b423",
   "metadata": {
    "slideshow": {
     "slide_type": "subslide"
    }
   },
   "outputs": [
    {
     "data": {
      "text/plain": [
       "0    1.435088e+07\n",
       "dtype: float64"
      ]
     },
     "execution_count": 97,
     "metadata": {},
     "output_type": "execute_result"
    }
   ],
   "source": [
    "Prognose1 = model.predict(y1)\n",
    "Prognose1"
   ]
  },
  {
   "cell_type": "markdown",
   "id": "6d679068",
   "metadata": {
    "slideshow": {
     "slide_type": "slide"
    }
   },
   "source": [
    "# F15 Prognose Kaufpreis: Kundenprofil - Einkommen von  54.000 Euro + Alter 51 Jahre alt<br>\n",
    "Ein 51-Jähriger männlicher Kunde würde hingegen bei einem Einkommen von 54.000 € ein Auto zum Preis von 85.026,01 € kaufen."
   ]
  },
  {
   "cell_type": "code",
   "execution_count": 98,
   "id": "b19ed10b",
   "metadata": {
    "slideshow": {
     "slide_type": "subslide"
    }
   },
   "outputs": [
    {
     "data": {
      "text/plain": [
       "0    2.582739e+07\n",
       "dtype: float64"
      ]
     },
     "execution_count": 98,
     "metadata": {},
     "output_type": "execute_result"
    }
   ],
   "source": [
    "y2 = pd.DataFrame({\"Alter\" : [51], \"Einkommen\" : [54000], \"Geschlecht\" : [1], \"Zeit\" : [df_preis_vorhanden[\"Zeit\"].mean()]})\n",
    "y1 = sm.add_constant(y1)\n",
    "Prognose2 = model.predict(y2)\n",
    "Prognose2\n"
   ]
  },
  {
   "cell_type": "markdown",
   "id": "359a44bc",
   "metadata": {
    "slideshow": {
     "slide_type": "slide"
    }
   },
   "source": [
    "# F16 Welche Variable beeinflusst den Kaufpreis am stärksten? <br>\n",
    "Die Variable, die den Preis beim Kauf des Autos am meisten beeinflusst, ist das Einkommen.\n"
   ]
  },
  {
   "cell_type": "code",
   "execution_count": 99,
   "id": "e0f0c0c9",
   "metadata": {
    "slideshow": {
     "slide_type": "subslide"
    }
   },
   "outputs": [],
   "source": [
    "import statsmodels.api as sm\n",
    "from sklearn.preprocessing import StandardScaler\n",
    "# Auswahl der unabhängigen Variablen und der abhängigen Variable\n",
    "X = df_preis_vorhanden[[\"Einkommen\", \"Alter\", \"Geschlecht\", \"Zeit\"]]\n",
    "y = df_preis_vorhanden[\"Preis\"]\n",
    "\n",
    "\n",
    "# Standardisieren der unabhängigen Variablen\n",
    "scaler_X = StandardScaler()\n",
    "scaler_y = StandardScaler()\n",
    "\n",
    "X_standardized = scaler_X.fit_transform(X)\n",
    "\n",
    "\n",
    "\n",
    "# Da y eine pandas Series ist, muss sie in ein 2D-Array umgewandelt werden\n",
    "y_standardized = scaler_y.fit_transform(y.values.reshape(-1, 1)).flatten()\n",
    "\n",
    "\n",
    "# Konvertieren der standardisierten Variablen zurück in ein DataFrame und hinzufügen einer Konstante\n",
    "X_standardized = pd.DataFrame(X_standardized, columns=X.columns)\n",
    "X_standardized = sm.add_constant(X_standardized)\n",
    "\n",
    "\n",
    "\n",
    "# Regression schätzen (lineare Regression)\n",
    "model_standardized = sm.OLS(y_standardized, X_standardized).fit()"
   ]
  },
  {
   "cell_type": "code",
   "execution_count": 100,
   "id": "02b19549",
   "metadata": {
    "slideshow": {
     "slide_type": "subslide"
    }
   },
   "outputs": [
    {
     "data": {
      "text/html": [
       "<table class=\"simpletable\">\n",
       "<caption>OLS Regression Results</caption>\n",
       "<tr>\n",
       "  <th>Dep. Variable:</th>            <td>y</td>        <th>  R-squared:         </th> <td>   0.829</td>\n",
       "</tr>\n",
       "<tr>\n",
       "  <th>Model:</th>                   <td>OLS</td>       <th>  Adj. R-squared:    </th> <td>   0.828</td>\n",
       "</tr>\n",
       "<tr>\n",
       "  <th>Method:</th>             <td>Least Squares</td>  <th>  F-statistic:       </th> <td>   1329.</td>\n",
       "</tr>\n",
       "<tr>\n",
       "  <th>Date:</th>             <td>Thu, 27 Jun 2024</td> <th>  Prob (F-statistic):</th>  <td>  0.00</td> \n",
       "</tr>\n",
       "<tr>\n",
       "  <th>Time:</th>                 <td>21:20:53</td>     <th>  Log-Likelihood:    </th> <td> -592.62</td>\n",
       "</tr>\n",
       "<tr>\n",
       "  <th>No. Observations:</th>      <td>  1104</td>      <th>  AIC:               </th> <td>   1195.</td>\n",
       "</tr>\n",
       "<tr>\n",
       "  <th>Df Residuals:</th>          <td>  1099</td>      <th>  BIC:               </th> <td>   1220.</td>\n",
       "</tr>\n",
       "<tr>\n",
       "  <th>Df Model:</th>              <td>     4</td>      <th>                     </th>     <td> </td>   \n",
       "</tr>\n",
       "<tr>\n",
       "  <th>Covariance Type:</th>      <td>nonrobust</td>    <th>                     </th>     <td> </td>   \n",
       "</tr>\n",
       "</table>\n",
       "<table class=\"simpletable\">\n",
       "<tr>\n",
       "       <td></td>         <th>coef</th>     <th>std err</th>      <th>t</th>      <th>P>|t|</th>  <th>[0.025</th>    <th>0.975]</th>  \n",
       "</tr>\n",
       "<tr>\n",
       "  <th>const</th>      <td>-4.857e-16</td> <td>    0.012</td> <td>-3.89e-14</td> <td> 1.000</td> <td>   -0.024</td> <td>    0.024</td>\n",
       "</tr>\n",
       "<tr>\n",
       "  <th>Einkommen</th>  <td>    0.6921</td> <td>    0.025</td> <td>   28.005</td> <td> 0.000</td> <td>    0.644</td> <td>    0.741</td>\n",
       "</tr>\n",
       "<tr>\n",
       "  <th>Alter</th>      <td>    0.2344</td> <td>    0.019</td> <td>   12.162</td> <td> 0.000</td> <td>    0.197</td> <td>    0.272</td>\n",
       "</tr>\n",
       "<tr>\n",
       "  <th>Geschlecht</th> <td>    0.0420</td> <td>    0.012</td> <td>    3.362</td> <td> 0.001</td> <td>    0.017</td> <td>    0.067</td>\n",
       "</tr>\n",
       "<tr>\n",
       "  <th>Zeit</th>       <td>    0.0316</td> <td>    0.020</td> <td>    1.598</td> <td> 0.110</td> <td>   -0.007</td> <td>    0.071</td>\n",
       "</tr>\n",
       "</table>\n",
       "<table class=\"simpletable\">\n",
       "<tr>\n",
       "  <th>Omnibus:</th>       <td> 1.250</td> <th>  Durbin-Watson:     </th> <td>   2.103</td>\n",
       "</tr>\n",
       "<tr>\n",
       "  <th>Prob(Omnibus):</th> <td> 0.535</td> <th>  Jarque-Bera (JB):  </th> <td>   1.252</td>\n",
       "</tr>\n",
       "<tr>\n",
       "  <th>Skew:</th>          <td> 0.014</td> <th>  Prob(JB):          </th> <td>   0.535</td>\n",
       "</tr>\n",
       "<tr>\n",
       "  <th>Kurtosis:</th>      <td> 2.837</td> <th>  Cond. No.          </th> <td>    3.80</td>\n",
       "</tr>\n",
       "</table><br/><br/>Notes:<br/>[1] Standard Errors assume that the covariance matrix of the errors is correctly specified."
      ],
      "text/latex": [
       "\\begin{center}\n",
       "\\begin{tabular}{lclc}\n",
       "\\toprule\n",
       "\\textbf{Dep. Variable:}    &        y         & \\textbf{  R-squared:         } &     0.829   \\\\\n",
       "\\textbf{Model:}            &       OLS        & \\textbf{  Adj. R-squared:    } &     0.828   \\\\\n",
       "\\textbf{Method:}           &  Least Squares   & \\textbf{  F-statistic:       } &     1329.   \\\\\n",
       "\\textbf{Date:}             & Thu, 27 Jun 2024 & \\textbf{  Prob (F-statistic):} &     0.00    \\\\\n",
       "\\textbf{Time:}             &     21:20:53     & \\textbf{  Log-Likelihood:    } &   -592.62   \\\\\n",
       "\\textbf{No. Observations:} &        1104      & \\textbf{  AIC:               } &     1195.   \\\\\n",
       "\\textbf{Df Residuals:}     &        1099      & \\textbf{  BIC:               } &     1220.   \\\\\n",
       "\\textbf{Df Model:}         &           4      & \\textbf{                     } &             \\\\\n",
       "\\textbf{Covariance Type:}  &    nonrobust     & \\textbf{                     } &             \\\\\n",
       "\\bottomrule\n",
       "\\end{tabular}\n",
       "\\begin{tabular}{lcccccc}\n",
       "                    & \\textbf{coef} & \\textbf{std err} & \\textbf{t} & \\textbf{P$> |$t$|$} & \\textbf{[0.025} & \\textbf{0.975]}  \\\\\n",
       "\\midrule\n",
       "\\textbf{const}      &   -4.857e-16  &        0.012     & -3.89e-14  &         1.000        &       -0.024    &        0.024     \\\\\n",
       "\\textbf{Einkommen}  &       0.6921  &        0.025     &    28.005  &         0.000        &        0.644    &        0.741     \\\\\n",
       "\\textbf{Alter}      &       0.2344  &        0.019     &    12.162  &         0.000        &        0.197    &        0.272     \\\\\n",
       "\\textbf{Geschlecht} &       0.0420  &        0.012     &     3.362  &         0.001        &        0.017    &        0.067     \\\\\n",
       "\\textbf{Zeit}       &       0.0316  &        0.020     &     1.598  &         0.110        &       -0.007    &        0.071     \\\\\n",
       "\\bottomrule\n",
       "\\end{tabular}\n",
       "\\begin{tabular}{lclc}\n",
       "\\textbf{Omnibus:}       &  1.250 & \\textbf{  Durbin-Watson:     } &    2.103  \\\\\n",
       "\\textbf{Prob(Omnibus):} &  0.535 & \\textbf{  Jarque-Bera (JB):  } &    1.252  \\\\\n",
       "\\textbf{Skew:}          &  0.014 & \\textbf{  Prob(JB):          } &    0.535  \\\\\n",
       "\\textbf{Kurtosis:}      &  2.837 & \\textbf{  Cond. No.          } &     3.80  \\\\\n",
       "\\bottomrule\n",
       "\\end{tabular}\n",
       "%\\caption{OLS Regression Results}\n",
       "\\end{center}\n",
       "\n",
       "Notes: \\newline\n",
       " [1] Standard Errors assume that the covariance matrix of the errors is correctly specified."
      ],
      "text/plain": [
       "<class 'statsmodels.iolib.summary.Summary'>\n",
       "\"\"\"\n",
       "                            OLS Regression Results                            \n",
       "==============================================================================\n",
       "Dep. Variable:                      y   R-squared:                       0.829\n",
       "Model:                            OLS   Adj. R-squared:                  0.828\n",
       "Method:                 Least Squares   F-statistic:                     1329.\n",
       "Date:                Thu, 27 Jun 2024   Prob (F-statistic):               0.00\n",
       "Time:                        21:20:53   Log-Likelihood:                -592.62\n",
       "No. Observations:                1104   AIC:                             1195.\n",
       "Df Residuals:                    1099   BIC:                             1220.\n",
       "Df Model:                           4                                         \n",
       "Covariance Type:            nonrobust                                         \n",
       "==============================================================================\n",
       "                 coef    std err          t      P>|t|      [0.025      0.975]\n",
       "------------------------------------------------------------------------------\n",
       "const      -4.857e-16      0.012  -3.89e-14      1.000      -0.024       0.024\n",
       "Einkommen      0.6921      0.025     28.005      0.000       0.644       0.741\n",
       "Alter          0.2344      0.019     12.162      0.000       0.197       0.272\n",
       "Geschlecht     0.0420      0.012      3.362      0.001       0.017       0.067\n",
       "Zeit           0.0316      0.020      1.598      0.110      -0.007       0.071\n",
       "==============================================================================\n",
       "Omnibus:                        1.250   Durbin-Watson:                   2.103\n",
       "Prob(Omnibus):                  0.535   Jarque-Bera (JB):                1.252\n",
       "Skew:                           0.014   Prob(JB):                        0.535\n",
       "Kurtosis:                       2.837   Cond. No.                         3.80\n",
       "==============================================================================\n",
       "\n",
       "Notes:\n",
       "[1] Standard Errors assume that the covariance matrix of the errors is correctly specified.\n",
       "\"\"\""
      ]
     },
     "execution_count": 100,
     "metadata": {},
     "output_type": "execute_result"
    }
   ],
   "source": [
    "# Zusammenfassung des Modells anzeigen\n",
    "model_standardized.summary()"
   ]
  },
  {
   "cell_type": "code",
   "execution_count": 101,
   "id": "c70c7a03",
   "metadata": {
    "slideshow": {
     "slide_type": "subslide"
    }
   },
   "outputs": [],
   "source": [
    "# Extrahieren der Koeffizienten (ohne den Intercept)\n",
    "coefficients = model_standardized.params[1:]  # Der erste Koeffizient ist der Intercept, den wir ignorieren\n",
    "variables = X.columns\n",
    "\n",
    "\n",
    "# Erstellen eines Datenrahmens für die Visualisierung\n",
    "coef_df = pd.DataFrame({\n",
    "    'Variable': variables,\n",
    "    'Koeffizient': coefficients\n",
    "})"
   ]
  },
  {
   "cell_type": "code",
   "execution_count": 102,
   "id": "17f5cf85",
   "metadata": {
    "slideshow": {
     "slide_type": "subslide"
    }
   },
   "outputs": [
    {
     "data": {
      "text/plain": [
       "Text(0.5, 1.0, 'Einflussstärke der Variablen auf den Preis des Autos')"
      ]
     },
     "execution_count": 102,
     "metadata": {},
     "output_type": "execute_result"
    },
    {
     "data": {
      "image/png": "[encoded data removed]",
      "text/plain": [
       "<Figure size 1000x600 with 1 Axes>"
      ]
     },
     "metadata": {},
     "output_type": "display_data"
    }
   ],
   "source": [
    "# Balkendiagramm erstellen\n",
    "plt.figure(figsize=(10, 6))\n",
    "plt.bar(coef_df['Variable'], coef_df['Koeffizient'], color='skyblue')\n",
    "plt.xlabel('Variablen')\n",
    "plt.ylabel('Standardisierte Koeffizienten')\n",
    "plt.title('Einflussstärke der Variablen auf den Preis des Autos')"
   ]
  },
  {
   "cell_type": "markdown",
   "id": "87a6c3c9",
   "metadata": {
    "slideshow": {
     "slide_type": "slide"
    }
   },
   "source": [
    "# F17 Schätzung Regression - Autokauf "
   ]
  },
  {
   "cell_type": "code",
   "execution_count": 103,
   "id": "3236c829",
   "metadata": {
    "slideshow": {
     "slide_type": "subslide"
    }
   },
   "outputs": [
    {
     "data": {
      "text/html": [
       "<table class=\"simpletable\">\n",
       "<caption>Logit Regression Results</caption>\n",
       "<tr>\n",
       "  <th>Dep. Variable:</th>         <td>Kauf</td>       <th>  No. Observations:  </th>  <td>  1995</td>  \n",
       "</tr>\n",
       "<tr>\n",
       "  <th>Model:</th>                 <td>Logit</td>      <th>  Df Residuals:      </th>  <td>  1990</td>  \n",
       "</tr>\n",
       "<tr>\n",
       "  <th>Method:</th>                 <td>MLE</td>       <th>  Df Model:          </th>  <td>     4</td>  \n",
       "</tr>\n",
       "<tr>\n",
       "  <th>Date:</th>            <td>Thu, 27 Jun 2024</td> <th>  Pseudo R-squ.:     </th>  <td>0.1577</td>  \n",
       "</tr>\n",
       "<tr>\n",
       "  <th>Time:</th>                <td>21:20:53</td>     <th>  Log-Likelihood:    </th> <td> -1155.1</td> \n",
       "</tr>\n",
       "<tr>\n",
       "  <th>converged:</th>             <td>True</td>       <th>  LL-Null:           </th> <td> -1371.4</td> \n",
       "</tr>\n",
       "<tr>\n",
       "  <th>Covariance Type:</th>     <td>nonrobust</td>    <th>  LLR p-value:       </th> <td>2.469e-92</td>\n",
       "</tr>\n",
       "</table>\n",
       "<table class=\"simpletable\">\n",
       "<tr>\n",
       "       <td></td>         <th>coef</th>     <th>std err</th>      <th>z</th>      <th>P>|z|</th>  <th>[0.025</th>    <th>0.975]</th>  \n",
       "</tr>\n",
       "<tr>\n",
       "  <th>const</th>      <td>   -2.4426</td> <td>    0.263</td> <td>   -9.270</td> <td> 0.000</td> <td>   -2.959</td> <td>   -1.926</td>\n",
       "</tr>\n",
       "<tr>\n",
       "  <th>Einkommen</th>  <td>-4.213e-05</td> <td> 5.43e-06</td> <td>   -7.761</td> <td> 0.000</td> <td>-5.28e-05</td> <td>-3.15e-05</td>\n",
       "</tr>\n",
       "<tr>\n",
       "  <th>Alter</th>      <td>    0.0180</td> <td>    0.007</td> <td>    2.630</td> <td> 0.009</td> <td>    0.005</td> <td>    0.031</td>\n",
       "</tr>\n",
       "<tr>\n",
       "  <th>Geschlecht</th> <td>    0.2466</td> <td>    0.103</td> <td>    2.395</td> <td> 0.017</td> <td>    0.045</td> <td>    0.448</td>\n",
       "</tr>\n",
       "<tr>\n",
       "  <th>Zeit</th>       <td>    0.1022</td> <td>    0.006</td> <td>   17.532</td> <td> 0.000</td> <td>    0.091</td> <td>    0.114</td>\n",
       "</tr>\n",
       "</table>"
      ],
      "text/latex": [
       "\\begin{center}\n",
       "\\begin{tabular}{lclc}\n",
       "\\toprule\n",
       "\\textbf{Dep. Variable:}   &       Kauf       & \\textbf{  No. Observations:  } &     1995    \\\\\n",
       "\\textbf{Model:}           &      Logit       & \\textbf{  Df Residuals:      } &     1990    \\\\\n",
       "\\textbf{Method:}          &       MLE        & \\textbf{  Df Model:          } &        4    \\\\\n",
       "\\textbf{Date:}            & Thu, 27 Jun 2024 & \\textbf{  Pseudo R-squ.:     } &   0.1577    \\\\\n",
       "\\textbf{Time:}            &     21:20:53     & \\textbf{  Log-Likelihood:    } &   -1155.1   \\\\\n",
       "\\textbf{converged:}       &       True       & \\textbf{  LL-Null:           } &   -1371.4   \\\\\n",
       "\\textbf{Covariance Type:} &    nonrobust     & \\textbf{  LLR p-value:       } & 2.469e-92   \\\\\n",
       "\\bottomrule\n",
       "\\end{tabular}\n",
       "\\begin{tabular}{lcccccc}\n",
       "                    & \\textbf{coef} & \\textbf{std err} & \\textbf{z} & \\textbf{P$> |$z$|$} & \\textbf{[0.025} & \\textbf{0.975]}  \\\\\n",
       "\\midrule\n",
       "\\textbf{const}      &      -2.4426  &        0.263     &    -9.270  &         0.000        &       -2.959    &       -1.926     \\\\\n",
       "\\textbf{Einkommen}  &   -4.213e-05  &     5.43e-06     &    -7.761  &         0.000        &    -5.28e-05    &    -3.15e-05     \\\\\n",
       "\\textbf{Alter}      &       0.0180  &        0.007     &     2.630  &         0.009        &        0.005    &        0.031     \\\\\n",
       "\\textbf{Geschlecht} &       0.2466  &        0.103     &     2.395  &         0.017        &        0.045    &        0.448     \\\\\n",
       "\\textbf{Zeit}       &       0.1022  &        0.006     &    17.532  &         0.000        &        0.091    &        0.114     \\\\\n",
       "\\bottomrule\n",
       "\\end{tabular}\n",
       "%\\caption{Logit Regression Results}\n",
       "\\end{center}"
      ],
      "text/plain": [
       "<class 'statsmodels.iolib.summary.Summary'>\n",
       "\"\"\"\n",
       "                           Logit Regression Results                           \n",
       "==============================================================================\n",
       "Dep. Variable:                   Kauf   No. Observations:                 1995\n",
       "Model:                          Logit   Df Residuals:                     1990\n",
       "Method:                           MLE   Df Model:                            4\n",
       "Date:                Thu, 27 Jun 2024   Pseudo R-squ.:                  0.1577\n",
       "Time:                        21:20:53   Log-Likelihood:                -1155.1\n",
       "converged:                       True   LL-Null:                       -1371.4\n",
       "Covariance Type:            nonrobust   LLR p-value:                 2.469e-92\n",
       "==============================================================================\n",
       "                 coef    std err          z      P>|z|      [0.025      0.975]\n",
       "------------------------------------------------------------------------------\n",
       "const         -2.4426      0.263     -9.270      0.000      -2.959      -1.926\n",
       "Einkommen  -4.213e-05   5.43e-06     -7.761      0.000   -5.28e-05   -3.15e-05\n",
       "Alter          0.0180      0.007      2.630      0.009       0.005       0.031\n",
       "Geschlecht     0.2466      0.103      2.395      0.017       0.045       0.448\n",
       "Zeit           0.1022      0.006     17.532      0.000       0.091       0.114\n",
       "==============================================================================\n",
       "\"\"\""
      ]
     },
     "execution_count": 103,
     "metadata": {},
     "output_type": "execute_result"
    }
   ],
   "source": [
    "#definieren der abhängigen Variable\n",
    "model_lg.summary()"
   ]
  },
  {
   "cell_type": "markdown",
   "id": "e188f866",
   "metadata": {
    "slideshow": {
     "slide_type": "slide"
    }
   },
   "source": [
    "# F18 Wahrscheinlichkeitsberechnung 1\n",
    "#### Kundenprofil: 32-jähriger männlicher Kunde mit einem Einkommen von 30.000 Euro, der das Auto 30 Minuten lang getestet hat, eines unserer Modelle kauft?\n",
    "\n",
    "Auf Basis der Koeffizienten aus der geschätzten Regression zur Wahrscheinlichkeit eines Autokaufs, lässt sich ermitteln, dass die Wahrscheinlichkeit, dass ein 32-Jähriger männlicher Kunde mit einem Einkommen von 30.000 € und einer 30-Minütigen Testdauer Kauft liegt in etwa bei 54,54 % "
   ]
  },
  {
   "cell_type": "code",
   "execution_count": 104,
   "id": "781f3333",
   "metadata": {
    "slideshow": {
     "slide_type": "subslide"
    }
   },
   "outputs": [
    {
     "data": {
      "text/plain": [
       "'54.53996134650454 %'"
      ]
     },
     "execution_count": 104,
     "metadata": {},
     "output_type": "execute_result"
    }
   ],
   "source": [
    "import math\n",
    "\n",
    "# Koeffizienten\n",
    "intercept = -2.4426\t\n",
    "coef_Einkommen = -0.00004213  \n",
    "coef_Alter = 0.0180\n",
    "coef_Geschlecht = 0.2466\n",
    "coef_Zeit = 0.1022\n",
    "\n",
    "# Werte der unabhängigen Variablen\n",
    "x_Einkommen = 30000\n",
    "x_Alter = 32\n",
    "x_Geschlecht = 1\n",
    "x_Zeit = 30\n",
    "\n",
    "# Berechnung der linearen Kombination\n",
    "linear_combination = intercept + (coef_Einkommen * x_Einkommen) + (coef_Alter * x_Alter) + (coef_Geschlecht * x_Geschlecht) + (coef_Zeit * x_Zeit)\n",
    "\n",
    "# Berechnung der Wahrscheinlichkeit\n",
    "Wahrscheinlichkeit_Kauf = 1 / (1 + math.exp(-linear_combination))*100\n",
    "\n",
    "f\"{Wahrscheinlichkeit_Kauf} %\"\n"
   ]
  },
  {
   "cell_type": "markdown",
   "id": "2dd14e15",
   "metadata": {
    "slideshow": {
     "slide_type": "slide"
    }
   },
   "source": [
    "# F18 Wahrscheinlichkeitsberechnung 2\n",
    "#### Kundenprofil: 51-jähriger männlicher Kunde mit einem Einkommen von 54.000 Euro, der das Auto 45 Minuten lang getestet hat, eines unserer Modelle kauft?<br>\n",
    "Die Wahrscheinlichkeit, dass ein 51-Jähriger männlicher Kunde mit einem Einkommen von 54.000 € und einer 45-Minütigen Testdauer kauft, liegt hingegen mit in etwa  74 % deutlich höher. "
   ]
  },
  {
   "cell_type": "code",
   "execution_count": 105,
   "id": "d026fede",
   "metadata": {
    "slideshow": {
     "slide_type": "subslide"
    }
   },
   "outputs": [
    {
     "data": {
      "text/plain": [
       "'74.00022019768025 %'"
      ]
     },
     "execution_count": 105,
     "metadata": {},
     "output_type": "execute_result"
    }
   ],
   "source": [
    "# Koeffizienten\n",
    "intercept = -2.4426\t\n",
    "coef_Einkommen = -0.00004213  \n",
    "coef_Alter = 0.0180\n",
    "coef_Geschlecht = 0.2466\n",
    "coef_Zeit = 0.1022\n",
    "\n",
    "# Werte der unabhängigen Variablen\n",
    "x_Einkommen = 54000\n",
    "x_Alter = 51\n",
    "x_Geschlecht = 1\n",
    "x_Zeit = 45\n",
    "\n",
    "# Berechnung der linearen Kombination\n",
    "linear_combination = intercept + (coef_Einkommen * x_Einkommen) + (coef_Alter * x_Alter) + (coef_Geschlecht * x_Geschlecht) + (coef_Zeit * x_Zeit)\n",
    "\n",
    "# Berechnung der Wahrscheinlichkeit\n",
    "Wahrscheinlichkeit_Kauf = 1 / (1 + math.exp(-linear_combination)) * 100\n",
    "\n",
    "f\"{Wahrscheinlichkeit_Kauf} %\"\n"
   ]
  },
  {
   "cell_type": "code",
   "execution_count": null,
   "id": "172b1e94",
   "metadata": {},
   "outputs": [],
   "source": []
  },
  {
   "cell_type": "code",
   "execution_count": null,
   "id": "0f1525f3",
   "metadata": {},
   "outputs": [],
   "source": []
  },
  {
   "cell_type": "code",
   "execution_count": null,
   "id": "fb8be132",
   "metadata": {},
   "outputs": [],
   "source": []
  }
 ],
 "metadata": {
  "celltoolbar": "Slideshow",
  "kernelspec": {
   "display_name": "Python 3 (ipykernel)",
   "language": "python",
   "name": "python3"
  },
  "language_info": {
   "codemirror_mode": {
    "name": "ipython",
    "version": 3
   },
   "file_extension": ".py",
   "mimetype": "text/x-python",
   "name": "python",
   "nbconvert_exporter": "python",
   "pygments_lexer": "ipython3",
   "version": "3.11.7"
  }
 },
 "nbformat": 4,
 "nbformat_minor": 5
}
