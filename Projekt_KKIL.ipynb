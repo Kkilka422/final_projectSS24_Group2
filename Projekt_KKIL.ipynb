{
 "cells": [
  {
   "cell_type": "code",
   "execution_count": 1,
   "id": "d7377c75-2a29-4cf0-b144-b7e66bfed5a0",
   "metadata": {},
   "outputs": [],
   "source": [
    "import pandas as pd\n",
    "import numpy as np"
   ]
  },
  {
   "cell_type": "code",
   "execution_count": 2,
   "id": "21c8dfa8-35cc-4c04-9ca3-555ce218b9c0",
   "metadata": {},
   "outputs": [],
   "source": [
    "file_k = r\"C:\\Users\\keanu\\OneDrive\\Dokumente\\Python\\final_projectSS24_Group2\\data\\kunden.csv\"\n",
    "file_b = r\"C:\\Users\\keanu\\OneDrive\\Dokumente\\Python\\final_projectSS24_Group2\\data\\besucher.csv\"\n",
    "file_geo = r\"C:\\Users\\keanu\\OneDrive\\Dokumente\\Python\\final_projectSS24_Group2\\data\\geo.txt\""
   ]
  },
  {
   "cell_type": "code",
   "execution_count": 3,
   "id": "28725a10-be1c-429c-bf34-f11630ccb42e",
   "metadata": {},
   "outputs": [],
   "source": [
    "df_k = pd.read_csv(file_k, sep = \";\", decimal = \".\")\n",
    "df_b = pd.read_csv(file_b, sep = \";\", decimal = \",\")\n",
    "df_geo = pd.read_table(file_geo, delimiter = \"\\t\") #\\t muss verwendet werden damit die Spalten der Liste aus der txt Datei separiert werden können"
   ]
  },
  {
   "cell_type": "code",
   "execution_count": 4,
   "id": "4ccd1cc9-6bd7-4cb5-ba3d-31a10851fddd",
   "metadata": {},
   "outputs": [
    {
     "data": {
      "text/html": [
       "<div>\n",
       "<style scoped>\n",
       "    .dataframe tbody tr th:only-of-type {\n",
       "        vertical-align: middle;\n",
       "    }\n",
       "\n",
       "    .dataframe tbody tr th {\n",
       "        vertical-align: top;\n",
       "    }\n",
       "\n",
       "    .dataframe thead th {\n",
       "        text-align: right;\n",
       "    }\n",
       "</style>\n",
       "<table border=\"1\" class=\"dataframe\">\n",
       "  <thead>\n",
       "    <tr style=\"text-align: right;\">\n",
       "      <th></th>\n",
       "      <th>KundeNr</th>\n",
       "      <th>Niederlassung</th>\n",
       "    </tr>\n",
       "  </thead>\n",
       "  <tbody>\n",
       "    <tr>\n",
       "      <th>0</th>\n",
       "      <td>K0001</td>\n",
       "      <td>Sachsen</td>\n",
       "    </tr>\n",
       "    <tr>\n",
       "      <th>1</th>\n",
       "      <td>K0002</td>\n",
       "      <td>NRW</td>\n",
       "    </tr>\n",
       "    <tr>\n",
       "      <th>2</th>\n",
       "      <td>K0003</td>\n",
       "      <td>Hessen</td>\n",
       "    </tr>\n",
       "    <tr>\n",
       "      <th>3</th>\n",
       "      <td>K0004</td>\n",
       "      <td>Bayern</td>\n",
       "    </tr>\n",
       "    <tr>\n",
       "      <th>4</th>\n",
       "      <td>K0005</td>\n",
       "      <td>Bayern</td>\n",
       "    </tr>\n",
       "    <tr>\n",
       "      <th>...</th>\n",
       "      <td>...</td>\n",
       "      <td>...</td>\n",
       "    </tr>\n",
       "    <tr>\n",
       "      <th>1990</th>\n",
       "      <td>K1991</td>\n",
       "      <td>Hessen</td>\n",
       "    </tr>\n",
       "    <tr>\n",
       "      <th>1991</th>\n",
       "      <td>K1992</td>\n",
       "      <td>Baden-Württemberg</td>\n",
       "    </tr>\n",
       "    <tr>\n",
       "      <th>1992</th>\n",
       "      <td>K1993</td>\n",
       "      <td>Nordrhein-Westfalen</td>\n",
       "    </tr>\n",
       "    <tr>\n",
       "      <th>1993</th>\n",
       "      <td>K1994</td>\n",
       "      <td>Berlin</td>\n",
       "    </tr>\n",
       "    <tr>\n",
       "      <th>1994</th>\n",
       "      <td>K1995</td>\n",
       "      <td>Berlin-Charlottenburg</td>\n",
       "    </tr>\n",
       "  </tbody>\n",
       "</table>\n",
       "<p>1995 rows × 2 columns</p>\n",
       "</div>"
      ],
      "text/plain": [
       "     KundeNr          Niederlassung\n",
       "0      K0001                Sachsen\n",
       "1      K0002                    NRW\n",
       "2      K0003                 Hessen\n",
       "3      K0004                 Bayern\n",
       "4      K0005                 Bayern\n",
       "...      ...                    ...\n",
       "1990   K1991                 Hessen\n",
       "1991   K1992      Baden-Württemberg\n",
       "1992   K1993    Nordrhein-Westfalen\n",
       "1993   K1994                 Berlin\n",
       "1994   K1995  Berlin-Charlottenburg\n",
       "\n",
       "[1995 rows x 2 columns]"
      ]
     },
     "execution_count": 4,
     "metadata": {},
     "output_type": "execute_result"
    }
   ],
   "source": [
    "df_geo"
   ]
  },
  {
   "cell_type": "code",
   "execution_count": 5,
   "id": "c474014f-2a94-4554-94a6-18a95d1076d7",
   "metadata": {},
   "outputs": [
    {
     "data": {
      "text/html": [
       "<div>\n",
       "<style scoped>\n",
       "    .dataframe tbody tr th:only-of-type {\n",
       "        vertical-align: middle;\n",
       "    }\n",
       "\n",
       "    .dataframe tbody tr th {\n",
       "        vertical-align: top;\n",
       "    }\n",
       "\n",
       "    .dataframe thead th {\n",
       "        text-align: right;\n",
       "    }\n",
       "</style>\n",
       "<table border=\"1\" class=\"dataframe\">\n",
       "  <thead>\n",
       "    <tr style=\"text-align: right;\">\n",
       "      <th></th>\n",
       "      <th>Alter</th>\n",
       "      <th>Einkommen</th>\n",
       "      <th>Geschlecht</th>\n",
       "      <th>Zeit</th>\n",
       "      <th>KundeNr</th>\n",
       "      <th>Preis</th>\n",
       "    </tr>\n",
       "  </thead>\n",
       "  <tbody>\n",
       "    <tr>\n",
       "      <th>0</th>\n",
       "      <td>30</td>\n",
       "      <td>39919.095335</td>\n",
       "      <td>0.0</td>\n",
       "      <td>29.0</td>\n",
       "      <td>K1814</td>\n",
       "      <td>NaN</td>\n",
       "    </tr>\n",
       "    <tr>\n",
       "      <th>1</th>\n",
       "      <td>41</td>\n",
       "      <td>53430.673086</td>\n",
       "      <td>0.0</td>\n",
       "      <td>27.0</td>\n",
       "      <td>K1544</td>\n",
       "      <td>NaN</td>\n",
       "    </tr>\n",
       "    <tr>\n",
       "      <th>2</th>\n",
       "      <td>64</td>\n",
       "      <td>73163.216927</td>\n",
       "      <td>0.0</td>\n",
       "      <td>32.0</td>\n",
       "      <td>K1945</td>\n",
       "      <td>NaN</td>\n",
       "    </tr>\n",
       "    <tr>\n",
       "      <th>3</th>\n",
       "      <td>41</td>\n",
       "      <td>36761.482581</td>\n",
       "      <td>0.0</td>\n",
       "      <td>44.0</td>\n",
       "      <td>K1825</td>\n",
       "      <td>NaN</td>\n",
       "    </tr>\n",
       "    <tr>\n",
       "      <th>4</th>\n",
       "      <td>35</td>\n",
       "      <td>42684.331632</td>\n",
       "      <td>1.0</td>\n",
       "      <td>33.0</td>\n",
       "      <td>K1144</td>\n",
       "      <td>NaN</td>\n",
       "    </tr>\n",
       "    <tr>\n",
       "      <th>...</th>\n",
       "      <td>...</td>\n",
       "      <td>...</td>\n",
       "      <td>...</td>\n",
       "      <td>...</td>\n",
       "      <td>...</td>\n",
       "      <td>...</td>\n",
       "    </tr>\n",
       "    <tr>\n",
       "      <th>1990</th>\n",
       "      <td>70</td>\n",
       "      <td>69581.000000</td>\n",
       "      <td>1.0</td>\n",
       "      <td>51.0</td>\n",
       "      <td>K0467</td>\n",
       "      <td>103751.58</td>\n",
       "    </tr>\n",
       "    <tr>\n",
       "      <th>1991</th>\n",
       "      <td>38</td>\n",
       "      <td>48301.000000</td>\n",
       "      <td>1.0</td>\n",
       "      <td>33.0</td>\n",
       "      <td>K0122</td>\n",
       "      <td>64230.98</td>\n",
       "    </tr>\n",
       "    <tr>\n",
       "      <th>1992</th>\n",
       "      <td>67</td>\n",
       "      <td>63547.000000</td>\n",
       "      <td>1.0</td>\n",
       "      <td>41.0</td>\n",
       "      <td>K1045</td>\n",
       "      <td>103123.57</td>\n",
       "    </tr>\n",
       "    <tr>\n",
       "      <th>1993</th>\n",
       "      <td>37</td>\n",
       "      <td>32686.000000</td>\n",
       "      <td>1.0</td>\n",
       "      <td>36.0</td>\n",
       "      <td>K1096</td>\n",
       "      <td>49215.87</td>\n",
       "    </tr>\n",
       "    <tr>\n",
       "      <th>1994</th>\n",
       "      <td>55</td>\n",
       "      <td>71240.000000</td>\n",
       "      <td>1.0</td>\n",
       "      <td>49.0</td>\n",
       "      <td>K0861</td>\n",
       "      <td>106132.59</td>\n",
       "    </tr>\n",
       "  </tbody>\n",
       "</table>\n",
       "<p>1995 rows × 6 columns</p>\n",
       "</div>"
      ],
      "text/plain": [
       "      Alter     Einkommen  Geschlecht  Zeit KundeNr      Preis\n",
       "0        30  39919.095335         0.0  29.0   K1814        NaN\n",
       "1        41  53430.673086         0.0  27.0   K1544        NaN\n",
       "2        64  73163.216927         0.0  32.0   K1945        NaN\n",
       "3        41  36761.482581         0.0  44.0   K1825        NaN\n",
       "4        35  42684.331632         1.0  33.0   K1144        NaN\n",
       "...     ...           ...         ...   ...     ...        ...\n",
       "1990     70  69581.000000         1.0  51.0   K0467  103751.58\n",
       "1991     38  48301.000000         1.0  33.0   K0122   64230.98\n",
       "1992     67  63547.000000         1.0  41.0   K1045  103123.57\n",
       "1993     37  32686.000000         1.0  36.0   K1096   49215.87\n",
       "1994     55  71240.000000         1.0  49.0   K0861  106132.59\n",
       "\n",
       "[1995 rows x 6 columns]"
      ]
     },
     "execution_count": 5,
     "metadata": {},
     "output_type": "execute_result"
    }
   ],
   "source": [
    "df_b_k = pd.concat([df_b,df_k], ignore_index = True)\n",
    "df_b_k"
   ]
  },
  {
   "cell_type": "code",
   "execution_count": 6,
   "id": "df499cb6-7655-422f-9752-37b81ff84c46",
   "metadata": {},
   "outputs": [
    {
     "data": {
      "text/html": [
       "<div>\n",
       "<style scoped>\n",
       "    .dataframe tbody tr th:only-of-type {\n",
       "        vertical-align: middle;\n",
       "    }\n",
       "\n",
       "    .dataframe tbody tr th {\n",
       "        vertical-align: top;\n",
       "    }\n",
       "\n",
       "    .dataframe thead th {\n",
       "        text-align: right;\n",
       "    }\n",
       "</style>\n",
       "<table border=\"1\" class=\"dataframe\">\n",
       "  <thead>\n",
       "    <tr style=\"text-align: right;\">\n",
       "      <th></th>\n",
       "      <th>Alter</th>\n",
       "      <th>Einkommen</th>\n",
       "      <th>Geschlecht</th>\n",
       "      <th>Zeit</th>\n",
       "      <th>KundeNr</th>\n",
       "      <th>Preis</th>\n",
       "    </tr>\n",
       "  </thead>\n",
       "  <tbody>\n",
       "    <tr>\n",
       "      <th>0</th>\n",
       "      <td>30</td>\n",
       "      <td>39919.095335</td>\n",
       "      <td>0.0</td>\n",
       "      <td>29.0</td>\n",
       "      <td>K1814</td>\n",
       "      <td>NaN</td>\n",
       "    </tr>\n",
       "    <tr>\n",
       "      <th>1</th>\n",
       "      <td>41</td>\n",
       "      <td>53430.673086</td>\n",
       "      <td>0.0</td>\n",
       "      <td>27.0</td>\n",
       "      <td>K1544</td>\n",
       "      <td>NaN</td>\n",
       "    </tr>\n",
       "    <tr>\n",
       "      <th>2</th>\n",
       "      <td>64</td>\n",
       "      <td>73163.216927</td>\n",
       "      <td>0.0</td>\n",
       "      <td>32.0</td>\n",
       "      <td>K1945</td>\n",
       "      <td>NaN</td>\n",
       "    </tr>\n",
       "    <tr>\n",
       "      <th>3</th>\n",
       "      <td>41</td>\n",
       "      <td>36761.482581</td>\n",
       "      <td>0.0</td>\n",
       "      <td>44.0</td>\n",
       "      <td>K1825</td>\n",
       "      <td>NaN</td>\n",
       "    </tr>\n",
       "    <tr>\n",
       "      <th>4</th>\n",
       "      <td>35</td>\n",
       "      <td>42684.331632</td>\n",
       "      <td>1.0</td>\n",
       "      <td>33.0</td>\n",
       "      <td>K1144</td>\n",
       "      <td>NaN</td>\n",
       "    </tr>\n",
       "    <tr>\n",
       "      <th>...</th>\n",
       "      <td>...</td>\n",
       "      <td>...</td>\n",
       "      <td>...</td>\n",
       "      <td>...</td>\n",
       "      <td>...</td>\n",
       "      <td>...</td>\n",
       "    </tr>\n",
       "    <tr>\n",
       "      <th>1990</th>\n",
       "      <td>70</td>\n",
       "      <td>69581.000000</td>\n",
       "      <td>1.0</td>\n",
       "      <td>51.0</td>\n",
       "      <td>K0467</td>\n",
       "      <td>103751.58</td>\n",
       "    </tr>\n",
       "    <tr>\n",
       "      <th>1991</th>\n",
       "      <td>38</td>\n",
       "      <td>48301.000000</td>\n",
       "      <td>1.0</td>\n",
       "      <td>33.0</td>\n",
       "      <td>K0122</td>\n",
       "      <td>64230.98</td>\n",
       "    </tr>\n",
       "    <tr>\n",
       "      <th>1992</th>\n",
       "      <td>67</td>\n",
       "      <td>63547.000000</td>\n",
       "      <td>1.0</td>\n",
       "      <td>41.0</td>\n",
       "      <td>K1045</td>\n",
       "      <td>103123.57</td>\n",
       "    </tr>\n",
       "    <tr>\n",
       "      <th>1993</th>\n",
       "      <td>37</td>\n",
       "      <td>32686.000000</td>\n",
       "      <td>1.0</td>\n",
       "      <td>36.0</td>\n",
       "      <td>K1096</td>\n",
       "      <td>49215.87</td>\n",
       "    </tr>\n",
       "    <tr>\n",
       "      <th>1994</th>\n",
       "      <td>55</td>\n",
       "      <td>71240.000000</td>\n",
       "      <td>1.0</td>\n",
       "      <td>49.0</td>\n",
       "      <td>K0861</td>\n",
       "      <td>106132.59</td>\n",
       "    </tr>\n",
       "  </tbody>\n",
       "</table>\n",
       "<p>1995 rows × 6 columns</p>\n",
       "</div>"
      ],
      "text/plain": [
       "      Alter     Einkommen  Geschlecht  Zeit KundeNr      Preis\n",
       "0        30  39919.095335         0.0  29.0   K1814        NaN\n",
       "1        41  53430.673086         0.0  27.0   K1544        NaN\n",
       "2        64  73163.216927         0.0  32.0   K1945        NaN\n",
       "3        41  36761.482581         0.0  44.0   K1825        NaN\n",
       "4        35  42684.331632         1.0  33.0   K1144        NaN\n",
       "...     ...           ...         ...   ...     ...        ...\n",
       "1990     70  69581.000000         1.0  51.0   K0467  103751.58\n",
       "1991     38  48301.000000         1.0  33.0   K0122   64230.98\n",
       "1992     67  63547.000000         1.0  41.0   K1045  103123.57\n",
       "1993     37  32686.000000         1.0  36.0   K1096   49215.87\n",
       "1994     55  71240.000000         1.0  49.0   K0861  106132.59\n",
       "\n",
       "[1995 rows x 6 columns]"
      ]
     },
     "execution_count": 6,
     "metadata": {},
     "output_type": "execute_result"
    }
   ],
   "source": [
    "df_b_k = pd.concat([df_b,df_k], ignore_index = True)\n",
    "df_b_k"
   ]
  },
  {
   "cell_type": "code",
   "execution_count": 7,
   "id": "c6b5d367-07b1-4ad5-a573-cbd1217e1427",
   "metadata": {},
   "outputs": [
    {
     "data": {
      "text/html": [
       "<div>\n",
       "<style scoped>\n",
       "    .dataframe tbody tr th:only-of-type {\n",
       "        vertical-align: middle;\n",
       "    }\n",
       "\n",
       "    .dataframe tbody tr th {\n",
       "        vertical-align: top;\n",
       "    }\n",
       "\n",
       "    .dataframe thead th {\n",
       "        text-align: right;\n",
       "    }\n",
       "</style>\n",
       "<table border=\"1\" class=\"dataframe\">\n",
       "  <thead>\n",
       "    <tr style=\"text-align: right;\">\n",
       "      <th></th>\n",
       "      <th>Alter</th>\n",
       "      <th>Einkommen</th>\n",
       "      <th>Geschlecht</th>\n",
       "      <th>Zeit</th>\n",
       "      <th>KundeNr</th>\n",
       "      <th>Preis</th>\n",
       "      <th>Niederlassung</th>\n",
       "    </tr>\n",
       "  </thead>\n",
       "  <tbody>\n",
       "    <tr>\n",
       "      <th>0</th>\n",
       "      <td>30</td>\n",
       "      <td>39919.095335</td>\n",
       "      <td>0.0</td>\n",
       "      <td>29.0</td>\n",
       "      <td>K1814</td>\n",
       "      <td>NaN</td>\n",
       "      <td>Bayern</td>\n",
       "    </tr>\n",
       "    <tr>\n",
       "      <th>1</th>\n",
       "      <td>41</td>\n",
       "      <td>53430.673086</td>\n",
       "      <td>0.0</td>\n",
       "      <td>27.0</td>\n",
       "      <td>K1544</td>\n",
       "      <td>NaN</td>\n",
       "      <td>Baden-Württemberg</td>\n",
       "    </tr>\n",
       "    <tr>\n",
       "      <th>2</th>\n",
       "      <td>64</td>\n",
       "      <td>73163.216927</td>\n",
       "      <td>0.0</td>\n",
       "      <td>32.0</td>\n",
       "      <td>K1945</td>\n",
       "      <td>NaN</td>\n",
       "      <td>Baden-Württemberg</td>\n",
       "    </tr>\n",
       "    <tr>\n",
       "      <th>3</th>\n",
       "      <td>41</td>\n",
       "      <td>36761.482581</td>\n",
       "      <td>0.0</td>\n",
       "      <td>44.0</td>\n",
       "      <td>K1825</td>\n",
       "      <td>NaN</td>\n",
       "      <td>Baden-Württemberg</td>\n",
       "    </tr>\n",
       "    <tr>\n",
       "      <th>4</th>\n",
       "      <td>35</td>\n",
       "      <td>42684.331632</td>\n",
       "      <td>1.0</td>\n",
       "      <td>33.0</td>\n",
       "      <td>K1144</td>\n",
       "      <td>NaN</td>\n",
       "      <td>Nordrhein-Westfalen</td>\n",
       "    </tr>\n",
       "    <tr>\n",
       "      <th>...</th>\n",
       "      <td>...</td>\n",
       "      <td>...</td>\n",
       "      <td>...</td>\n",
       "      <td>...</td>\n",
       "      <td>...</td>\n",
       "      <td>...</td>\n",
       "      <td>...</td>\n",
       "    </tr>\n",
       "    <tr>\n",
       "      <th>1990</th>\n",
       "      <td>70</td>\n",
       "      <td>69581.000000</td>\n",
       "      <td>1.0</td>\n",
       "      <td>51.0</td>\n",
       "      <td>K0467</td>\n",
       "      <td>103751.58</td>\n",
       "      <td>Thüringen</td>\n",
       "    </tr>\n",
       "    <tr>\n",
       "      <th>1991</th>\n",
       "      <td>38</td>\n",
       "      <td>48301.000000</td>\n",
       "      <td>1.0</td>\n",
       "      <td>33.0</td>\n",
       "      <td>K0122</td>\n",
       "      <td>64230.98</td>\n",
       "      <td>Niedersachsen</td>\n",
       "    </tr>\n",
       "    <tr>\n",
       "      <th>1992</th>\n",
       "      <td>67</td>\n",
       "      <td>63547.000000</td>\n",
       "      <td>1.0</td>\n",
       "      <td>41.0</td>\n",
       "      <td>K1045</td>\n",
       "      <td>103123.57</td>\n",
       "      <td>Berlin</td>\n",
       "    </tr>\n",
       "    <tr>\n",
       "      <th>1993</th>\n",
       "      <td>37</td>\n",
       "      <td>32686.000000</td>\n",
       "      <td>1.0</td>\n",
       "      <td>36.0</td>\n",
       "      <td>K1096</td>\n",
       "      <td>49215.87</td>\n",
       "      <td>Baden-Württemberg</td>\n",
       "    </tr>\n",
       "    <tr>\n",
       "      <th>1994</th>\n",
       "      <td>55</td>\n",
       "      <td>71240.000000</td>\n",
       "      <td>1.0</td>\n",
       "      <td>49.0</td>\n",
       "      <td>K0861</td>\n",
       "      <td>106132.59</td>\n",
       "      <td>Bayern</td>\n",
       "    </tr>\n",
       "  </tbody>\n",
       "</table>\n",
       "<p>1995 rows × 7 columns</p>\n",
       "</div>"
      ],
      "text/plain": [
       "      Alter     Einkommen  Geschlecht  Zeit KundeNr      Preis  \\\n",
       "0        30  39919.095335         0.0  29.0   K1814        NaN   \n",
       "1        41  53430.673086         0.0  27.0   K1544        NaN   \n",
       "2        64  73163.216927         0.0  32.0   K1945        NaN   \n",
       "3        41  36761.482581         0.0  44.0   K1825        NaN   \n",
       "4        35  42684.331632         1.0  33.0   K1144        NaN   \n",
       "...     ...           ...         ...   ...     ...        ...   \n",
       "1990     70  69581.000000         1.0  51.0   K0467  103751.58   \n",
       "1991     38  48301.000000         1.0  33.0   K0122   64230.98   \n",
       "1992     67  63547.000000         1.0  41.0   K1045  103123.57   \n",
       "1993     37  32686.000000         1.0  36.0   K1096   49215.87   \n",
       "1994     55  71240.000000         1.0  49.0   K0861  106132.59   \n",
       "\n",
       "            Niederlassung  \n",
       "0                  Bayern  \n",
       "1       Baden-Württemberg  \n",
       "2       Baden-Württemberg  \n",
       "3       Baden-Württemberg  \n",
       "4     Nordrhein-Westfalen  \n",
       "...                   ...  \n",
       "1990            Thüringen  \n",
       "1991        Niedersachsen  \n",
       "1992               Berlin  \n",
       "1993    Baden-Württemberg  \n",
       "1994               Bayern  \n",
       "\n",
       "[1995 rows x 7 columns]"
      ]
     },
     "execution_count": 7,
     "metadata": {},
     "output_type": "execute_result"
    }
   ],
   "source": [
    "df_bkg = pd.merge(df_b_k, df_geo, on = \"KundeNr\")\n",
    "df_bkg"
   ]
  },
  {
   "cell_type": "code",
   "execution_count": 8,
   "id": "0a6986a8-1c8c-44e0-ae9f-90196841c064",
   "metadata": {},
   "outputs": [
    {
     "data": {
      "text/html": [
       "<div>\n",
       "<style scoped>\n",
       "    .dataframe tbody tr th:only-of-type {\n",
       "        vertical-align: middle;\n",
       "    }\n",
       "\n",
       "    .dataframe tbody tr th {\n",
       "        vertical-align: top;\n",
       "    }\n",
       "\n",
       "    .dataframe thead th {\n",
       "        text-align: right;\n",
       "    }\n",
       "</style>\n",
       "<table border=\"1\" class=\"dataframe\">\n",
       "  <thead>\n",
       "    <tr style=\"text-align: right;\">\n",
       "      <th></th>\n",
       "      <th>Alter</th>\n",
       "      <th>Einkommen</th>\n",
       "      <th>Geschlecht</th>\n",
       "      <th>Zeit</th>\n",
       "      <th>KundeNr</th>\n",
       "      <th>Preis</th>\n",
       "      <th>Niederlassung</th>\n",
       "      <th>Ausreißer</th>\n",
       "    </tr>\n",
       "  </thead>\n",
       "  <tbody>\n",
       "    <tr>\n",
       "      <th>0</th>\n",
       "      <td>30</td>\n",
       "      <td>39919.095335</td>\n",
       "      <td>0.0</td>\n",
       "      <td>29.0</td>\n",
       "      <td>K1814</td>\n",
       "      <td>NaN</td>\n",
       "      <td>Bayern</td>\n",
       "      <td>False</td>\n",
       "    </tr>\n",
       "    <tr>\n",
       "      <th>1</th>\n",
       "      <td>41</td>\n",
       "      <td>53430.673086</td>\n",
       "      <td>0.0</td>\n",
       "      <td>27.0</td>\n",
       "      <td>K1544</td>\n",
       "      <td>NaN</td>\n",
       "      <td>Baden-Württemberg</td>\n",
       "      <td>False</td>\n",
       "    </tr>\n",
       "    <tr>\n",
       "      <th>2</th>\n",
       "      <td>64</td>\n",
       "      <td>73163.216927</td>\n",
       "      <td>0.0</td>\n",
       "      <td>32.0</td>\n",
       "      <td>K1945</td>\n",
       "      <td>NaN</td>\n",
       "      <td>Baden-Württemberg</td>\n",
       "      <td>False</td>\n",
       "    </tr>\n",
       "    <tr>\n",
       "      <th>3</th>\n",
       "      <td>41</td>\n",
       "      <td>36761.482581</td>\n",
       "      <td>0.0</td>\n",
       "      <td>44.0</td>\n",
       "      <td>K1825</td>\n",
       "      <td>NaN</td>\n",
       "      <td>Baden-Württemberg</td>\n",
       "      <td>False</td>\n",
       "    </tr>\n",
       "    <tr>\n",
       "      <th>4</th>\n",
       "      <td>35</td>\n",
       "      <td>42684.331632</td>\n",
       "      <td>1.0</td>\n",
       "      <td>33.0</td>\n",
       "      <td>K1144</td>\n",
       "      <td>NaN</td>\n",
       "      <td>Nordrhein-Westfalen</td>\n",
       "      <td>False</td>\n",
       "    </tr>\n",
       "    <tr>\n",
       "      <th>...</th>\n",
       "      <td>...</td>\n",
       "      <td>...</td>\n",
       "      <td>...</td>\n",
       "      <td>...</td>\n",
       "      <td>...</td>\n",
       "      <td>...</td>\n",
       "      <td>...</td>\n",
       "      <td>...</td>\n",
       "    </tr>\n",
       "    <tr>\n",
       "      <th>1990</th>\n",
       "      <td>70</td>\n",
       "      <td>69581.000000</td>\n",
       "      <td>1.0</td>\n",
       "      <td>51.0</td>\n",
       "      <td>K0467</td>\n",
       "      <td>103751.58</td>\n",
       "      <td>Thüringen</td>\n",
       "      <td>False</td>\n",
       "    </tr>\n",
       "    <tr>\n",
       "      <th>1991</th>\n",
       "      <td>38</td>\n",
       "      <td>48301.000000</td>\n",
       "      <td>1.0</td>\n",
       "      <td>33.0</td>\n",
       "      <td>K0122</td>\n",
       "      <td>64230.98</td>\n",
       "      <td>Niedersachsen</td>\n",
       "      <td>False</td>\n",
       "    </tr>\n",
       "    <tr>\n",
       "      <th>1992</th>\n",
       "      <td>67</td>\n",
       "      <td>63547.000000</td>\n",
       "      <td>1.0</td>\n",
       "      <td>41.0</td>\n",
       "      <td>K1045</td>\n",
       "      <td>103123.57</td>\n",
       "      <td>Berlin</td>\n",
       "      <td>False</td>\n",
       "    </tr>\n",
       "    <tr>\n",
       "      <th>1993</th>\n",
       "      <td>37</td>\n",
       "      <td>32686.000000</td>\n",
       "      <td>1.0</td>\n",
       "      <td>36.0</td>\n",
       "      <td>K1096</td>\n",
       "      <td>49215.87</td>\n",
       "      <td>Baden-Württemberg</td>\n",
       "      <td>False</td>\n",
       "    </tr>\n",
       "    <tr>\n",
       "      <th>1994</th>\n",
       "      <td>55</td>\n",
       "      <td>71240.000000</td>\n",
       "      <td>1.0</td>\n",
       "      <td>49.0</td>\n",
       "      <td>K0861</td>\n",
       "      <td>106132.59</td>\n",
       "      <td>Bayern</td>\n",
       "      <td>False</td>\n",
       "    </tr>\n",
       "  </tbody>\n",
       "</table>\n",
       "<p>1995 rows × 8 columns</p>\n",
       "</div>"
      ],
      "text/plain": [
       "      Alter     Einkommen  Geschlecht  Zeit KundeNr      Preis  \\\n",
       "0        30  39919.095335         0.0  29.0   K1814        NaN   \n",
       "1        41  53430.673086         0.0  27.0   K1544        NaN   \n",
       "2        64  73163.216927         0.0  32.0   K1945        NaN   \n",
       "3        41  36761.482581         0.0  44.0   K1825        NaN   \n",
       "4        35  42684.331632         1.0  33.0   K1144        NaN   \n",
       "...     ...           ...         ...   ...     ...        ...   \n",
       "1990     70  69581.000000         1.0  51.0   K0467  103751.58   \n",
       "1991     38  48301.000000         1.0  33.0   K0122   64230.98   \n",
       "1992     67  63547.000000         1.0  41.0   K1045  103123.57   \n",
       "1993     37  32686.000000         1.0  36.0   K1096   49215.87   \n",
       "1994     55  71240.000000         1.0  49.0   K0861  106132.59   \n",
       "\n",
       "            Niederlassung  Ausreißer  \n",
       "0                  Bayern      False  \n",
       "1       Baden-Württemberg      False  \n",
       "2       Baden-Württemberg      False  \n",
       "3       Baden-Württemberg      False  \n",
       "4     Nordrhein-Westfalen      False  \n",
       "...                   ...        ...  \n",
       "1990            Thüringen      False  \n",
       "1991        Niedersachsen      False  \n",
       "1992               Berlin      False  \n",
       "1993    Baden-Württemberg      False  \n",
       "1994               Bayern      False  \n",
       "\n",
       "[1995 rows x 8 columns]"
      ]
     },
     "execution_count": 8,
     "metadata": {},
     "output_type": "execute_result"
    }
   ],
   "source": [
    "# Berechnung von Q1 (25. Perzentil), Q3 (75. Perzentil) und IQR\n",
    "Q1 = df_bkg['Einkommen'].quantile(0.25)\n",
    "Q3 = df_bkg['Einkommen'].quantile(0.75)\n",
    "IQR = Q3 - Q1\n",
    "\n",
    "# Berechnung der Ausreißer-Grenzen\n",
    "untere_grenze = Q1 - 1.6 * IQR #Faktor auf die Ausreißer nach eigenem Ermessen angepasst\n",
    "obere_grenze = Q3 + 5 * IQR #Faktor auf die Ausreißer nach eigenem Ermessen angepasst\n",
    "\n",
    "# Identifizierung von Ausreißern\n",
    "df_bkg['Ausreißer'] = (df_bkg['Einkommen'] < untere_grenze) | (df_bkg['Einkommen'] > obere_grenze)\n",
    "\n",
    "df_bkg"
   ]
  },
  {
   "cell_type": "code",
   "execution_count": 9,
   "id": "7d739f20-6b90-4f41-bcc9-e1e1b3f99752",
   "metadata": {},
   "outputs": [
    {
     "data": {
      "text/plain": [
       "9204.719763225141"
      ]
     },
     "execution_count": 9,
     "metadata": {},
     "output_type": "execute_result"
    }
   ],
   "source": [
    "untere_grenze"
   ]
  },
  {
   "cell_type": "code",
   "execution_count": 10,
   "id": "85645f5e-394c-4901-85dc-889bc1a54609",
   "metadata": {},
   "outputs": [
    {
     "data": {
      "text/html": [
       "<div>\n",
       "<style scoped>\n",
       "    .dataframe tbody tr th:only-of-type {\n",
       "        vertical-align: middle;\n",
       "    }\n",
       "\n",
       "    .dataframe tbody tr th {\n",
       "        vertical-align: top;\n",
       "    }\n",
       "\n",
       "    .dataframe thead th {\n",
       "        text-align: right;\n",
       "    }\n",
       "</style>\n",
       "<table border=\"1\" class=\"dataframe\">\n",
       "  <thead>\n",
       "    <tr style=\"text-align: right;\">\n",
       "      <th></th>\n",
       "      <th>Alter</th>\n",
       "      <th>Einkommen</th>\n",
       "      <th>Geschlecht</th>\n",
       "      <th>Zeit</th>\n",
       "      <th>KundeNr</th>\n",
       "      <th>Preis</th>\n",
       "      <th>Niederlassung</th>\n",
       "      <th>Ausreißer</th>\n",
       "    </tr>\n",
       "  </thead>\n",
       "  <tbody>\n",
       "    <tr>\n",
       "      <th>1299</th>\n",
       "      <td>68</td>\n",
       "      <td>1.000000e+09</td>\n",
       "      <td>0.0</td>\n",
       "      <td>52.0</td>\n",
       "      <td>K0701</td>\n",
       "      <td>87209.72</td>\n",
       "      <td>Nordrhein-Westfalen</td>\n",
       "      <td>True</td>\n",
       "    </tr>\n",
       "    <tr>\n",
       "      <th>1857</th>\n",
       "      <td>69</td>\n",
       "      <td>0.000000e+00</td>\n",
       "      <td>1.0</td>\n",
       "      <td>65.0</td>\n",
       "      <td>K1021</td>\n",
       "      <td>125140.05</td>\n",
       "      <td>Bayern</td>\n",
       "      <td>True</td>\n",
       "    </tr>\n",
       "    <tr>\n",
       "      <th>1973</th>\n",
       "      <td>59</td>\n",
       "      <td>-6.284037e+04</td>\n",
       "      <td>0.0</td>\n",
       "      <td>46.0</td>\n",
       "      <td>K1083</td>\n",
       "      <td>92837.59</td>\n",
       "      <td>Baden-Württemberg</td>\n",
       "      <td>True</td>\n",
       "    </tr>\n",
       "  </tbody>\n",
       "</table>\n",
       "</div>"
      ],
      "text/plain": [
       "      Alter     Einkommen  Geschlecht  Zeit KundeNr      Preis  \\\n",
       "1299     68  1.000000e+09         0.0  52.0   K0701   87209.72   \n",
       "1857     69  0.000000e+00         1.0  65.0   K1021  125140.05   \n",
       "1973     59 -6.284037e+04         0.0  46.0   K1083   92837.59   \n",
       "\n",
       "            Niederlassung  Ausreißer  \n",
       "1299  Nordrhein-Westfalen       True  \n",
       "1857               Bayern       True  \n",
       "1973    Baden-Württemberg       True  "
      ]
     },
     "execution_count": 10,
     "metadata": {},
     "output_type": "execute_result"
    }
   ],
   "source": [
    "#Ausreißer bzgl. des Einkommens identifizieren\n",
    "filtered_df_bkg = df_bkg[df_bkg[\"Ausreißer\"] == True]\n",
    "filtered_df_bkg"
   ]
  },
  {
   "cell_type": "code",
   "execution_count": 11,
   "id": "6d6f39b8-ee90-4b53-8147-7ea25cd20401",
   "metadata": {},
   "outputs": [
    {
     "data": {
      "text/plain": [
       "59104.51301372704"
      ]
     },
     "execution_count": 11,
     "metadata": {},
     "output_type": "execute_result"
    }
   ],
   "source": [
    "#Median des Einkommens bestimmen \n",
    "einkommen_medianwert = df_bkg[\"Einkommen\"].median()\n",
    "einkommen_medianwert "
   ]
  },
  {
   "cell_type": "code",
   "execution_count": 12,
   "id": "6635f6d8-006a-4666-8dd2-2376d3937789",
   "metadata": {},
   "outputs": [
    {
     "data": {
      "text/plain": [
       "59104.51301372704"
      ]
     },
     "execution_count": 12,
     "metadata": {},
     "output_type": "execute_result"
    }
   ],
   "source": [
    "#Überprüfung des Median\n",
    "Q2 = df_bkg['Einkommen'].quantile(0.5)\n",
    "Q2"
   ]
  },
  {
   "cell_type": "code",
   "execution_count": 13,
   "id": "89ab0158-0011-4c0f-94cd-193e4856f996",
   "metadata": {},
   "outputs": [],
   "source": [
    "#Ersetzen der oberen und unteren Werte\n",
    "df_bkg.loc[df_bkg[\"Einkommen\"] < untere_grenze, \"Einkommen\"] = einkommen_medianwert\n",
    "df_bkg.loc[df_bkg[\"Einkommen\"] > obere_grenze, \"Einkommen\"] = einkommen_medianwert"
   ]
  },
  {
   "cell_type": "code",
   "execution_count": 14,
   "id": "5fbaf45c-4001-470a-98ff-088b9e41bb12",
   "metadata": {},
   "outputs": [
    {
     "data": {
      "text/plain": [
       "Alter                             68\n",
       "Einkommen               59104.513014\n",
       "Geschlecht                       0.0\n",
       "Zeit                            52.0\n",
       "KundeNr                        K0701\n",
       "Preis                       87209.72\n",
       "Niederlassung    Nordrhein-Westfalen\n",
       "Ausreißer                       True\n",
       "Name: 1299, dtype: object"
      ]
     },
     "execution_count": 14,
     "metadata": {},
     "output_type": "execute_result"
    }
   ],
   "source": [
    "df_bkg.iloc[1299]"
   ]
  },
  {
   "cell_type": "code",
   "execution_count": 15,
   "id": "2e1f4804-cdfa-42ca-95a3-e98d4c792fed",
   "metadata": {},
   "outputs": [
    {
     "data": {
      "text/plain": [
       "59104.51301372704"
      ]
     },
     "execution_count": 15,
     "metadata": {},
     "output_type": "execute_result"
    }
   ],
   "source": [
    "df_bkg.iloc[1857, 1]"
   ]
  },
  {
   "cell_type": "code",
   "execution_count": 16,
   "id": "d12ca2ad-99d4-485e-9b92-3721e8756c5c",
   "metadata": {},
   "outputs": [
    {
     "data": {
      "text/html": [
       "<div>\n",
       "<style scoped>\n",
       "    .dataframe tbody tr th:only-of-type {\n",
       "        vertical-align: middle;\n",
       "    }\n",
       "\n",
       "    .dataframe tbody tr th {\n",
       "        vertical-align: top;\n",
       "    }\n",
       "\n",
       "    .dataframe thead th {\n",
       "        text-align: right;\n",
       "    }\n",
       "</style>\n",
       "<table border=\"1\" class=\"dataframe\">\n",
       "  <thead>\n",
       "    <tr style=\"text-align: right;\">\n",
       "      <th></th>\n",
       "      <th>Alter</th>\n",
       "      <th>Einkommen</th>\n",
       "      <th>Geschlecht</th>\n",
       "      <th>Zeit</th>\n",
       "      <th>KundeNr</th>\n",
       "      <th>Preis</th>\n",
       "      <th>Niederlassung</th>\n",
       "      <th>Ausreißer</th>\n",
       "    </tr>\n",
       "  </thead>\n",
       "  <tbody>\n",
       "    <tr>\n",
       "      <th>1001</th>\n",
       "      <td>41</td>\n",
       "      <td>46542.0</td>\n",
       "      <td>NaN</td>\n",
       "      <td>40.0</td>\n",
       "      <td>K0024</td>\n",
       "      <td>63477.00</td>\n",
       "      <td>Baden-Württemberg</td>\n",
       "      <td>False</td>\n",
       "    </tr>\n",
       "    <tr>\n",
       "      <th>1203</th>\n",
       "      <td>53</td>\n",
       "      <td>49798.0</td>\n",
       "      <td>NaN</td>\n",
       "      <td>39.0</td>\n",
       "      <td>K0166</td>\n",
       "      <td>61329.51</td>\n",
       "      <td>Nordrhein-Westfalen</td>\n",
       "      <td>False</td>\n",
       "    </tr>\n",
       "    <tr>\n",
       "      <th>1479</th>\n",
       "      <td>64</td>\n",
       "      <td>83452.0</td>\n",
       "      <td>NaN</td>\n",
       "      <td>62.0</td>\n",
       "      <td>K0090</td>\n",
       "      <td>133180.70</td>\n",
       "      <td>Niedersachsen</td>\n",
       "      <td>False</td>\n",
       "    </tr>\n",
       "    <tr>\n",
       "      <th>1503</th>\n",
       "      <td>52</td>\n",
       "      <td>66602.0</td>\n",
       "      <td>NaN</td>\n",
       "      <td>45.0</td>\n",
       "      <td>K0325</td>\n",
       "      <td>98756.07</td>\n",
       "      <td>Bayern</td>\n",
       "      <td>False</td>\n",
       "    </tr>\n",
       "    <tr>\n",
       "      <th>1622</th>\n",
       "      <td>67</td>\n",
       "      <td>91461.0</td>\n",
       "      <td>NaN</td>\n",
       "      <td>66.0</td>\n",
       "      <td>K0790</td>\n",
       "      <td>131748.07</td>\n",
       "      <td>Berlin</td>\n",
       "      <td>False</td>\n",
       "    </tr>\n",
       "  </tbody>\n",
       "</table>\n",
       "</div>"
      ],
      "text/plain": [
       "      Alter  Einkommen  Geschlecht  Zeit KundeNr      Preis  \\\n",
       "1001     41    46542.0         NaN  40.0   K0024   63477.00   \n",
       "1203     53    49798.0         NaN  39.0   K0166   61329.51   \n",
       "1479     64    83452.0         NaN  62.0   K0090  133180.70   \n",
       "1503     52    66602.0         NaN  45.0   K0325   98756.07   \n",
       "1622     67    91461.0         NaN  66.0   K0790  131748.07   \n",
       "\n",
       "            Niederlassung  Ausreißer  \n",
       "1001    Baden-Württemberg      False  \n",
       "1203  Nordrhein-Westfalen      False  \n",
       "1479        Niedersachsen      False  \n",
       "1503               Bayern      False  \n",
       "1622               Berlin      False  "
      ]
     },
     "execution_count": 16,
     "metadata": {},
     "output_type": "execute_result"
    }
   ],
   "source": [
    "#Identifikation fehlender Werte bei Kategorie Geschlecht\n",
    "geschlecht_NAN = df_bkg[df_bkg[\"Geschlecht\"].isna()]\n",
    "geschlecht_NAN"
   ]
  },
  {
   "cell_type": "code",
   "execution_count": 17,
   "id": "228f873d-acbe-4b57-95a8-ef34aa124b01",
   "metadata": {},
   "outputs": [
    {
     "data": {
      "text/plain": [
       "1.0"
      ]
     },
     "execution_count": 17,
     "metadata": {},
     "output_type": "execute_result"
    }
   ],
   "source": [
    "#Identifikation des Modalwert bei der Kategorie Geschlecht\n",
    "geschlecht_modalwert = df_bkg[\"Geschlecht\"].mode()[0]\n",
    "geschlecht_modalwert "
   ]
  },
  {
   "cell_type": "code",
   "execution_count": 18,
   "id": "2602933e-ba7e-4a9f-ac7f-3aa2571f1998",
   "metadata": {},
   "outputs": [
    {
     "data": {
      "text/html": [
       "<div>\n",
       "<style scoped>\n",
       "    .dataframe tbody tr th:only-of-type {\n",
       "        vertical-align: middle;\n",
       "    }\n",
       "\n",
       "    .dataframe tbody tr th {\n",
       "        vertical-align: top;\n",
       "    }\n",
       "\n",
       "    .dataframe thead th {\n",
       "        text-align: right;\n",
       "    }\n",
       "</style>\n",
       "<table border=\"1\" class=\"dataframe\">\n",
       "  <thead>\n",
       "    <tr style=\"text-align: right;\">\n",
       "      <th></th>\n",
       "      <th>Alter</th>\n",
       "      <th>Einkommen</th>\n",
       "      <th>Geschlecht</th>\n",
       "      <th>Zeit</th>\n",
       "      <th>KundeNr</th>\n",
       "      <th>Preis</th>\n",
       "      <th>Niederlassung</th>\n",
       "      <th>Ausreißer</th>\n",
       "    </tr>\n",
       "  </thead>\n",
       "  <tbody>\n",
       "    <tr>\n",
       "      <th>0</th>\n",
       "      <td>30</td>\n",
       "      <td>39919.095335</td>\n",
       "      <td>0.0</td>\n",
       "      <td>29.0</td>\n",
       "      <td>K1814</td>\n",
       "      <td>NaN</td>\n",
       "      <td>Bayern</td>\n",
       "      <td>False</td>\n",
       "    </tr>\n",
       "    <tr>\n",
       "      <th>1</th>\n",
       "      <td>41</td>\n",
       "      <td>53430.673086</td>\n",
       "      <td>0.0</td>\n",
       "      <td>27.0</td>\n",
       "      <td>K1544</td>\n",
       "      <td>NaN</td>\n",
       "      <td>Baden-Württemberg</td>\n",
       "      <td>False</td>\n",
       "    </tr>\n",
       "    <tr>\n",
       "      <th>2</th>\n",
       "      <td>64</td>\n",
       "      <td>73163.216927</td>\n",
       "      <td>0.0</td>\n",
       "      <td>32.0</td>\n",
       "      <td>K1945</td>\n",
       "      <td>NaN</td>\n",
       "      <td>Baden-Württemberg</td>\n",
       "      <td>False</td>\n",
       "    </tr>\n",
       "    <tr>\n",
       "      <th>3</th>\n",
       "      <td>41</td>\n",
       "      <td>36761.482581</td>\n",
       "      <td>0.0</td>\n",
       "      <td>44.0</td>\n",
       "      <td>K1825</td>\n",
       "      <td>NaN</td>\n",
       "      <td>Baden-Württemberg</td>\n",
       "      <td>False</td>\n",
       "    </tr>\n",
       "    <tr>\n",
       "      <th>4</th>\n",
       "      <td>35</td>\n",
       "      <td>42684.331632</td>\n",
       "      <td>1.0</td>\n",
       "      <td>33.0</td>\n",
       "      <td>K1144</td>\n",
       "      <td>NaN</td>\n",
       "      <td>Nordrhein-Westfalen</td>\n",
       "      <td>False</td>\n",
       "    </tr>\n",
       "    <tr>\n",
       "      <th>...</th>\n",
       "      <td>...</td>\n",
       "      <td>...</td>\n",
       "      <td>...</td>\n",
       "      <td>...</td>\n",
       "      <td>...</td>\n",
       "      <td>...</td>\n",
       "      <td>...</td>\n",
       "      <td>...</td>\n",
       "    </tr>\n",
       "    <tr>\n",
       "      <th>1990</th>\n",
       "      <td>70</td>\n",
       "      <td>69581.000000</td>\n",
       "      <td>1.0</td>\n",
       "      <td>51.0</td>\n",
       "      <td>K0467</td>\n",
       "      <td>103751.58</td>\n",
       "      <td>Thüringen</td>\n",
       "      <td>False</td>\n",
       "    </tr>\n",
       "    <tr>\n",
       "      <th>1991</th>\n",
       "      <td>38</td>\n",
       "      <td>48301.000000</td>\n",
       "      <td>1.0</td>\n",
       "      <td>33.0</td>\n",
       "      <td>K0122</td>\n",
       "      <td>64230.98</td>\n",
       "      <td>Niedersachsen</td>\n",
       "      <td>False</td>\n",
       "    </tr>\n",
       "    <tr>\n",
       "      <th>1992</th>\n",
       "      <td>67</td>\n",
       "      <td>63547.000000</td>\n",
       "      <td>1.0</td>\n",
       "      <td>41.0</td>\n",
       "      <td>K1045</td>\n",
       "      <td>103123.57</td>\n",
       "      <td>Berlin</td>\n",
       "      <td>False</td>\n",
       "    </tr>\n",
       "    <tr>\n",
       "      <th>1993</th>\n",
       "      <td>37</td>\n",
       "      <td>32686.000000</td>\n",
       "      <td>1.0</td>\n",
       "      <td>36.0</td>\n",
       "      <td>K1096</td>\n",
       "      <td>49215.87</td>\n",
       "      <td>Baden-Württemberg</td>\n",
       "      <td>False</td>\n",
       "    </tr>\n",
       "    <tr>\n",
       "      <th>1994</th>\n",
       "      <td>55</td>\n",
       "      <td>71240.000000</td>\n",
       "      <td>1.0</td>\n",
       "      <td>49.0</td>\n",
       "      <td>K0861</td>\n",
       "      <td>106132.59</td>\n",
       "      <td>Bayern</td>\n",
       "      <td>False</td>\n",
       "    </tr>\n",
       "  </tbody>\n",
       "</table>\n",
       "<p>1995 rows × 8 columns</p>\n",
       "</div>"
      ],
      "text/plain": [
       "      Alter     Einkommen  Geschlecht  Zeit KundeNr      Preis  \\\n",
       "0        30  39919.095335         0.0  29.0   K1814        NaN   \n",
       "1        41  53430.673086         0.0  27.0   K1544        NaN   \n",
       "2        64  73163.216927         0.0  32.0   K1945        NaN   \n",
       "3        41  36761.482581         0.0  44.0   K1825        NaN   \n",
       "4        35  42684.331632         1.0  33.0   K1144        NaN   \n",
       "...     ...           ...         ...   ...     ...        ...   \n",
       "1990     70  69581.000000         1.0  51.0   K0467  103751.58   \n",
       "1991     38  48301.000000         1.0  33.0   K0122   64230.98   \n",
       "1992     67  63547.000000         1.0  41.0   K1045  103123.57   \n",
       "1993     37  32686.000000         1.0  36.0   K1096   49215.87   \n",
       "1994     55  71240.000000         1.0  49.0   K0861  106132.59   \n",
       "\n",
       "            Niederlassung  Ausreißer  \n",
       "0                  Bayern      False  \n",
       "1       Baden-Württemberg      False  \n",
       "2       Baden-Württemberg      False  \n",
       "3       Baden-Württemberg      False  \n",
       "4     Nordrhein-Westfalen      False  \n",
       "...                   ...        ...  \n",
       "1990            Thüringen      False  \n",
       "1991        Niedersachsen      False  \n",
       "1992               Berlin      False  \n",
       "1993    Baden-Württemberg      False  \n",
       "1994               Bayern      False  \n",
       "\n",
       "[1995 rows x 8 columns]"
      ]
     },
     "execution_count": 18,
     "metadata": {},
     "output_type": "execute_result"
    }
   ],
   "source": [
    "#Geschlechtswerte ohne Eintrag durch Modalwert ersetzen\n",
    "df_bkg[\"Geschlecht\"] = df_bkg[\"Geschlecht\"].fillna(geschlecht_modalwert)\n",
    "df_bkg"
   ]
  },
  {
   "cell_type": "code",
   "execution_count": 19,
   "id": "acfc56c9-ae60-4972-84f1-4da8fb7fe418",
   "metadata": {},
   "outputs": [
    {
     "data": {
      "text/html": [
       "<div>\n",
       "<style scoped>\n",
       "    .dataframe tbody tr th:only-of-type {\n",
       "        vertical-align: middle;\n",
       "    }\n",
       "\n",
       "    .dataframe tbody tr th {\n",
       "        vertical-align: top;\n",
       "    }\n",
       "\n",
       "    .dataframe thead th {\n",
       "        text-align: right;\n",
       "    }\n",
       "</style>\n",
       "<table border=\"1\" class=\"dataframe\">\n",
       "  <thead>\n",
       "    <tr style=\"text-align: right;\">\n",
       "      <th></th>\n",
       "      <th>Alter</th>\n",
       "      <th>Einkommen</th>\n",
       "      <th>Geschlecht</th>\n",
       "      <th>Zeit</th>\n",
       "      <th>KundeNr</th>\n",
       "      <th>Preis</th>\n",
       "      <th>Niederlassung</th>\n",
       "      <th>Ausreißer</th>\n",
       "    </tr>\n",
       "  </thead>\n",
       "  <tbody>\n",
       "    <tr>\n",
       "      <th>1033</th>\n",
       "      <td>100</td>\n",
       "      <td>88749.0</td>\n",
       "      <td>0.0</td>\n",
       "      <td>64.0</td>\n",
       "      <td>K0494</td>\n",
       "      <td>119134.23</td>\n",
       "      <td>Bayern</td>\n",
       "      <td>False</td>\n",
       "    </tr>\n",
       "    <tr>\n",
       "      <th>1602</th>\n",
       "      <td>120</td>\n",
       "      <td>61857.0</td>\n",
       "      <td>1.0</td>\n",
       "      <td>52.0</td>\n",
       "      <td>K0039</td>\n",
       "      <td>104214.07</td>\n",
       "      <td>Baden-Württemberg</td>\n",
       "      <td>False</td>\n",
       "    </tr>\n",
       "  </tbody>\n",
       "</table>\n",
       "</div>"
      ],
      "text/plain": [
       "      Alter  Einkommen  Geschlecht  Zeit KundeNr      Preis  \\\n",
       "1033    100    88749.0         0.0  64.0   K0494  119134.23   \n",
       "1602    120    61857.0         1.0  52.0   K0039  104214.07   \n",
       "\n",
       "          Niederlassung  Ausreißer  \n",
       "1033             Bayern      False  \n",
       "1602  Baden-Württemberg      False  "
      ]
     },
     "execution_count": 19,
     "metadata": {},
     "output_type": "execute_result"
    }
   ],
   "source": [
    "#Identifikation von wahrscheinlich falschen oder gar illegalen Altersangaebn\n",
    "unglaubwürdiges_alter = df_bkg[(df_bkg[\"Alter\"] > 90) | (df_bkg[\"Alter\"] < 18)]\n",
    "unglaubwürdiges_alter"
   ]
  },
  {
   "cell_type": "code",
   "execution_count": 20,
   "id": "c7f1399b-f0d0-45a8-a929-eebaf31c0029",
   "metadata": {},
   "outputs": [
    {
     "data": {
      "text/plain": [
       "51.0"
      ]
     },
     "execution_count": 20,
     "metadata": {},
     "output_type": "execute_result"
    }
   ],
   "source": [
    "#Identifikation des Modalwert bei der Kategorie Alter\n",
    "alter_medianwert = df_bkg[\"Alter\"].median()\n",
    "alter_medianwert "
   ]
  },
  {
   "cell_type": "code",
   "execution_count": 21,
   "id": "05a527d9-e204-4837-ad89-b958e688649f",
   "metadata": {},
   "outputs": [
    {
     "data": {
      "text/plain": [
       "Alter                           51\n",
       "Einkommen                  61857.0\n",
       "Geschlecht                     1.0\n",
       "Zeit                          52.0\n",
       "KundeNr                      K0039\n",
       "Preis                    104214.07\n",
       "Niederlassung    Baden-Württemberg\n",
       "Ausreißer                    False\n",
       "Name: 1602, dtype: object"
      ]
     },
     "execution_count": 21,
     "metadata": {},
     "output_type": "execute_result"
    }
   ],
   "source": [
    "#Bereinigung Alter und Überprüfung\n",
    "df_bkg.loc[df_bkg[\"Alter\"] > 90, \"Alter\"] = alter_medianwert\n",
    "df_bkg.iloc[1602]"
   ]
  },
  {
   "cell_type": "code",
   "execution_count": 22,
   "id": "2a778a78-341a-4e67-8810-1ed056692ccd",
   "metadata": {},
   "outputs": [
    {
     "data": {
      "text/html": [
       "<div>\n",
       "<style scoped>\n",
       "    .dataframe tbody tr th:only-of-type {\n",
       "        vertical-align: middle;\n",
       "    }\n",
       "\n",
       "    .dataframe tbody tr th {\n",
       "        vertical-align: top;\n",
       "    }\n",
       "\n",
       "    .dataframe thead th {\n",
       "        text-align: right;\n",
       "    }\n",
       "</style>\n",
       "<table border=\"1\" class=\"dataframe\">\n",
       "  <thead>\n",
       "    <tr style=\"text-align: right;\">\n",
       "      <th></th>\n",
       "      <th>Alter</th>\n",
       "      <th>Einkommen</th>\n",
       "      <th>Geschlecht</th>\n",
       "      <th>Zeit</th>\n",
       "      <th>KundeNr</th>\n",
       "      <th>Preis</th>\n",
       "      <th>Niederlassung</th>\n",
       "      <th>Ausreißer</th>\n",
       "    </tr>\n",
       "  </thead>\n",
       "  <tbody>\n",
       "    <tr>\n",
       "      <th>299</th>\n",
       "      <td>44</td>\n",
       "      <td>54025.601631</td>\n",
       "      <td>1.0</td>\n",
       "      <td>30.0</td>\n",
       "      <td>K1987</td>\n",
       "      <td>NaN</td>\n",
       "      <td>NRW</td>\n",
       "      <td>False</td>\n",
       "    </tr>\n",
       "    <tr>\n",
       "      <th>491</th>\n",
       "      <td>49</td>\n",
       "      <td>54754.525450</td>\n",
       "      <td>1.0</td>\n",
       "      <td>44.0</td>\n",
       "      <td>K1995</td>\n",
       "      <td>NaN</td>\n",
       "      <td>Berlin-Charlottenburg</td>\n",
       "      <td>False</td>\n",
       "    </tr>\n",
       "    <tr>\n",
       "      <th>587</th>\n",
       "      <td>63</td>\n",
       "      <td>84772.480847</td>\n",
       "      <td>1.0</td>\n",
       "      <td>30.0</td>\n",
       "      <td>K1973</td>\n",
       "      <td>NaN</td>\n",
       "      <td>Düsseldorf</td>\n",
       "      <td>False</td>\n",
       "    </tr>\n",
       "    <tr>\n",
       "      <th>840</th>\n",
       "      <td>32</td>\n",
       "      <td>40776.023145</td>\n",
       "      <td>1.0</td>\n",
       "      <td>13.0</td>\n",
       "      <td>K1609</td>\n",
       "      <td>NaN</td>\n",
       "      <td>BERLIN</td>\n",
       "      <td>False</td>\n",
       "    </tr>\n",
       "    <tr>\n",
       "      <th>911</th>\n",
       "      <td>43</td>\n",
       "      <td>52813.000000</td>\n",
       "      <td>0.0</td>\n",
       "      <td>44.0</td>\n",
       "      <td>K0762</td>\n",
       "      <td>67106.32</td>\n",
       "      <td>BERLIN</td>\n",
       "      <td>False</td>\n",
       "    </tr>\n",
       "    <tr>\n",
       "      <th>1249</th>\n",
       "      <td>61</td>\n",
       "      <td>56063.000000</td>\n",
       "      <td>1.0</td>\n",
       "      <td>44.0</td>\n",
       "      <td>K0679</td>\n",
       "      <td>98148.54</td>\n",
       "      <td>Berlin-Mitte</td>\n",
       "      <td>False</td>\n",
       "    </tr>\n",
       "    <tr>\n",
       "      <th>1472</th>\n",
       "      <td>55</td>\n",
       "      <td>66738.000000</td>\n",
       "      <td>1.0</td>\n",
       "      <td>52.0</td>\n",
       "      <td>K0413</td>\n",
       "      <td>120215.50</td>\n",
       "      <td>Düsseldorf</td>\n",
       "      <td>False</td>\n",
       "    </tr>\n",
       "    <tr>\n",
       "      <th>1510</th>\n",
       "      <td>62</td>\n",
       "      <td>75575.000000</td>\n",
       "      <td>1.0</td>\n",
       "      <td>50.0</td>\n",
       "      <td>K0023</td>\n",
       "      <td>124516.56</td>\n",
       "      <td>NRW</td>\n",
       "      <td>False</td>\n",
       "    </tr>\n",
       "    <tr>\n",
       "      <th>1783</th>\n",
       "      <td>58</td>\n",
       "      <td>65271.000000</td>\n",
       "      <td>1.0</td>\n",
       "      <td>44.0</td>\n",
       "      <td>K0002</td>\n",
       "      <td>106258.99</td>\n",
       "      <td>NRW</td>\n",
       "      <td>False</td>\n",
       "    </tr>\n",
       "    <tr>\n",
       "      <th>1812</th>\n",
       "      <td>30</td>\n",
       "      <td>28784.000000</td>\n",
       "      <td>1.0</td>\n",
       "      <td>34.0</td>\n",
       "      <td>K0677</td>\n",
       "      <td>42416.07</td>\n",
       "      <td>Berlin-Mitte</td>\n",
       "      <td>False</td>\n",
       "    </tr>\n",
       "    <tr>\n",
       "      <th>1958</th>\n",
       "      <td>40</td>\n",
       "      <td>53679.000000</td>\n",
       "      <td>1.0</td>\n",
       "      <td>41.0</td>\n",
       "      <td>K0601</td>\n",
       "      <td>77410.61</td>\n",
       "      <td>Berlin-Charlottenburg</td>\n",
       "      <td>False</td>\n",
       "    </tr>\n",
       "  </tbody>\n",
       "</table>\n",
       "</div>"
      ],
      "text/plain": [
       "      Alter     Einkommen  Geschlecht  Zeit KundeNr      Preis  \\\n",
       "299      44  54025.601631         1.0  30.0   K1987        NaN   \n",
       "491      49  54754.525450         1.0  44.0   K1995        NaN   \n",
       "587      63  84772.480847         1.0  30.0   K1973        NaN   \n",
       "840      32  40776.023145         1.0  13.0   K1609        NaN   \n",
       "911      43  52813.000000         0.0  44.0   K0762   67106.32   \n",
       "1249     61  56063.000000         1.0  44.0   K0679   98148.54   \n",
       "1472     55  66738.000000         1.0  52.0   K0413  120215.50   \n",
       "1510     62  75575.000000         1.0  50.0   K0023  124516.56   \n",
       "1783     58  65271.000000         1.0  44.0   K0002  106258.99   \n",
       "1812     30  28784.000000         1.0  34.0   K0677   42416.07   \n",
       "1958     40  53679.000000         1.0  41.0   K0601   77410.61   \n",
       "\n",
       "              Niederlassung  Ausreißer  \n",
       "299                     NRW      False  \n",
       "491   Berlin-Charlottenburg      False  \n",
       "587              Düsseldorf      False  \n",
       "840                  BERLIN      False  \n",
       "911                  BERLIN      False  \n",
       "1249           Berlin-Mitte      False  \n",
       "1472             Düsseldorf      False  \n",
       "1510                    NRW      False  \n",
       "1783                    NRW      False  \n",
       "1812           Berlin-Mitte      False  \n",
       "1958  Berlin-Charlottenburg      False  "
      ]
     },
     "execution_count": 22,
     "metadata": {},
     "output_type": "execute_result"
    }
   ],
   "source": [
    "#Definition der Bundesländer\n",
    "bundesländer = [\"Baden-Württemberg\", \"Bayern\", \"Berlin\", \"Brandenburg\", \"Bremen\", \"Hamburg\", \"Hessen\",\n",
    "                \"Mecklenburg-Vorpommern\", \"Niedersachsen\", \"Nordrhein-Westfalen\", \"Rheinland-Pfalz\", \"Saarland\",\n",
    "                \"Sachsen\", \"Sachsen-Anhalt\", \"Schleswig-Holstein\", \"Thüringen\"]\n",
    "#Nur jene Einträge für Niederlassungen anzeigen lassen, welche *nicht* in vorheriger Liste vorhanden sind\n",
    "bundesländer_falsche_namen = df_bkg[~df_bkg[\"Niederlassung\"].isin(bundesländer)]\n",
    "bundesländer_falsche_namen"
   ]
  },
  {
   "cell_type": "code",
   "execution_count": 23,
   "id": "801b19a4-97e1-4b56-8c9a-92a08ae15939",
   "metadata": {},
   "outputs": [],
   "source": [
    "#Jetzt ersetzen wir die ungewollten Bezeichnungen der Niederlassungen mit den gewollten Bezeichnungen\n",
    "#1. den \"falschen\" Schlüsseln die gewollten Werte zuordnen\n",
    "ersetzen_dict = {\n",
    "    \"Berlin-Charlottenburg\": \"Berlin\",\n",
    "    \"BERLIN\": \"Berlin\",\n",
    "    \"Berlin-Mitte\": \"Berlin\",\n",
    "    \"Düsseldorf\": \"Nordrhein-Westfalen\",\n",
    "    \"NRW\": \"Nordrhein-Westfalen\",\n",
    "}\n",
    "#2. Die geändert Werte jetzt in das Datafram übertragen\n",
    "df_bkg[\"Niederlassung\"].replace(ersetzen_dict, inplace=True)"
   ]
  },
  {
   "cell_type": "code",
   "execution_count": 24,
   "id": "2077fa3c-4621-4ae4-b0b5-3d56af1fbeed",
   "metadata": {},
   "outputs": [
    {
     "data": {
      "text/plain": [
       "'Nordrhein-Westfalen'"
      ]
     },
     "execution_count": 24,
     "metadata": {},
     "output_type": "execute_result"
    }
   ],
   "source": [
    "#Überprüfung ob korrekt ersetzt wurde (Stichprobe)\n",
    "df_bkg.iloc[1472, 6]"
   ]
  },
  {
   "cell_type": "code",
   "execution_count": 25,
   "id": "7e46f61a-5d0c-45b3-95bc-c2c9a3e060e7",
   "metadata": {},
   "outputs": [],
   "source": [
    "df_bkg.to_csv(\"df_final.csv\", index=False)"
   ]
  },
  {
   "cell_type": "code",
   "execution_count": 26,
   "id": "8640bd8e-90a1-418a-a520-72b516f5b65a",
   "metadata": {},
   "outputs": [
    {
     "data": {
      "text/plain": [
       "1104"
      ]
     },
     "execution_count": 26,
     "metadata": {},
     "output_type": "execute_result"
    }
   ],
   "source": [
    "#F1 Wie viele Autos wurden verkauft?\n",
    "df_preis_vorhanden = df_bkg[df_bkg[\"Preis\"].notna()]\n",
    "df_autos_verkauft = df_preis_vorhanden[\"KundeNr\"].nunique()\n",
    "df_autos_verkauft"
   ]
  },
  {
   "cell_type": "code",
   "execution_count": 27,
   "id": "0b81ed4c-c668-4162-b460-97ccd62a4727",
   "metadata": {},
   "outputs": [
    {
     "data": {
      "text/plain": [
       "98228619.38000001"
      ]
     },
     "execution_count": 27,
     "metadata": {},
     "output_type": "execute_result"
    }
   ],
   "source": [
    "#F3 Wie hoch ist der Gesamtumsatz?\n",
    "df_umsatz = df_bkg[\"Preis\"].dropna().sum()\n",
    "df_umsatz"
   ]
  },
  {
   "cell_type": "code",
   "execution_count": 28,
   "id": "12bf5c65-f6b4-4ee8-85b5-d2da93c9e672",
   "metadata": {},
   "outputs": [
    {
     "data": {
      "text/plain": [
       "88975.19871376813"
      ]
     },
     "execution_count": 28,
     "metadata": {},
     "output_type": "execute_result"
    }
   ],
   "source": [
    "#F2.1 Was ist der Durchschnittspreis der verkauften Autos? (RECHECK)\n",
    "df_kunden = df_bkg[\"Preis\"].dropna() #Ermittlung der Spalten mit verkauf\n",
    "df_durchschnittspreis = np.mean(df_kunden)\n",
    "df_durchschnittspreis"
   ]
  },
  {
   "cell_type": "code",
   "execution_count": 29,
   "id": "02cf307e-b905-4db6-9e3e-648b72bde19b",
   "metadata": {},
   "outputs": [
    {
     "data": {
      "text/plain": [
       "165482.31"
      ]
     },
     "execution_count": 29,
     "metadata": {},
     "output_type": "execute_result"
    }
   ],
   "source": [
    "#F2.2 Was ist der Höchstpreis der verkauften Autos?\n",
    "df_höchstpreis = np.max(df_kunden)\n",
    "df_höchstpreis"
   ]
  },
  {
   "cell_type": "code",
   "execution_count": 30,
   "id": "fc45408f-8201-41c4-9c91-5581658f566e",
   "metadata": {},
   "outputs": [
    {
     "data": {
      "text/plain": [
       "21471.65"
      ]
     },
     "execution_count": 30,
     "metadata": {},
     "output_type": "execute_result"
    }
   ],
   "source": [
    "#F2.3 Was ist der Mindestpreis der verkauften Autos?\n",
    "df_mindestpreis = np.min(df_kunden)\n",
    "df_mindestpreis"
   ]
  },
  {
   "cell_type": "code",
   "execution_count": 31,
   "id": "95972912-a201-4486-8e38-0f462e70f1d9",
   "metadata": {
    "scrolled": true
   },
   "outputs": [
    {
     "data": {
      "text/plain": [
       "Niederlassung\n",
       "Baden-Württemberg      205\n",
       "Bayern                 188\n",
       "Berlin                 126\n",
       "Brandenburg             37\n",
       "Hamburg                 43\n",
       "Hessen                  96\n",
       "Niedersachsen           96\n",
       "Nordrhein-Westfalen    175\n",
       "Sachsen                 89\n",
       "Thüringen               49\n",
       "Name: Preis, dtype: int64"
      ]
     },
     "execution_count": 31,
     "metadata": {},
     "output_type": "execute_result"
    }
   ],
   "source": [
    "#F4 Wieviele Autos wurden pro Bundesland verkauft?\n",
    "#Ermittelung der Spalten wo Preis vorhanden ist\n",
    "df_mit_preis = df_bkg[df_bkg[\"Preis\"].notna()]\n",
    "#Ermittlung Anzahl pro Bundesland\n",
    "anzahl_verkauf_pro_land = df_mit_preis.groupby('Niederlassung')['Preis'].count()\n",
    "anzahl_verkauf_pro_land "
   ]
  },
  {
   "cell_type": "code",
   "execution_count": 32,
   "id": "a7d08859-4d71-4e02-8bdf-e575754145f4",
   "metadata": {},
   "outputs": [
    {
     "data": {
      "text/plain": [
       "Niederlassung\n",
       "Baden-Württemberg      90969.560000\n",
       "Bayern                 89344.313245\n",
       "Berlin                 89584.984048\n",
       "Brandenburg            86673.640811\n",
       "Hamburg                85549.499070\n",
       "Hessen                 85864.929479\n",
       "Niedersachsen          87963.312500\n",
       "Nordrhein-Westfalen    88633.265200\n",
       "Sachsen                89455.080674\n",
       "Thüringen              90816.994082\n",
       "Name: Preis, dtype: float64"
      ]
     },
     "execution_count": 32,
     "metadata": {},
     "output_type": "execute_result"
    }
   ],
   "source": [
    "#F5 Wie hoch war der durchschnittliche Umsatz pro Bundesland?\n",
    "#Ermittelung der Spalten wo Preis vorhanden ist\n",
    "df_mit_preis = df_bkg[df_bkg[\"Preis\"].notna()]\n",
    "#Ermittlung Durchschnittsumsatz pro Bundesland\n",
    "durchschnitt_umsatz_pro_land = df_mit_preis.groupby('Niederlassung')['Preis'].mean()\n",
    "durchschnitt_umsatz_pro_land"
   ]
  },
  {
   "cell_type": "code",
   "execution_count": 33,
   "id": "469bbb58-0486-4842-960f-e657ca5b72bb",
   "metadata": {},
   "outputs": [
    {
     "data": {
      "text/plain": [
       "'Niedersachsen'"
      ]
     },
     "execution_count": 33,
     "metadata": {},
     "output_type": "execute_result"
    }
   ],
   "source": [
    "#F6 In welchem Bundesland wurde das teuerste Auto verkauft?\n",
    "max_preis_index = df_mit_preis[\"Preis\"].idxmax()\n",
    "bundesland_teuerstes_auto = df_mit_preis.loc[max_preis_index, \"Niederlassung\"]\n",
    "bundesland_teuerstes_auto"
   ]
  },
  {
   "cell_type": "code",
   "execution_count": 34,
   "id": "352e8862-b1e1-4a48-8c3e-fef8f5dcb393",
   "metadata": {},
   "outputs": [
    {
     "data": {
      "text/plain": [
       "50.375"
      ]
     },
     "execution_count": 34,
     "metadata": {},
     "output_type": "execute_result"
    }
   ],
   "source": [
    "#F8.1 Wie hoch ist das Durchschnittsalter unserer Kunden?\n",
    "durchschnittsalter_Kunden = df_mit_preis[\"Alter\"].mean()\n",
    "durchschnittsalter_Kunden\n"
   ]
  },
  {
   "cell_type": "code",
   "execution_count": 35,
   "id": "bf5cbe17-5b95-43d1-8004-2ab217ba26a6",
   "metadata": {},
   "outputs": [
    {
     "data": {
      "text/plain": [
       "49.88103254769921"
      ]
     },
     "execution_count": 35,
     "metadata": {},
     "output_type": "execute_result"
    }
   ],
   "source": [
    "#F8.2 Wie hoch ist dasDurchschnittsalter unserer Besucher?\n",
    "#Filtern der Besucher\n",
    "df_ohne_preis = df_bkg[df_bkg[\"Preis\"].isna()]\n",
    "#Durchschnittsalter\n",
    "durchschnittsalter_Besucher = df_ohne_preis[\"Alter\"].mean()\n",
    "durchschnittsalter_Besucher"
   ]
  },
  {
   "cell_type": "code",
   "execution_count": 36,
   "id": "4210b08b-5874-4ea8-b3d2-4f85233db6a7",
   "metadata": {},
   "outputs": [
    {
     "data": {
      "text/plain": [
       "58895.24686507354"
      ]
     },
     "execution_count": 36,
     "metadata": {},
     "output_type": "execute_result"
    }
   ],
   "source": [
    "#F9.1 Wie hoch ist das Durchschnittseinkommen unserer Kunden? \n",
    "df_preis_vorhanden[\"Einkommen\"].mean()"
   ]
  },
  {
   "cell_type": "code",
   "execution_count": 37,
   "id": "0964f2f8-5a89-4635-ba9e-0adc039d3be8",
   "metadata": {},
   "outputs": [
    {
     "data": {
      "text/plain": [
       "59367.93618779704"
      ]
     },
     "execution_count": 37,
     "metadata": {},
     "output_type": "execute_result"
    }
   ],
   "source": [
    "#F9.2 Wie hoch ist das Durchschnittseinkommen unserer Besucher?\n",
    "#Ermittlungen der Zeilen mit NAN in der Preis-Spalte\n",
    "df_preis_nicht_vorhanden = df_bkg[df_bkg[\"Preis\"].isna()]\n",
    "#Durchschnittseinkommen der Besucher berechenen\n",
    "df_preis_nicht_vorhanden[\"Einkommen\"].mean()"
   ]
  },
  {
   "cell_type": "code",
   "execution_count": 38,
   "id": "fa4e04ea-fe86-4bfe-8db1-9db4f5b13398",
   "metadata": {},
   "outputs": [
    {
     "data": {
      "image/png": "[encoded data removed]",
      "text/plain": [
       "<Figure size 640x480 with 1 Axes>"
      ]
     },
     "metadata": {},
     "output_type": "display_data"
    }
   ],
   "source": [
    "#F12 Testen Sie grafisch mit Hilfe eines qq-Plots, ob die Variable Zeit approximativ normalver- teilt ist.\n",
    "\n",
    "#import matplotloib und scipy\n",
    "import matplotlib.pyplot as plt\n",
    "import scipy.stats as stats\n",
    "\n",
    "#variable Zeit\n",
    "zeit = df_bkg[\"Zeit\"]\n",
    "\n",
    "#QQ-Plot erstellen\n",
    "stats.probplot(zeit, dist=\"norm\", plot=plt)\n",
    "plt.title(\"QQ-Plot für die variable Zeit\")\n",
    "plt.xlabel(\"Theoretische Quantile (Normalverteilung)\")\n",
    "plt.ylabel(\"Datenquantile\")\n",
    "plt.show()\n",
    "\n",
    "#Interpretation\n",
    "#Die Variable Zeit kann als approximativ normalverteilt betrachtet werden"
   ]
  },
  {
   "cell_type": "code",
   "execution_count": 39,
   "id": "229e98b6-180a-46af-8831-44ac863338d2",
   "metadata": {},
   "outputs": [
    {
     "data": {
      "text/html": [
       "<div>\n",
       "<style scoped>\n",
       "    .dataframe tbody tr th:only-of-type {\n",
       "        vertical-align: middle;\n",
       "    }\n",
       "\n",
       "    .dataframe tbody tr th {\n",
       "        vertical-align: top;\n",
       "    }\n",
       "\n",
       "    .dataframe thead th {\n",
       "        text-align: right;\n",
       "    }\n",
       "</style>\n",
       "<table border=\"1\" class=\"dataframe\">\n",
       "  <thead>\n",
       "    <tr style=\"text-align: right;\">\n",
       "      <th></th>\n",
       "      <th>Alter</th>\n",
       "      <th>Einkommen</th>\n",
       "      <th>Geschlecht</th>\n",
       "      <th>Zeit</th>\n",
       "    </tr>\n",
       "  </thead>\n",
       "  <tbody>\n",
       "    <tr>\n",
       "      <th>891</th>\n",
       "      <td>64</td>\n",
       "      <td>66894.0</td>\n",
       "      <td>1.0</td>\n",
       "      <td>43.0</td>\n",
       "    </tr>\n",
       "    <tr>\n",
       "      <th>892</th>\n",
       "      <td>54</td>\n",
       "      <td>77644.0</td>\n",
       "      <td>1.0</td>\n",
       "      <td>40.0</td>\n",
       "    </tr>\n",
       "    <tr>\n",
       "      <th>893</th>\n",
       "      <td>55</td>\n",
       "      <td>44341.0</td>\n",
       "      <td>0.0</td>\n",
       "      <td>37.0</td>\n",
       "    </tr>\n",
       "    <tr>\n",
       "      <th>894</th>\n",
       "      <td>49</td>\n",
       "      <td>67271.0</td>\n",
       "      <td>0.0</td>\n",
       "      <td>42.0</td>\n",
       "    </tr>\n",
       "    <tr>\n",
       "      <th>895</th>\n",
       "      <td>46</td>\n",
       "      <td>49832.0</td>\n",
       "      <td>0.0</td>\n",
       "      <td>41.0</td>\n",
       "    </tr>\n",
       "  </tbody>\n",
       "</table>\n",
       "</div>"
      ],
      "text/plain": [
       "     Alter  Einkommen  Geschlecht  Zeit\n",
       "891     64    66894.0         1.0  43.0\n",
       "892     54    77644.0         1.0  40.0\n",
       "893     55    44341.0         0.0  37.0\n",
       "894     49    67271.0         0.0  42.0\n",
       "895     46    49832.0         0.0  41.0"
      ]
     },
     "execution_count": 39,
     "metadata": {},
     "output_type": "execute_result"
    }
   ],
   "source": [
    "#F14 Welche sozioökonomischen Merkmale beeinflussen den Kaufpreis? \n",
    "#Wählen Sie die geeigneten unabhängigen Variablen aus und schätzen Sie eine \n",
    "#Regression unter Verwendung der geeigneten Methode\n",
    "\n",
    "#Neuen Dataframe mit relevanten unabhängigen Variablen erstellen\n",
    "nicht_rel_var = [\"KundeNr\", \"Niederlassung\", \"Ausreißer\", \"Preis\"]\n",
    "df_rel_var = df_preis_vorhanden.drop(columns = nicht_rel_var)\n",
    "df_rel_var.head()\n"
   ]
  },
  {
   "cell_type": "code",
   "execution_count": 41,
   "id": "bb164f99-0ee0-4388-a501-c1cb79859d52",
   "metadata": {},
   "outputs": [
    {
     "ename": "NameError",
     "evalue": "name 'sm' is not defined",
     "output_type": "error",
     "traceback": [
      "\u001b[1;31m---------------------------------------------------------------------------\u001b[0m",
      "\u001b[1;31mNameError\u001b[0m                                 Traceback (most recent call last)",
      "Cell \u001b[1;32mIn[41], line 3\u001b[0m\n\u001b[0;32m      1\u001b[0m y \u001b[38;5;241m=\u001b[39m df_preis_vorhanden[\u001b[38;5;124m\"\u001b[39m\u001b[38;5;124mPreis\u001b[39m\u001b[38;5;124m\"\u001b[39m]\n\u001b[0;32m      2\u001b[0m X \u001b[38;5;241m=\u001b[39m df_rel_var\n\u001b[1;32m----> 3\u001b[0m X \u001b[38;5;241m=\u001b[39m sm\u001b[38;5;241m.\u001b[39madd_constant(X)\n",
      "\u001b[1;31mNameError\u001b[0m: name 'sm' is not defined"
     ]
    }
   ],
   "source": [
    "y = df_preis_vorhanden[\"Preis\"]\n",
    "X = df_rel_var\n",
    "X = sm.add_constant(X)"
   ]
  },
  {
   "cell_type": "code",
   "execution_count": null,
   "id": "04d08e3b-04be-43d8-ad89-2f82e50ec7a0",
   "metadata": {},
   "outputs": [],
   "source": [
    "model = sm.OLS(y, X).fit()\n",
    "model.summary()"
   ]
  },
  {
   "cell_type": "code",
   "execution_count": null,
   "id": "98138b2c-4666-4ec3-959d-6d77a037572f",
   "metadata": {},
   "outputs": [],
   "source": [
    "\n",
    "#Schlussfolgerungen:\n",
    "#Da der P>|t|-Wert bei der Zeit den Wert 0.05 überschreitet, ist die Zeit ein nicht signifikanter Koeffizient. \n",
    "#Daher kann nicht gesagt werden, ob die Zeit einen entscheidenden Einfluss auf den Kaufpreis hat. \n",
    "#Dahingegen sind Einkommen, Alter und Geschlecht signifikant."
   ]
  },
  {
   "cell_type": "code",
   "execution_count": null,
   "id": "0863b1f7-8b7d-4df7-bf6f-53b3bbb4d995",
   "metadata": {},
   "outputs": [],
   "source": [
    "X"
   ]
  },
  {
   "cell_type": "code",
   "execution_count": null,
   "id": "bbf4ae88-4f19-420e-b4a0-f86c4ae6077a",
   "metadata": {},
   "outputs": [],
   "source": [
    "#F15 Prognose - männlicher Kunden im Alter von 32 Jahren mit einem Einkommen von 30.000 Euro\n",
    "y1 = pd.DataFrame({\"Alter\" : [32], \"Einkommen\" : [30000], \"Geschlecht\" : [1], \"Zeit\" : [df_preis_vorhanden[\"Zeit\"].mean()]})"
   ]
  },
  {
   "cell_type": "code",
   "execution_count": null,
   "id": "87a451ec-73c0-41a3-995e-70f387e8f04b",
   "metadata": {},
   "outputs": [],
   "source": [
    "#y1 = sm.add_constant(y1) funktioniert nicht, weshalb die predict Funktion nicht funktioniert. Ich füge die Konstante manuell hinzu\n",
    "y1.insert(0, \"const\", 1)\n",
    "y1"
   ]
  },
  {
   "cell_type": "code",
   "execution_count": null,
   "id": "7f062f78-1365-4060-9ed7-c5aadee38784",
   "metadata": {},
   "outputs": [],
   "source": [
    "Prognose1 = model.predict(y1)\n",
    "Prognose1"
   ]
  },
  {
   "cell_type": "code",
   "execution_count": null,
   "id": "549c640a-dd2a-470e-9b70-2f2421d84f38",
   "metadata": {},
   "outputs": [],
   "source": [
    "#F15 Prognose - männlicher Kunden im Alter von 51 Jahren mit einem Einkommen von 54.000 Euro\n",
    "y2 = pd.DataFrame({\"Alter\" : [51], \"Einkommen\" : [54000], \"Geschlecht\" : [1], \"Zeit\" : [df_preis_vorhanden[\"Zeit\"].mean()]})\n",
    "y2.insert(0, \"const\", 1)\n",
    "Prognose2 = model.predict(y2)\n",
    "Prognose2"
   ]
  },
  {
   "cell_type": "code",
   "execution_count": null,
   "id": "865490ac-dab7-4ba5-bcaa-a335db5ae1de",
   "metadata": {},
   "outputs": [],
   "source": [
    "#F16 In Bezug auf die vorherige Frage: Welche Variable beeinflusst den Preis des Autos am meisten? \n",
    "#Mit anderen Worten: Die von Ihnen geschätzten Regressionskoeffizienten müs- sen direkt vergleichbar sein. \n",
    "#Wie sollen die Daten transformiert werden?"
   ]
  },
  {
   "cell_type": "code",
   "execution_count": null,
   "id": "28b72fd3-f00a-4b28-8e55-d6d931d3c3b8",
   "metadata": {},
   "outputs": [],
   "source": [
    "import statsmodels.api as sm\n",
    "from sklearn.preprocessing import StandardScaler"
   ]
  },
  {
   "cell_type": "code",
   "execution_count": null,
   "id": "48e61954-1b25-44e6-b702-5ea61fcc8d0c",
   "metadata": {},
   "outputs": [],
   "source": [
    "# Überprüfen und Entfernen von Zeilen mit fehlenden Werten in den relevanten Spalten\n",
    "df_bkg_clean = df_bkg.dropna(subset=[\"Einkommen\", \"Alter\", \"Preis\", \"Geschlecht\", \"Zeit\"])\n",
    "\n",
    "# Auswahl der unabhängigen Variablen und der abhängigen Variable\n",
    "X = df_bkg_clean[[\"Einkommen\", \"Alter\", \"Geschlecht\", \"Zeit\"]]\n",
    "y = df_bkg_clean[\"Preis\"]"
   ]
  },
  {
   "cell_type": "code",
   "execution_count": null,
   "id": "fb191700-782c-41cb-bc66-7a22b40dc01c",
   "metadata": {},
   "outputs": [],
   "source": [
    "# Standardisieren der unabhängigen Variablen\n",
    "scaler = StandardScaler()\n",
    "X_scaled = scaler.fit_transform(X)\n",
    "\n",
    "# Konvertiere die standardisierten Variablen zurück in ein DataFrame und füge eine Konstante hinzu\n",
    "X_scaled = pd.DataFrame(X_scaled, columns=X.columns)\n",
    "X_scaled = sm.add_constant(X_scaled)\n",
    "\n",
    "# Reset Index für die Standardisierten Variablen und Zielvariable\n",
    "X_scaled = X_scaled.reset_index(drop=True)\n",
    "y = y.reset_index(drop=True)"
   ]
  },
  {
   "cell_type": "code",
   "execution_count": null,
   "id": "f0326b07-0b66-4e7b-b071-a3d2d399dc2f",
   "metadata": {},
   "outputs": [],
   "source": [
    "# Regression schätzen (lineare Regression)\n",
    "model_scaled = sm.OLS(y, X_scaled).fit()\n",
    "\n",
    "# Zusammenfassung des Modells anzeigen\n",
    "model_scaled.summary()"
   ]
  },
  {
   "cell_type": "code",
   "execution_count": null,
   "id": "2224f792-ff3b-4926-a5b5-63b024825706",
   "metadata": {},
   "outputs": [],
   "source": [
    "# Erklärung des Ergebnisses:\n",
    "# Da die variablen standardisiert sind, sind die Koeffizienten direkt vergleichbar. Der größte Koeffizient in der\n",
    "# absoluten Höhe zeigt die Variable an, die den größten Einfluss auf den Preis des Autos hat.\n",
    "# den größten Einfluss hat das Einkommen, da hier der Koeffizient 16.920 beträgt, \n",
    "# da P = 0 ist der Effekt statistisch signifikant"
   ]
  },
  {
   "cell_type": "code",
   "execution_count": null,
   "id": "aee68017-d6c5-42a4-843c-58e3cdf3a9a5",
   "metadata": {},
   "outputs": [],
   "source": [
    "# Visualisierung\n",
    "import matplotlib.pyplot as plt\n",
    "import seaborn as sns\n",
    "\n",
    "# Visualisierung der Beziehung zwischen den unabhängigen Variablen und der abhängigen Variable\n",
    "fig, axes = plt.subplots(2, 2, figsize=(12, 10))\n",
    "fig.suptitle('Scatterplots und Regressionslinien')\n",
    "\n",
    "sns.regplot(ax=axes[0, 0], x=df_bkg_clean[\"Einkommen\"], y=y, scatter_kws={\"s\": 10}, line_kws={\"color\": \"red\"})\n",
    "axes[0, 0].set_title(\"Einkommen vs. Preis\")\n",
    "\n",
    "sns.regplot(ax=axes[0, 1], x=df_bkg_clean[\"Alter\"], y=y, scatter_kws={\"s\": 10}, line_kws={\"color\": \"red\"})\n",
    "axes[0, 1].set_title(\"Alter vs. Preis\")\n",
    "\n",
    "sns.regplot(ax=axes[1, 0], x=df_bkg_clean[\"Geschlecht\"], y=y, scatter_kws={\"s\": 10}, line_kws={\"color\": \"red\"})\n",
    "axes[1, 0].set_title(\"Geschlecht vs. Preis\")\n",
    "\n",
    "sns.regplot(ax=axes[1, 1], x=df_bkg_clean[\"Zeit\"], y=y, scatter_kws={\"s\": 10}, line_kws={\"color\": \"red\"})\n",
    "axes[1, 1].set_title(\"Zeit vs. Preis\")\n",
    "\n",
    "plt.tight_layout(rect=[0, 0, 1, 0.96])\n",
    "plt.show()\n",
    "\n",
    "# Residuen plotten\n",
    "plt.figure(figsize=(10, 6))\n",
    "sns.histplot(model_scaled.resid, kde=True)\n",
    "plt.title(\"Verteilung der Residuen\")\n",
    "plt.xlabel(\"Residuen\")\n",
    "plt.ylabel(\"Häufigkeit\")\n",
    "plt.show()\n",
    "\n",
    "# QQ-Plot der Residuen\n",
    "sm.qqplot(model_scaled.resid, line ='45')\n",
    "plt.title(\"QQ-Plot der Residuen\")\n",
    "plt.show()"
   ]
  },
  {
   "cell_type": "code",
   "execution_count": null,
   "id": "c110e451-1a0f-4fec-8468-ef4e540ea063",
   "metadata": {},
   "outputs": [],
   "source": [
    "#F17 Schätzen Sie eine Regression, die die Wahrscheinlichkeit des Kaufs eines Autos ermittelt. \n",
    "# Verwenden Sie die entsprechende Methode."
   ]
  },
  {
   "cell_type": "code",
   "execution_count": null,
   "id": "495e88da-aca3-4c40-aaa0-c5452f73d810",
   "metadata": {},
   "outputs": [],
   "source": [
    "#Zielvariable \"Preis\" binärisieren: 1 für Kauf, 0 für keinen Kauf (NaN)\n",
    "df_bkg['Preis'] = df_bkg['Preis'].notna().astype(int)\n",
    "\n",
    "\n",
    "# Überprüfen und Entfernen von Zeilen mit fehlenden Werten in den relevanten Spalten\n",
    "df_bkg_clean = df_bkg.dropna(subset=[\"Einkommen\", \"Alter\", \"Geschlecht\", \"Zeit\", \"Preis\"])  # 'Preis' ist die binäre Zielvariable"
   ]
  },
  {
   "cell_type": "code",
   "execution_count": null,
   "id": "8e5e110a-5449-4747-b869-94485f0f8dc7",
   "metadata": {},
   "outputs": [],
   "source": [
    "# Auswahl der unabhängigen Variablen und der abhängigen Variable\n",
    "X = df_bkg_clean[[\"Einkommen\", \"Alter\", \"Geschlecht\", \"Zeit\"]]\n",
    "y = df_bkg_clean[\"Preis\"].astype(int)  # 'Preis' sollte eine binäre Variable sein (z.B. 1 für Kauf und 0 für Nicht-Kauf)\n",
    "\n",
    "# Indizes zurücksetzen\n",
    "X = X.reset_index(drop=True)\n",
    "y = y.reset_index(drop=True)"
   ]
  },
  {
   "cell_type": "code",
   "execution_count": null,
   "id": "1c9f129c-54b1-4cee-bcee-a239c833b436",
   "metadata": {},
   "outputs": [],
   "source": [
    "# Standardisieren der unabhängigen Variablen\n",
    "\n",
    "from sklearn.preprocessing import StandardScaler\n",
    "\n",
    "# Standardisieren der unabhängigen Variablen\n",
    "scaler = StandardScaler()\n",
    "X_scaled = scaler.fit_transform(X)\n",
    "\n",
    "# Konvertiere die standardisierten Variablen zurück in ein DataFrame und füge eine Konstante hinzu\n",
    "X_scaled = pd.DataFrame(X_scaled, columns=X.columns)\n",
    "X_scaled = sm.add_constant(X_scaled)"
   ]
  },
  {
   "cell_type": "code",
   "execution_count": null,
   "id": "6166fd0f-d329-41af-9d4a-f5888d762da9",
   "metadata": {},
   "outputs": [],
   "source": [
    "#Logistische Regression durchführen\n",
    "\n",
    "import statsmodels.api as sm\n",
    "\n",
    "# Logistische Regression schätzen\n",
    "logit_model = sm.Logit(y, X_scaled).fit()\n",
    "\n",
    "# Zusammenfassung des Modells anzeigen\n",
    "logit_model.summary()"
   ]
  },
  {
   "cell_type": "code",
   "execution_count": null,
   "id": "8764206d-9c4f-47e4-8d11-673924aadd36",
   "metadata": {},
   "outputs": [],
   "source": [
    "# Die logistische Regression zeigt, dass die Wahrscheinlichkeit eines Autokaufs am stärksten durch die Zeit beeinflusst wird, \n",
    "# die der Kunde mit dem Testen des Autos verbringt. Einkommen hat einen negativen Einfluss, während Alter und \n",
    "# Geschlecht (männlich) positive Einflüsse haben. Diese Erkenntnisse können genutzt werden, um gezielte Marketingstrategien \n",
    "# und Verkaufsansätze zu entwickeln, die die Kaufwahrscheinlichkeit erhöhen."
   ]
  },
  {
   "cell_type": "code",
   "execution_count": null,
   "id": "3cd2b563-c8f0-43be-be3f-f9784a9559a3",
   "metadata": {},
   "outputs": [],
   "source": [
    "#F18.1 Wie hoch ist die Wahrscheinlichkeit, dass ein 32-jähriger männlicher Kunde mit einem Einkommen von 30.000 Euro, der das Auto 30 Minuten lang getestet hat, \n",
    "# eines unserer Modelle kauft? \n",
    "#F18.2 Wie hoch ist die Wahrscheinlichkeit, dass ein 51-jähriger männlicher Kunde mit einem Einkommen von 54.000 Euro, der das Auto 45 Minuten lang getestet hat, \n",
    "# eines unserer Modelle kauft?"
   ]
  },
  {
   "cell_type": "code",
   "execution_count": null,
   "id": "57e0ab88-70cb-4b7b-9389-f7ab1541b8f4",
   "metadata": {},
   "outputs": [],
   "source": [
    "# Koeffizienten der logistischen Regression aus F17\n",
    "intercept = 0.2377\n",
    "coef_einkommen = -0.6888\n",
    "coef_alter = 0.2148\n",
    "coef_geschlecht = 0.1202\n",
    "coef_zeit = 1.1874"
   ]
  },
  {
   "cell_type": "code",
   "execution_count": null,
   "id": "c97814f9-c45c-4979-a631-0d4a01833858",
   "metadata": {},
   "outputs": [],
   "source": [
    "# Funktion zur Berechnung der Wahrscheinlichkeit\n",
    "#def kaufwahrscheinlichkeit(einkommen, alter, geschlecht, zeit):\n",
    "   # logit_p = (intercept +\n",
    "         #      coef_einkommen * einkommen / + #Einkommen skalieren (overflow error)\n",
    "      #         coef_alter * alter +\n",
    "    # #          coef_geschlecht * geschlecht +\n",
    "  #             coef_zeit * zeit)\n",
    "   # return 1 / (1 + np.exp(-logit_p))"
   ]
  },
  {
   "cell_type": "code",
   "execution_count": null,
   "id": "869ca9c9-fd32-4717-8b27-7857ebc779be",
   "metadata": {},
   "outputs": [],
   "source": [
    "\n",
    "# Logistische Funktion ohne Überlauf\n",
    "def logistic_function(x):\n",
    "    return np.exp(x) / (1 + np.exp(x))"
   ]
  },
  {
   "cell_type": "code",
   "execution_count": null,
   "id": "88fd08f0-47e6-4614-97a0-78a97ce9a8df",
   "metadata": {},
   "outputs": [],
   "source": [
    "# Funktion zur Berechnung der Wahrscheinlichkeit\n",
    "def kaufwahrscheinlichkeit(einkommen, alter, geschlecht, zeit):\n",
    "    x = np.array([1, einkommen / 10000, alter / 10, geschlecht, zeit / 10])\n",
    "    logit_p = np.dot([intercept, coef_einkommen, coef_alter, coef_geschlecht, coef_zeit], x)\n",
    "    logit_p = np.clip(logit_p, -709, 709)\n",
    "    return logistic_function(logit_p)"
   ]
  },
  {
   "cell_type": "code",
   "execution_count": null,
   "id": "9e859381-abad-4555-aaec-f52a62075422",
   "metadata": {},
   "outputs": [],
   "source": [
    "#F18.1\n",
    "wahrscheinlichkeit1 = kaufwahrscheinlichkeit(30000, 32, 1, 30)\n",
    "f\"Wahrscheinlichkeit für Szenario 1: {wahrscheinlichkeit1:.4f}\"\n"
   ]
  },
  {
   "cell_type": "code",
   "execution_count": null,
   "id": "b541d6c9-c461-4fe4-b7d6-9ff16e8859a8",
   "metadata": {},
   "outputs": [],
   "source": [
    "#F18.2\n",
    "wahrscheinlichkeit2 = kaufwahrscheinlichkeit(54000, 51, 1, 45)\n",
    "print(f\"Wahrscheinlichkeit für Szenario 2: {wahrscheinlichkeit2:.4f}\")"
   ]
  }
 ],
 "metadata": {
  "kernelspec": {
   "display_name": "Python 3 (ipykernel)",
   "language": "python",
   "name": "python3"
  },
  "language_info": {
   "codemirror_mode": {
    "name": "ipython",
    "version": 3
   },
   "file_extension": ".py",
   "mimetype": "text/x-python",
   "name": "python",
   "nbconvert_exporter": "python",
   "pygments_lexer": "ipython3",
   "version": "3.11.7"
  }
 },
 "nbformat": 4,
 "nbformat_minor": 5
}
